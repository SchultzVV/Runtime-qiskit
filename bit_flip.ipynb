{
 "cells": [
  {
   "cell_type": "code",
   "execution_count": 1,
   "metadata": {},
   "outputs": [],
   "source": [
    "'''                                  ReadMe                                                      '''\n",
    "'''# Nessa célula vamos apenas mudar a função geradora do estado a ser preparado                 '''\n",
    "'''# Basta alterar a função que gera o estado, nesse caso target_op = init_state_ref(n_qubits, p)'''\n",
    "\n",
    "from src.vqa_tools import general_vqacircuit_penny \n",
    "from src.state_initializer import  init_state_ref,init_state_bpf\n",
    "from src.generalize import *\n",
    "from torch import tensor\n",
    "from numpy import sin,cos,sqrt,outer,zeros, pi\n",
    "import cmath\n",
    "import pickle\n",
    "\n",
    "def state_bit_flip(theta, phi, p):\n",
    "    state = zeros(4,dtype=complex)    \n",
    "    state[0] = sqrt(p)*cos(theta/2)\n",
    "    state[1] = sqrt(1-p)*cos(theta/2)\n",
    "    state[2] = sqrt(p)*cmath.exp(1j*phi)*sin(theta/2)\n",
    "    state[3] = sqrt(1-p)*cmath.exp(1j*phi)*sin(theta/2)\n",
    "    target_op = outer(state.conj(), state)\n",
    "    target_op = tensor(target_op)\n",
    "    return target_op\n",
    "\n",
    "\n",
    "def run_calcs(list_p, epochs):\n",
    "    coerencias_R = []\n",
    "    coerencias_L = []\n",
    "    pretrain = True\n",
    "    count = 0\n",
    "    n_qubits = 2\n",
    "    depht = 3\n",
    "    _, params, _, _ = start_things(2, 3)\n",
    "    for p in list_p:\n",
    "        print(f'{count} de {len(list_p)}')\n",
    "        count += 1\n",
    "\n",
    "        circuit, _ = general_vqacircuit_penny(n_qubits, depht)\n",
    "\n",
    "        #_, target_op = init_state_ref(n_qubits, p)\n",
    "        #_, target_op = init_state_bpf(n_qubits, p)\n",
    "        #target_op = state_amplitude_damping(pi/2, 0, p)\n",
    "        #target_op = state_generalized_amplitude_damping(pi/2, 0, p,1)\n",
    "        target_op = state_bit_flip(pi/2, 0, p)\n",
    "        qc, qr, params = optmize(epochs, n_qubits, circuit, params, target_op, pretrain)\n",
    "        pretrain = False\n",
    "        rho = tomograph(qc, qr)\n",
    "        #print(rho)\n",
    "        coerencias_L, coerencias_R = results(rho, coerencias_R, coerencias_L)\n",
    "\n",
    "    plots(list_p, coerencias_R, coerencias_L)\n",
    "    print(type(params))\n",
    "    with open('best_params_bf.pkl', 'wb') as f:\n",
    "        pickle.dump(params, f)"
   ]
  },
  {
   "cell_type": "code",
   "execution_count": 4,
   "metadata": {},
   "outputs": [
    {
     "name": "stdout",
     "output_type": "stream",
     "text": [
      "0 de 5\n",
      "1 de 5\n",
      "2 de 5\n",
      "3 de 5\n",
      "4 de 5\n"
     ]
    },
    {
     "data": {
      "image/png": "[encoded data removed]",
      "text/plain": [
       "<Figure size 640x480 with 1 Axes>"
      ]
     },
     "metadata": {},
     "output_type": "display_data"
    }
   ],
   "source": [
    "from numpy import linspace\n",
    "list_p = linspace(0,1,5)\n",
    "#print(list_p)\n",
    "run_calcs(list_p, 50)"
   ]
  },
  {
   "cell_type": "code",
   "execution_count": 1,
   "metadata": {},
   "outputs": [
    {
     "name": "stdout",
     "output_type": "stream",
     "text": [
      "[0.   0.25 0.5  0.75 1.  ]\n"
     ]
    }
   ],
   "source": [
    "from numpy import linspace\n",
    "list_p = linspace(0,1,5)\n",
    "print(list_p)"
   ]
  },
  {
   "attachments": {},
   "cell_type": "markdown",
   "metadata": {},
   "source": [
    "# Abaixo é rodando no quantico com job docker"
   ]
  },
  {
   "cell_type": "code",
   "execution_count": null,
   "metadata": {},
   "outputs": [],
   "source": [
    "from pennylane_qiskit import upload_vqe_runner, vqe_runner\n",
    "import pennylane as qml\n",
    "from qiskit import IBMQ\n",
    "#IBMQ.enable_account(token)\n",
    "\n",
    "program_id = upload_vqe_runner(hub=\"ibm-q\", group=\"open\", project=\"main\")\n",
    "print(program_id)\n",
    "def vqe_circuit(params):\n",
    "    qml.RX(params[0], wires=0)\n",
    "    qml.RY(params[1], wires=0)\n",
    "shots = 10\n",
    "\n",
    "coeffs = [1, 1]\n",
    "obs = [qml.PauliX(0), qml.PauliZ(0)]\n",
    "hamiltonian = qml.Hamiltonian(coeffs, obs)\n",
    "\n",
    "job = vqe_runner(\n",
    "    program_id=program_id,\n",
    "    backend=\"ibmq_manila\",\n",
    "    hamiltonian=hamiltonian,\n",
    "    ansatz=vqe_circuit,\n",
    "    x0=[3.97507603, 3.00854038],\n",
    "    shots=shots,\n",
    "    optimizer=\"SPSA\",\n",
    "    optimizer_config={\"maxiter\": 40},\n",
    "    kwargs={\"hub\": \"ibm-q\", \"group\": \"open\", \"project\": \"main\"},\n",
    ")"
   ]
  }
 ],
 "metadata": {
  "kernelspec": {
   "display_name": "env",
   "language": "python",
   "name": "python3"
  },
  "language_info": {
   "codemirror_mode": {
    "name": "ipython",
    "version": 3
   },
   "file_extension": ".py",
   "mimetype": "text/x-python",
   "name": "python",
   "nbconvert_exporter": "python",
   "pygments_lexer": "ipython3",
   "version": "3.10.6"
  },
  "orig_nbformat": 4,
  "vscode": {
   "interpreter": {
    "hash": "f309f41cc1031c3222a5eb4c6b99ec5d3d1a742e018bf44f3accb1cd68cc28ab"
   }
  }
 },
 "nbformat": 4,
 "nbformat_minor": 2
}
