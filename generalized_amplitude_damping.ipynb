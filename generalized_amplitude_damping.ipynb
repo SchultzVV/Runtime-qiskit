{
 "cells": [
  {
   "cell_type": "code",
   "execution_count": 57,
   "metadata": {},
   "outputs": [],
   "source": [
    "'''                                  ReadMe                                                      '''\n",
    "'''# Nessa célula vamos apenas mudar a função geradora do estado a ser preparado                 '''\n",
    "'''# Basta alterar a função que gera o estado, nesse caso target_op = init_state_ref(n_qubits, p)'''\n",
    "\n",
    "from src.vqa_tools import general_vqacircuit_penny \n",
    "from src.state_initializer import  init_state_ref,init_state_bpf\n",
    "from src.generalize import *\n",
    "from torch import tensor\n",
    "from numpy import sin,cos,sqrt,outer,zeros, pi\n",
    "import cmath\n",
    "\n",
    "def state_generalized_amplitude_damping(theta, phi, p, gamma):\n",
    "    state = zeros(8,dtype=complex)    \n",
    "    state[0] = sqrt(p)*cos(theta/2) # 000\n",
    "    state[1] = sqrt(p*gamma)*cmath.exp(1j*phi)*sin(theta/2) # 001\n",
    "    state[2] = sqrt((1-p)*(1-gamma))*cos(theta/2)#   010\n",
    "    state[4] = sqrt(p*(1-gamma))*cmath.exp(1j*phi)*sin(theta/2) # 100\n",
    "    state[6] = sqrt(1-p)*cmath.exp(1j*phi)*sin(theta/2) #  110\n",
    "    state[7] = sqrt(1-p)*gamma*cos(theta/2) #  111\n",
    "    target_op = outer(state.conj(), state)\n",
    "    target_op = tensor(target_op)\n",
    "    return target_op\n",
    "\n",
    "\n",
    "def run_calcs(list_p, epochs):\n",
    "    coerencias_R = []\n",
    "    coerencias_L = []\n",
    "    count = 0\n",
    "    pretrain = True\n",
    "    n_qubits = 3\n",
    "    depht = 4\n",
    "    _, params, _, _ = start_things(n_qubits, depht)\n",
    "    for p in list_p:\n",
    "        print(f'{count} de {len(list_p)}')\n",
    "        count += 1\n",
    "\n",
    "        circuit, _ = general_vqacircuit_penny(n_qubits, depht)\n",
    "\n",
    "        #_, target_op = init_state_ref(n_qubits, p)\n",
    "        #_, target_op = init_state_bpf(n_qubits, p)\n",
    "        #target_op = state_amplitude_damping(pi/2, 0, p)\n",
    "        target_op = state_generalized_amplitude_damping(pi/2, 0, p,1)\n",
    "\n",
    "        pretrain = False\n",
    "        qc, qr, params = optmize(epochs, n_qubits, circuit, params, target_op, pretrain)\n",
    "\n",
    "        rho = tomograph(qc, qr)\n",
    "        #print(rho)\n",
    "        coerencias_L, coerencias_R = results(rho, coerencias_R, coerencias_L)\n",
    "\n",
    "    plots(list_p, coerencias_R, coerencias_L)"
   ]
  },
  {
   "cell_type": "code",
   "execution_count": 58,
   "metadata": {},
   "outputs": [
    {
     "name": "stdout",
     "output_type": "stream",
     "text": [
      "[0.   0.25 0.5  0.75 1.  ]\n",
      "0 de 5\n",
      "1 de 5\n",
      "2 de 5\n",
      "3 de 5\n",
      "4 de 5\n"
     ]
    }
   ],
   "source": [
    "list_p = np.linspace(0,1,5)\n",
    "print(list_p)\n",
    "run_calcs(list_p, 50)"
   ]
  },
  {
   "cell_type": "code",
   "execution_count": null,
   "metadata": {},
   "outputs": [],
   "source": []
  }
 ],
 "metadata": {
  "kernelspec": {
   "display_name": "env",
   "language": "python",
   "name": "python3"
  },
  "language_info": {
   "codemirror_mode": {
    "name": "ipython",
    "version": 3
   },
   "file_extension": ".py",
   "mimetype": "text/x-python",
   "name": "python",
   "nbconvert_exporter": "python",
   "pygments_lexer": "ipython3",
   "version": "3.10.6"
  },
  "orig_nbformat": 4,
  "vscode": {
   "interpreter": {
    "hash": "f309f41cc1031c3222a5eb4c6b99ec5d3d1a742e018bf44f3accb1cd68cc28ab"
   }
  }
 },
 "nbformat": 4,
 "nbformat_minor": 2
}
