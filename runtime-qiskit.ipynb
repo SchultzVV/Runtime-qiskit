{
 "cells": [
  {
   "cell_type": "code",
   "execution_count": 1,
   "metadata": {},
   "outputs": [
    {
     "data": {
      "image/png": "[encoded data removed]",
      "text/plain": [
       "<Figure size 900x200 with 1 Axes>"
      ]
     },
     "metadata": {},
     "output_type": "display_data"
    }
   ],
   "source": [
    "from tools import *\n",
    "n_qubits = 1\n",
    "circuit, params = vqa_gen_state(n_qubits)\n",
    "target_vector, target_op = init_state_gen_state(np.pi/2,0)\n",
    "best_params, f = train(10, circuit, params, target_op)\n",
    "fig, ax = qml.draw_mpl(circuit, decimals=3)(params, target_op)\n",
    "plt.show()"
   ]
  },
  {
   "cell_type": "code",
   "execution_count": 1,
   "metadata": {},
   "outputs": [
    {
     "data": {
      "image/png": "[encoded data removed]",
      "text/plain": [
       "<Figure size 203.683x200.667 with 1 Axes>"
      ]
     },
     "metadata": {},
     "output_type": "display_data"
    },
    {
     "name": "stdout",
     "output_type": "stream",
     "text": [
      " > Observable: ['IZ']\n",
      " > Expectation value: -1.0\n",
      " > Metadata: {}\n"
     ]
    }
   ],
   "source": [
    "from qiskit_ibm_runtime import QiskitRuntimeService\n",
    "# Save an IBM Quantum account.\n",
    "QiskitRuntimeService.save_account(channel='ibm_quantum', \n",
    "                                  #channel='ibm_cloud', \n",
    "                                  token='7cc830e0cb005ce6de9caf9c402a1992c5d38d25af4237c19e72a4c58ce204481eb7a0d08b9929e5b5d3028f3146c38d2da8f2eb8db8f6f8b02a97eeb8fbc6de',\n",
    "                                  overwrite=True)\n",
    "service = QiskitRuntimeService(\n",
    "    channel='ibm_quantum',\n",
    "    instance='ibm-q/open/main'\n",
    "    #instance='ibm-q-research-2/federal-uni-sant-1/main'\n",
    ")\n",
    "backend = service.get_backend(\"ibmq_qasm_simulator\")\n",
    "\n",
    "from qiskit.circuit.random import random_circuit\n",
    "from qiskit.quantum_info import SparsePauliOp\n",
    "from qiskit.primitives import Estimator\n",
    "from qiskit import QuantumCircuit\n",
    "\n",
    "#circuit = random_circuit(2, 2, seed=1).decompose(reps=1)\n",
    "circuit = QuantumCircuit(2)\n",
    "circuit.x(0)\n",
    "circuit.draw(output='mpl')\n",
    "observable = SparsePauliOp(\"IZ\") # ordem ...210\n",
    "\n",
    "#options = {\"backend_name\": \"ibmq_qasm_simulator\"}\n",
    "estimator = Estimator()#options=options)\n",
    "job = estimator.run(circuit, observable)\n",
    "result = job.result()\n",
    "\n",
    "display(circuit.draw(\"mpl\"))\n",
    "print(f\" > Observable: {observable.paulis}\")\n",
    "print(f\" > Expectation value: {result.values[0]}\")\n",
    "print(f\" > Metadata: {result.metadata[0]}\")"
   ]
  },
  {
   "cell_type": "code",
   "execution_count": 9,
   "metadata": {},
   "outputs": [
    {
     "name": "stderr",
     "output_type": "stream",
     "text": [
      "/tmp/ipykernel_49939/3078647834.py:3: DeprecationWarning: Note that the 'job_id' and 'backend' attributes of a runtime job have been deprecated as of qiskit-ibm-runtime 0.7 and will be removed no sooner than 3 months after the release date. Please use the job_id() and backend() methods instead.\n",
      "  job = service.run(program_id=\"hello-world\",\n"
     ]
    },
    {
     "name": "stdout",
     "output_type": "stream",
     "text": [
      "Hello, World!\n"
     ]
    }
   ],
   "source": [
    "program_inputs = {'iterations': 1}\n",
    "options = {\"backend_name\": \"ibmq_qasm_simulator\"}\n",
    "job = service.run(program_id=\"hello-world\",\n",
    "                  options=options,\n",
    "                  inputs=program_inputs\n",
    "                 )\n",
    "#print(f\"job id: {job.job_id()}\")\n",
    "result = job.result()\n",
    "print(result)"
   ]
  },
  {
   "cell_type": "code",
   "execution_count": 10,
   "metadata": {},
   "outputs": [
    {
     "name": "stdout",
     "output_type": "stream",
     "text": [
      "[0.70710678+0.j 0.70710678+0.j]\n"
     ]
    }
   ],
   "source": [
    "from tools import vqa_bpf\n",
    "import cmath\n",
    "import numpy as np\n",
    "import torch\n",
    "\n",
    "def general_state(theta, phi):\n",
    "    state = np.zeros(2,dtype=complex)\n",
    "    state[0] = np.cos(theta/2)\n",
    "    state[1] = cmath.exp(1j*phi)*np.sin(theta/2)\n",
    "    return state\n",
    "print(general_state(np.pi/2,0))\n",
    "\n",
    "def init_state_gen_state(n_qb, p):\n",
    "    d = 2**n_qb\n",
    "    target_vector = general_state(np.pi/2, 0)\n",
    "    target_op = np.outer(target_vector.conj(), target_vector)\n",
    "    target_op = torch.tensor(target_op)\n",
    "    return target_vector, target_op"
   ]
  },
  {
   "cell_type": "code",
   "execution_count": 11,
   "metadata": {},
   "outputs": [],
   "source": [
    "backend = service.get_backend(\"ibmq_qasm_simulator\")\n"
   ]
  },
  {
   "cell_type": "code",
   "execution_count": 2,
   "metadata": {},
   "outputs": [
    {
     "data": {
      "image/png": "[encoded data removed]",
      "text/plain": [
       "<Figure size 203.683x200.667 with 1 Axes>"
      ]
     },
     "metadata": {},
     "output_type": "display_data"
    },
    {
     "name": "stdout",
     "output_type": "stream",
     "text": [
      " > Observable: ['IZ']\n",
      " > Expectation value: -1.0\n",
      " > Metadata: {}\n"
     ]
    }
   ],
   "source": [
    "from qiskit.circuit.random import random_circuit\n",
    "from qiskit.quantum_info import SparsePauliOp\n",
    "from qiskit.primitives import Estimator\n",
    "from qiskit import QuantumCircuit\n",
    "\n",
    "#circuit = random_circuit(2, 2, seed=1).decompose(reps=1)\n",
    "circuit = QuantumCircuit(2)\n",
    "circuit.x(0)\n",
    "circuit.draw(output='mpl')\n",
    "observable = SparsePauliOp(\"IZ\") # ordem ...210\n",
    "\n",
    "#options = {\"backend_name\": \"ibmq_qasm_simulator\"}\n",
    "estimator = Estimator()#options=options)\n",
    "job = estimator.run(circuit, observable)\n",
    "result = job.result()\n",
    "\n",
    "display(circuit.draw(\"mpl\"))\n",
    "print(f\" > Observable: {observable.paulis}\")\n",
    "print(f\" > Expectation value: {result.values[0]}\")\n",
    "print(f\" > Metadata: {result.metadata[0]}\")"
   ]
  },
  {
   "cell_type": "code",
   "execution_count": null,
   "metadata": {},
   "outputs": [],
   "source": []
  },
  {
   "cell_type": "code",
   "execution_count": null,
   "metadata": {},
   "outputs": [],
   "source": []
  },
  {
   "attachments": {},
   "cell_type": "markdown",
   "metadata": {},
   "source": [
    "# Iniciando o vqa_gen"
   ]
  },
  {
   "cell_type": "code",
   "execution_count": 18,
   "metadata": {},
   "outputs": [
    {
     "name": "stderr",
     "output_type": "stream",
     "text": [
      "configrc.store_credentials:WARNING:2023-02-22 15:06:57,836: Credentials already present. Set overwrite=True to overwrite.\n",
      "ibmqfactory.load_account:WARNING:2023-02-22 15:06:58,086: Credentials are already in use. The existing account in the session will be replaced.\n"
     ]
    },
    {
     "ename": "AttributeError",
     "evalue": "module 'qiskit_aer' has no attribute 'Aer'",
     "output_type": "error",
     "traceback": [
      "\u001b[0;31m---------------------------------------------------------------------------\u001b[0m",
      "\u001b[0;31mAttributeError\u001b[0m                            Traceback (most recent call last)",
      "\u001b[0;32m/tmp/ipykernel_49939/897723904.py\u001b[0m in \u001b[0;36m<module>\u001b[0;34m\u001b[0m\n\u001b[1;32m      6\u001b[0m \u001b[0mprovider\u001b[0m \u001b[0;34m=\u001b[0m \u001b[0mqiskit\u001b[0m\u001b[0;34m.\u001b[0m\u001b[0mIBMQ\u001b[0m\u001b[0;34m.\u001b[0m\u001b[0mget_provider\u001b[0m\u001b[0;34m(\u001b[0m\u001b[0mhub\u001b[0m\u001b[0;34m=\u001b[0m\u001b[0;34m'ibm-q'\u001b[0m\u001b[0;34m,\u001b[0m \u001b[0mgroup\u001b[0m\u001b[0;34m=\u001b[0m\u001b[0;34m'open'\u001b[0m\u001b[0;34m,\u001b[0m \u001b[0mproject\u001b[0m\u001b[0;34m=\u001b[0m\u001b[0;34m'main'\u001b[0m\u001b[0;34m)\u001b[0m\u001b[0;34m\u001b[0m\u001b[0;34m\u001b[0m\u001b[0m\n\u001b[1;32m      7\u001b[0m \u001b[0mdevice\u001b[0m \u001b[0;34m=\u001b[0m \u001b[0mprovider\u001b[0m\u001b[0;34m.\u001b[0m\u001b[0mget_backend\u001b[0m\u001b[0;34m(\u001b[0m\u001b[0;34m'ibmq_quito'\u001b[0m\u001b[0;34m)\u001b[0m\u001b[0;34m\u001b[0m\u001b[0;34m\u001b[0m\u001b[0m\n\u001b[0;32m----> 8\u001b[0;31m \u001b[0msimulator\u001b[0m \u001b[0;34m=\u001b[0m \u001b[0mAer\u001b[0m\u001b[0;34m.\u001b[0m\u001b[0mget_backend\u001b[0m\u001b[0;34m(\u001b[0m\u001b[0;34m'qasm_simulator'\u001b[0m\u001b[0;34m)\u001b[0m\u001b[0;34m\u001b[0m\u001b[0;34m\u001b[0m\u001b[0m\n\u001b[0m\u001b[1;32m      9\u001b[0m \u001b[0;32mfrom\u001b[0m \u001b[0mqiskit\u001b[0m\u001b[0;34m.\u001b[0m\u001b[0mtools\u001b[0m\u001b[0;34m.\u001b[0m\u001b[0mmonitor\u001b[0m \u001b[0;32mimport\u001b[0m \u001b[0mjob_monitor\u001b[0m\u001b[0;34m\u001b[0m\u001b[0;34m\u001b[0m\u001b[0m\n",
      "\u001b[0;32m~/anaconda3/lib/python3.9/site-packages/qiskit/__init__.py\u001b[0m in \u001b[0;36m__getattr__\u001b[0;34m(self, attr)\u001b[0m\n\u001b[1;32m    132\u001b[0m                 \u001b[0;32mfrom\u001b[0m \u001b[0mqiskit\u001b[0m\u001b[0;34m.\u001b[0m\u001b[0mproviders\u001b[0m \u001b[0;32mimport\u001b[0m \u001b[0maer\u001b[0m\u001b[0;34m\u001b[0m\u001b[0;34m\u001b[0m\u001b[0m\n\u001b[1;32m    133\u001b[0m \u001b[0;34m\u001b[0m\u001b[0m\n\u001b[0;32m--> 134\u001b[0;31m                 \u001b[0mself\u001b[0m\u001b[0;34m.\u001b[0m\u001b[0maer\u001b[0m \u001b[0;34m=\u001b[0m \u001b[0maer\u001b[0m\u001b[0;34m.\u001b[0m\u001b[0mAer\u001b[0m\u001b[0;34m\u001b[0m\u001b[0;34m\u001b[0m\u001b[0m\n\u001b[0m\u001b[1;32m    135\u001b[0m                 warnings.warn(\n\u001b[1;32m    136\u001b[0m                     \u001b[0;34m\"The qiskit.Aer entry point will be deprecated in a future release and \"\u001b[0m\u001b[0;34m\u001b[0m\u001b[0;34m\u001b[0m\u001b[0m\n",
      "\u001b[0;31mAttributeError\u001b[0m: module 'qiskit_aer' has no attribute 'Aer'"
     ]
    }
   ],
   "source": [
    "import qiskit\n",
    "from qiskit import *\n",
    "nshots = 8192\n",
    "IBMQ.save_account('7cc830e0cb005ce6de9caf9c402a1992c5d38d25af4237c19e72a4c58ce204481eb7a0d08b9929e5b5d3028f3146c38d2da8f2eb8db8f6f8b02a97eeb8fbc6de')\n",
    "IBMQ.load_account()\n",
    "provider = qiskit.IBMQ.get_provider(hub='ibm-q', group='open', project='main')\n",
    "device = provider.get_backend('ibmq_quito')\n",
    "simulator = Aer.get_backend('qasm_simulator')\n",
    "from qiskit.tools.monitor import job_monitor"
   ]
  },
  {
   "cell_type": "code",
   "execution_count": 19,
   "metadata": {},
   "outputs": [
    {
     "name": "stdout",
     "output_type": "stream",
     "text": [
      "Requirement already satisfied: qiskit-aer in /home/v/anaconda3/lib/python3.9/site-packages (0.11.2)\n",
      "Requirement already satisfied: numpy>=1.16.3 in /home/v/anaconda3/lib/python3.9/site-packages (from qiskit-aer) (1.21.5)\n",
      "Requirement already satisfied: qiskit-terra>=0.21.0 in /home/v/anaconda3/lib/python3.9/site-packages (from qiskit-aer) (0.23.1)\n",
      "Requirement already satisfied: scipy>=1.0 in /home/v/anaconda3/lib/python3.9/site-packages (from qiskit-aer) (1.9.1)\n",
      "Requirement already satisfied: symengine>=0.9 in /home/v/anaconda3/lib/python3.9/site-packages (from qiskit-terra>=0.21.0->qiskit-aer) (0.9.2)\n",
      "Requirement already satisfied: sympy>=1.3 in /home/v/anaconda3/lib/python3.9/site-packages (from qiskit-terra>=0.21.0->qiskit-aer) (1.10.1)\n",
      "Requirement already satisfied: dill>=0.3 in /home/v/anaconda3/lib/python3.9/site-packages (from qiskit-terra>=0.21.0->qiskit-aer) (0.3.4)\n",
      "Requirement already satisfied: python-dateutil>=2.8.0 in /home/v/anaconda3/lib/python3.9/site-packages (from qiskit-terra>=0.21.0->qiskit-aer) (2.8.2)\n",
      "Requirement already satisfied: rustworkx>=0.12.0 in /home/v/anaconda3/lib/python3.9/site-packages (from qiskit-terra>=0.21.0->qiskit-aer) (0.12.1)\n",
      "Requirement already satisfied: stevedore>=3.0.0 in /home/v/anaconda3/lib/python3.9/site-packages (from qiskit-terra>=0.21.0->qiskit-aer) (4.1.1)\n",
      "Requirement already satisfied: ply>=3.10 in /home/v/anaconda3/lib/python3.9/site-packages (from qiskit-terra>=0.21.0->qiskit-aer) (3.11)\n",
      "Requirement already satisfied: psutil>=5 in /home/v/anaconda3/lib/python3.9/site-packages (from qiskit-terra>=0.21.0->qiskit-aer) (5.9.0)\n",
      "Requirement already satisfied: six>=1.5 in /home/v/anaconda3/lib/python3.9/site-packages (from python-dateutil>=2.8.0->qiskit-terra>=0.21.0->qiskit-aer) (1.16.0)\n",
      "Requirement already satisfied: pbr!=2.1.0,>=2.0.0 in /home/v/anaconda3/lib/python3.9/site-packages (from stevedore>=3.0.0->qiskit-terra>=0.21.0->qiskit-aer) (5.11.1)\n",
      "Requirement already satisfied: mpmath>=0.19 in /home/v/anaconda3/lib/python3.9/site-packages (from sympy>=1.3->qiskit-terra>=0.21.0->qiskit-aer) (1.2.1)\n"
     ]
    }
   ],
   "source": [
    "!pip install qiskit-aer\n"
   ]
  },
  {
   "cell_type": "code",
   "execution_count": 2,
   "metadata": {},
   "outputs": [
    {
     "ename": "NameError",
     "evalue": "name 'general_state' is not defined",
     "output_type": "error",
     "traceback": [
      "\u001b[0;31m---------------------------------------------------------------------------\u001b[0m",
      "\u001b[0;31mNameError\u001b[0m                                 Traceback (most recent call last)",
      "\u001b[0;32m/tmp/ipykernel_54727/3689411386.py\u001b[0m in \u001b[0;36m<module>\u001b[0;34m\u001b[0m\n\u001b[1;32m      2\u001b[0m \u001b[0;32mfrom\u001b[0m \u001b[0mqiskit\u001b[0m\u001b[0;34m.\u001b[0m\u001b[0mvisualization\u001b[0m \u001b[0;32mimport\u001b[0m \u001b[0mplot_state_qsphere\u001b[0m\u001b[0;34m\u001b[0m\u001b[0;34m\u001b[0m\u001b[0m\n\u001b[1;32m      3\u001b[0m \u001b[0;34m\u001b[0m\u001b[0m\n\u001b[0;32m----> 4\u001b[0;31m \u001b[0msv\u001b[0m\u001b[0;34m=\u001b[0m\u001b[0mStatevector\u001b[0m\u001b[0;34m(\u001b[0m\u001b[0mgeneral_state\u001b[0m\u001b[0;34m(\u001b[0m\u001b[0mnp\u001b[0m\u001b[0;34m.\u001b[0m\u001b[0mpi\u001b[0m\u001b[0;34m/\u001b[0m\u001b[0;36m2\u001b[0m\u001b[0;34m,\u001b[0m\u001b[0;36m0\u001b[0m\u001b[0;34m)\u001b[0m\u001b[0;34m)\u001b[0m\u001b[0;34m\u001b[0m\u001b[0;34m\u001b[0m\u001b[0m\n\u001b[0m\u001b[1;32m      5\u001b[0m \u001b[0mplot_state_qsphere\u001b[0m\u001b[0;34m(\u001b[0m\u001b[0msv\u001b[0m\u001b[0;34m)\u001b[0m\u001b[0;34m\u001b[0m\u001b[0;34m\u001b[0m\u001b[0m\n",
      "\u001b[0;31mNameError\u001b[0m: name 'general_state' is not defined"
     ]
    }
   ],
   "source": [
    "from qiskit.quantum_info import Statevector\n",
    "from qiskit.visualization import plot_state_qsphere\n",
    "\n",
    "sv=Statevector(general_state(np.pi/2,0))\n",
    "plot_state_qsphere(sv)"
   ]
  },
  {
   "cell_type": "code",
   "execution_count": 1,
   "metadata": {},
   "outputs": [
    {
     "ename": "ModuleNotFoundError",
     "evalue": "No module named 'torch'",
     "output_type": "error",
     "traceback": [
      "\u001b[0;31m---------------------------------------------------------------------------\u001b[0m",
      "\u001b[0;31mModuleNotFoundError\u001b[0m                       Traceback (most recent call last)",
      "Cell \u001b[0;32mIn[1], line 1\u001b[0m\n\u001b[0;32m----> 1\u001b[0m \u001b[39mfrom\u001b[39;00m \u001b[39mtools\u001b[39;00m \u001b[39mimport\u001b[39;00m \u001b[39m*\u001b[39m\n\u001b[1;32m      2\u001b[0m \u001b[39mdef\u001b[39;00m \u001b[39mvqa_gen_state\u001b[39m(n_qubits, depht\u001b[39m=\u001b[39m\u001b[39mNone\u001b[39;00m):\n\u001b[1;32m      3\u001b[0m     \u001b[39m#n_qubits = 1\u001b[39;00m\n\u001b[1;32m      4\u001b[0m     \u001b[39mif\u001b[39;00m depht \u001b[39m==\u001b[39m \u001b[39mNone\u001b[39;00m:\n",
      "File \u001b[0;32m~/Desktop/Qiskit/tools.py:2\u001b[0m\n\u001b[1;32m      1\u001b[0m \u001b[39m#from sympy njugate\u001b[39;00m\n\u001b[0;32m----> 2\u001b[0m \u001b[39mfrom\u001b[39;00m \u001b[39mtorch\u001b[39;00m\u001b[39m.\u001b[39;00m\u001b[39mautograd\u001b[39;00m \u001b[39mimport\u001b[39;00m Variable\n\u001b[1;32m      3\u001b[0m \u001b[39mimport\u001b[39;00m \u001b[39mtorch\u001b[39;00m\n\u001b[1;32m      4\u001b[0m \u001b[39mfrom\u001b[39;00m \u001b[39mrsvg\u001b[39;00m \u001b[39mimport\u001b[39;00m rsvg\n",
      "\u001b[0;31mModuleNotFoundError\u001b[0m: No module named 'torch'"
     ]
    }
   ],
   "source": [
    "from tools import *\n",
    "def vqa_gen_state(n_qubits, depht=None):\n",
    "    #n_qubits = 1\n",
    "    if depht == None:\n",
    "        depht = n_qubits+1\n",
    "    n = 3*n_qubits*(1+depht)\n",
    "    params = random_params(n)\n",
    "    device = qml.device('qiskit.aer', wires=n_qubits, backend='qasm_simulator')\n",
    "    @qml.qnode(device, interface=\"torch\")\n",
    "    def circuit(params, M=None):\n",
    "        w = [0,1]\n",
    "\n",
    "        for j in range(0,24,6):\n",
    "            #print(j)\n",
    "            qml.RX(params[j], wires=0)\n",
    "            qml.RY(params[j+1], wires=0)\n",
    "            qml.RZ(params[j+2], wires=0)\n",
    "            qml.RX(params[j+3], wires=1)\n",
    "            qml.RY(params[j+4], wires=1)\n",
    "            qml.RZ(params[j+5], wires=1)\n",
    "            if j <18:\n",
    "                qml.CNOT(wires=[0, 1])\n",
    "        return qml.expval(qml.Hermitian(M, wires=w))\n",
    "    return circuit, params\n",
    "n_qubits = 2\n",
    "circuit, params = vqa_gen_state(n_qubits)\n",
    "target_vector, target_op = init_state_gen_state(np.pi/2,0)\n",
    "#best_params, f = train(10, circuit, params, target_op)\n"
   ]
  },
  {
   "cell_type": "code",
   "execution_count": null,
   "metadata": {},
   "outputs": [],
   "source": []
  },
  {
   "cell_type": "code",
   "execution_count": null,
   "metadata": {},
   "outputs": [],
   "source": []
  },
  {
   "cell_type": "code",
   "execution_count": 11,
   "metadata": {},
   "outputs": [
    {
     "ename": "AccountAlreadyExistsError",
     "evalue": "'Named account (default-ibm-quantum) already exists. Set overwrite=True to overwrite.'",
     "output_type": "error",
     "traceback": [
      "\u001b[0;31m---------------------------------------------------------------------------\u001b[0m",
      "\u001b[0;31mAccountAlreadyExistsError\u001b[0m                 Traceback (most recent call last)",
      "Cell \u001b[0;32mIn[11], line 3\u001b[0m\n\u001b[1;32m      1\u001b[0m \u001b[39mfrom\u001b[39;00m \u001b[39mqiskit_ibm_runtime\u001b[39;00m \u001b[39mimport\u001b[39;00m QiskitRuntimeService\n\u001b[0;32m----> 3\u001b[0m QiskitRuntimeService\u001b[39m.\u001b[39;49msave_account(channel\u001b[39m=\u001b[39;49m\u001b[39m\"\u001b[39;49m\u001b[39mibm_quantum\u001b[39;49m\u001b[39m\"\u001b[39;49m, token\u001b[39m=\u001b[39;49m\u001b[39m'\u001b[39;49m\u001b[39m7cc830e0cb005ce6de9caf9c402a1992c5d38d25af4237c19e72a4c58ce204481eb7a0d08b9929e5b5d3028f3146c38d2da8f2eb8db8f6f8b02a97eeb8fbc6de\u001b[39;49m\u001b[39m'\u001b[39;49m)\n",
      "File \u001b[0;32m~/Desktop/Qiskit/generic_state_vqa/lib/python3.10/site-packages/qiskit_ibm_runtime/qiskit_runtime_service.py:634\u001b[0m, in \u001b[0;36mQiskitRuntimeService.save_account\u001b[0;34m(token, url, instance, channel, auth, name, proxies, verify, overwrite)\u001b[0m\n\u001b[1;32m    631\u001b[0m     QiskitRuntimeService\u001b[39m.\u001b[39m_auth_warning()\n\u001b[1;32m    632\u001b[0m     channel \u001b[39m=\u001b[39m channel \u001b[39mor\u001b[39;00m QiskitRuntimeService\u001b[39m.\u001b[39m_get_channel_for_auth(auth)\n\u001b[0;32m--> 634\u001b[0m AccountManager\u001b[39m.\u001b[39;49msave(\n\u001b[1;32m    635\u001b[0m     token\u001b[39m=\u001b[39;49mtoken,\n\u001b[1;32m    636\u001b[0m     url\u001b[39m=\u001b[39;49murl,\n\u001b[1;32m    637\u001b[0m     instance\u001b[39m=\u001b[39;49minstance,\n\u001b[1;32m    638\u001b[0m     channel\u001b[39m=\u001b[39;49mchannel,\n\u001b[1;32m    639\u001b[0m     name\u001b[39m=\u001b[39;49mname,\n\u001b[1;32m    640\u001b[0m     proxies\u001b[39m=\u001b[39;49mProxyConfiguration(\u001b[39m*\u001b[39;49m\u001b[39m*\u001b[39;49mproxies) \u001b[39mif\u001b[39;49;00m proxies \u001b[39melse\u001b[39;49;00m \u001b[39mNone\u001b[39;49;00m,\n\u001b[1;32m    641\u001b[0m     verify\u001b[39m=\u001b[39;49mverify,\n\u001b[1;32m    642\u001b[0m     overwrite\u001b[39m=\u001b[39;49moverwrite,\n\u001b[1;32m    643\u001b[0m )\n",
      "File \u001b[0;32m~/Desktop/Qiskit/generic_state_vqa/lib/python3.10/site-packages/qiskit_ibm_runtime/accounts/management.py:54\u001b[0m, in \u001b[0;36mAccountManager.save\u001b[0;34m(cls, token, url, instance, channel, name, proxies, verify, overwrite)\u001b[0m\n\u001b[1;32m     52\u001b[0m \u001b[39mcls\u001b[39m\u001b[39m.\u001b[39mmigrate()\n\u001b[1;32m     53\u001b[0m name \u001b[39m=\u001b[39m name \u001b[39mor\u001b[39;00m \u001b[39mcls\u001b[39m\u001b[39m.\u001b[39m_get_default_account_name(channel)\n\u001b[0;32m---> 54\u001b[0m \u001b[39mreturn\u001b[39;00m save_config(\n\u001b[1;32m     55\u001b[0m     filename\u001b[39m=\u001b[39;49m_DEFAULT_ACCOUNT_CONFIG_JSON_FILE,\n\u001b[1;32m     56\u001b[0m     name\u001b[39m=\u001b[39;49mname,\n\u001b[1;32m     57\u001b[0m     overwrite\u001b[39m=\u001b[39;49moverwrite,\n\u001b[1;32m     58\u001b[0m     config\u001b[39m=\u001b[39;49mAccount(\n\u001b[1;32m     59\u001b[0m         token\u001b[39m=\u001b[39;49mtoken,\n\u001b[1;32m     60\u001b[0m         url\u001b[39m=\u001b[39;49murl,\n\u001b[1;32m     61\u001b[0m         instance\u001b[39m=\u001b[39;49minstance,\n\u001b[1;32m     62\u001b[0m         channel\u001b[39m=\u001b[39;49mchannel,\n\u001b[1;32m     63\u001b[0m         proxies\u001b[39m=\u001b[39;49mproxies,\n\u001b[1;32m     64\u001b[0m         verify\u001b[39m=\u001b[39;49mverify,\n\u001b[1;32m     65\u001b[0m     )\n\u001b[1;32m     66\u001b[0m     \u001b[39m# avoid storing invalid accounts\u001b[39;49;00m\n\u001b[1;32m     67\u001b[0m     \u001b[39m.\u001b[39;49mvalidate()\u001b[39m.\u001b[39;49mto_saved_format(),\n\u001b[1;32m     68\u001b[0m )\n",
      "File \u001b[0;32m~/Desktop/Qiskit/generic_state_vqa/lib/python3.10/site-packages/qiskit_ibm_runtime/accounts/storage.py:34\u001b[0m, in \u001b[0;36msave_config\u001b[0;34m(filename, name, config, overwrite)\u001b[0m\n\u001b[1;32m     31\u001b[0m     data \u001b[39m=\u001b[39m json\u001b[39m.\u001b[39mload(json_in)\n\u001b[1;32m     33\u001b[0m \u001b[39mif\u001b[39;00m data\u001b[39m.\u001b[39mget(name) \u001b[39mand\u001b[39;00m \u001b[39mnot\u001b[39;00m overwrite:\n\u001b[0;32m---> 34\u001b[0m     \u001b[39mraise\u001b[39;00m AccountAlreadyExistsError(\n\u001b[1;32m     35\u001b[0m         \u001b[39mf\u001b[39m\u001b[39m\"\u001b[39m\u001b[39mNamed account (\u001b[39m\u001b[39m{\u001b[39;00mname\u001b[39m}\u001b[39;00m\u001b[39m) already exists. \u001b[39m\u001b[39m\"\u001b[39m\n\u001b[1;32m     36\u001b[0m         \u001b[39mf\u001b[39m\u001b[39m\"\u001b[39m\u001b[39mSet overwrite=True to overwrite.\u001b[39m\u001b[39m\"\u001b[39m\n\u001b[1;32m     37\u001b[0m     )\n\u001b[1;32m     39\u001b[0m \u001b[39mwith\u001b[39;00m \u001b[39mopen\u001b[39m(filename, mode\u001b[39m=\u001b[39m\u001b[39m\"\u001b[39m\u001b[39mw\u001b[39m\u001b[39m\"\u001b[39m, encoding\u001b[39m=\u001b[39m\u001b[39m\"\u001b[39m\u001b[39mutf-8\u001b[39m\u001b[39m\"\u001b[39m) \u001b[39mas\u001b[39;00m json_out:\n\u001b[1;32m     40\u001b[0m     data[name] \u001b[39m=\u001b[39m config\n",
      "\u001b[0;31mAccountAlreadyExistsError\u001b[0m: 'Named account (default-ibm-quantum) already exists. Set overwrite=True to overwrite.'"
     ]
    }
   ],
   "source": [
    "from qiskit_ibm_runtime import QiskitRuntimeService\n",
    "\n",
    "QiskitRuntimeService.save_account(channel=\"ibm_quantum\", token='7cc830e0cb005ce6de9caf9c402a1992c5d38d25af4237c19e72a4c58ce204481eb7a0d08b9929e5b5d3028f3146c38d2da8f2eb8db8f6f8b02a97eeb8fbc6de')\n"
   ]
  },
  {
   "cell_type": "code",
   "execution_count": 12,
   "metadata": {},
   "outputs": [],
   "source": [
    "\n",
    "service = QiskitRuntimeService(channel=\"ibm_quantum\")\n",
    "backend = service.get_backend(\"ibmq_manila\")"
   ]
  },
  {
   "cell_type": "code",
   "execution_count": 3,
   "metadata": {},
   "outputs": [
    {
     "name": "stderr",
     "output_type": "stream",
     "text": [
      "/tmp/ipykernel_9411/2531918938.py:6: DeprecationWarning: Note that the 'job_id' and 'backend' attributes of a runtime job have been deprecated as of qiskit-ibm-runtime 0.7 and will be removed no sooner than 3 months after the release date. Please use the job_id() and backend() methods instead.\n",
      "  job = service.run(program_id=\"hello-world\",\n"
     ]
    },
    {
     "name": "stdout",
     "output_type": "stream",
     "text": [
      "job id: cfqtvlblcn34i20gvf20\n",
      "Hello, World!\n"
     ]
    }
   ],
   "source": [
    "#   HELLO WORLD\n",
    "\n",
    "service = QiskitRuntimeService()\n",
    "program_inputs = {'iterations': 1}\n",
    "options = {\"backend_name\": \"ibmq_qasm_simulator\"}\n",
    "job = service.run(program_id=\"hello-world\",\n",
    "                options=options,\n",
    "                inputs=program_inputs\n",
    "                )\n",
    "print(f\"job id: {job.job_id()}\")\n",
    "result = job.result()\n",
    "print(result)"
   ]
  },
  {
   "cell_type": "code",
   "execution_count": 9,
   "metadata": {},
   "outputs": [],
   "source": [
    "token = '7cc830e0cb005ce6de9caf9c402a1992c5d38d25af4237c19e72a4c58ce204481eb7a0d08b9929e5b5d3028f3146c38d2da8f2eb8db8f6f8b02a97eeb8fbc6de'\n"
   ]
  },
  {
   "cell_type": "code",
   "execution_count": 14,
   "metadata": {},
   "outputs": [
    {
     "ename": "RequestsApiError",
     "evalue": "'403 Client Error: Forbidden for url: https://runtime-us-east.quantum-computing.ibm.com/jobs. {\"errors\":[{\"code\":\"forbidden\",\"message\":\"user not authorized to run program vqe-runtime-k6rzm0oRb6\",\"more_info\":\"https://cloud.ibm.com/apidocs/quantum-computing#error-handling\"}],\"trace\":\"cfr70ndprpjmbg75sr7g\"}'",
     "output_type": "error",
     "traceback": [
      "\u001b[0;31m---------------------------------------------------------------------------\u001b[0m",
      "\u001b[0;31mHTTPError\u001b[0m                                 Traceback (most recent call last)",
      "File \u001b[0;32m~/Desktop/Qiskit/generic_state_vqa/lib/python3.10/site-packages/qiskit/providers/ibmq/api/session.py:278\u001b[0m, in \u001b[0;36mRetrySession.request\u001b[0;34m(self, method, url, bare, **kwargs)\u001b[0m\n\u001b[1;32m    277\u001b[0m     response \u001b[39m=\u001b[39m \u001b[39msuper\u001b[39m()\u001b[39m.\u001b[39mrequest(method, final_url, headers\u001b[39m=\u001b[39mheaders, \u001b[39m*\u001b[39m\u001b[39m*\u001b[39mkwargs)\n\u001b[0;32m--> 278\u001b[0m     response\u001b[39m.\u001b[39;49mraise_for_status()\n\u001b[1;32m    279\u001b[0m \u001b[39mexcept\u001b[39;00m RequestException \u001b[39mas\u001b[39;00m ex:\n\u001b[1;32m    280\u001b[0m     \u001b[39m# Wrap the requests exceptions into a IBM Q custom one, for\u001b[39;00m\n\u001b[1;32m    281\u001b[0m     \u001b[39m# compatibility.\u001b[39;00m\n",
      "File \u001b[0;32m~/Desktop/Qiskit/generic_state_vqa/lib/python3.10/site-packages/requests/models.py:1021\u001b[0m, in \u001b[0;36mResponse.raise_for_status\u001b[0;34m(self)\u001b[0m\n\u001b[1;32m   1020\u001b[0m \u001b[39mif\u001b[39;00m http_error_msg:\n\u001b[0;32m-> 1021\u001b[0m     \u001b[39mraise\u001b[39;00m HTTPError(http_error_msg, response\u001b[39m=\u001b[39m\u001b[39mself\u001b[39m)\n",
      "\u001b[0;31mHTTPError\u001b[0m: 403 Client Error: Forbidden for url: https://runtime-us-east.quantum-computing.ibm.com/jobs",
      "\nThe above exception was the direct cause of the following exception:\n",
      "\u001b[0;31mRequestsApiError\u001b[0m                          Traceback (most recent call last)",
      "Cell \u001b[0;32mIn[14], line 17\u001b[0m\n\u001b[1;32m     14\u001b[0m obs \u001b[39m=\u001b[39m [qml\u001b[39m.\u001b[39mPauliX(\u001b[39m0\u001b[39m), qml\u001b[39m.\u001b[39mPauliZ(\u001b[39m0\u001b[39m)]\n\u001b[1;32m     15\u001b[0m hamiltonian \u001b[39m=\u001b[39m qml\u001b[39m.\u001b[39mHamiltonian(coeffs, obs)\n\u001b[0;32m---> 17\u001b[0m job \u001b[39m=\u001b[39m vqe_runner(\n\u001b[1;32m     18\u001b[0m     program_id\u001b[39m=\u001b[39;49mprogram_id,\n\u001b[1;32m     19\u001b[0m     backend\u001b[39m=\u001b[39;49m\u001b[39m\"\u001b[39;49m\u001b[39mibmq_manila\u001b[39;49m\u001b[39m\"\u001b[39;49m,\n\u001b[1;32m     20\u001b[0m     hamiltonian\u001b[39m=\u001b[39;49mhamiltonian,\n\u001b[1;32m     21\u001b[0m     ansatz\u001b[39m=\u001b[39;49mvqe_circuit,\n\u001b[1;32m     22\u001b[0m     x0\u001b[39m=\u001b[39;49m[\u001b[39m3.97507603\u001b[39;49m, \u001b[39m3.00854038\u001b[39;49m],\n\u001b[1;32m     23\u001b[0m     shots\u001b[39m=\u001b[39;49mshots,\n\u001b[1;32m     24\u001b[0m     optimizer\u001b[39m=\u001b[39;49m\u001b[39m\"\u001b[39;49m\u001b[39mSPSA\u001b[39;49m\u001b[39m\"\u001b[39;49m,\n\u001b[1;32m     25\u001b[0m     optimizer_config\u001b[39m=\u001b[39;49m{\u001b[39m\"\u001b[39;49m\u001b[39mmaxiter\u001b[39;49m\u001b[39m\"\u001b[39;49m: \u001b[39m40\u001b[39;49m},\n\u001b[1;32m     26\u001b[0m     kwargs\u001b[39m=\u001b[39;49m{\u001b[39m\"\u001b[39;49m\u001b[39mhub\u001b[39;49m\u001b[39m\"\u001b[39;49m: \u001b[39m\"\u001b[39;49m\u001b[39mibm-q\u001b[39;49m\u001b[39m\"\u001b[39;49m, \u001b[39m\"\u001b[39;49m\u001b[39mgroup\u001b[39;49m\u001b[39m\"\u001b[39;49m: \u001b[39m\"\u001b[39;49m\u001b[39mopen\u001b[39;49m\u001b[39m\"\u001b[39;49m, \u001b[39m\"\u001b[39;49m\u001b[39mproject\u001b[39;49m\u001b[39m\"\u001b[39;49m: \u001b[39m\"\u001b[39;49m\u001b[39mmain\u001b[39;49m\u001b[39m\"\u001b[39;49m},\n\u001b[1;32m     27\u001b[0m )\n",
      "File \u001b[0;32m~/Desktop/Qiskit/generic_state_vqa/lib/python3.10/site-packages/pennylane_qiskit/vqe_runtime_runner.py:310\u001b[0m, in \u001b[0;36mvqe_runner\u001b[0;34m(backend, hamiltonian, x0, program_id, ansatz, ansatz_config, optimizer, optimizer_config, shots, use_measurement_mitigation, **kwargs)\u001b[0m\n\u001b[1;32m    308\u001b[0m \u001b[39m# Callbacks functions are different between optimizers.\u001b[39;00m\n\u001b[1;32m    309\u001b[0m \u001b[39mif\u001b[39;00m optimizer \u001b[39min\u001b[39;00m [\u001b[39m\"\u001b[39m\u001b[39mSPSA\u001b[39m\u001b[39m\"\u001b[39m, \u001b[39m\"\u001b[39m\u001b[39mQNSPSA\u001b[39m\u001b[39m\"\u001b[39m]:\n\u001b[0;32m--> 310\u001b[0m     job \u001b[39m=\u001b[39m provider\u001b[39m.\u001b[39;49mruntime\u001b[39m.\u001b[39;49mrun(\n\u001b[1;32m    311\u001b[0m         program_id, options\u001b[39m=\u001b[39;49moptions, inputs\u001b[39m=\u001b[39;49minputs, callback\u001b[39m=\u001b[39;49mrt_job\u001b[39m.\u001b[39;49m_callback\n\u001b[1;32m    312\u001b[0m     )\n\u001b[1;32m    313\u001b[0m \u001b[39melse\u001b[39;00m:\n\u001b[1;32m    314\u001b[0m     job \u001b[39m=\u001b[39m provider\u001b[39m.\u001b[39mruntime\u001b[39m.\u001b[39mrun(\n\u001b[1;32m    315\u001b[0m         program_id, options\u001b[39m=\u001b[39moptions, inputs\u001b[39m=\u001b[39minputs, callback\u001b[39m=\u001b[39mrt_job\u001b[39m.\u001b[39m_scipy_callback\n\u001b[1;32m    316\u001b[0m     )\n",
      "File \u001b[0;32m~/Desktop/Qiskit/generic_state_vqa/lib/python3.10/site-packages/qiskit/providers/ibmq/runtime/ibm_runtime_service.py:287\u001b[0m, in \u001b[0;36mIBMRuntimeService.run\u001b[0;34m(self, program_id, options, inputs, callback, result_decoder, image)\u001b[0m\n\u001b[1;32m    285\u001b[0m backend_name \u001b[39m=\u001b[39m options\u001b[39m.\u001b[39mbackend_name\n\u001b[1;32m    286\u001b[0m result_decoder \u001b[39m=\u001b[39m result_decoder \u001b[39mor\u001b[39;00m ResultDecoder\n\u001b[0;32m--> 287\u001b[0m response \u001b[39m=\u001b[39m \u001b[39mself\u001b[39;49m\u001b[39m.\u001b[39;49m_api_client\u001b[39m.\u001b[39;49mprogram_run(program_id\u001b[39m=\u001b[39;49mprogram_id,\n\u001b[1;32m    288\u001b[0m                                         credentials\u001b[39m=\u001b[39;49m\u001b[39mself\u001b[39;49m\u001b[39m.\u001b[39;49m_provider\u001b[39m.\u001b[39;49mcredentials,\n\u001b[1;32m    289\u001b[0m                                         backend_name\u001b[39m=\u001b[39;49mbackend_name,\n\u001b[1;32m    290\u001b[0m                                         params\u001b[39m=\u001b[39;49minputs,\n\u001b[1;32m    291\u001b[0m                                         image\u001b[39m=\u001b[39;49moptions\u001b[39m.\u001b[39;49mimage,\n\u001b[1;32m    292\u001b[0m                                         log_level\u001b[39m=\u001b[39;49moptions\u001b[39m.\u001b[39;49mlog_level)\n\u001b[1;32m    294\u001b[0m backend \u001b[39m=\u001b[39m \u001b[39mself\u001b[39m\u001b[39m.\u001b[39m_provider\u001b[39m.\u001b[39mget_backend(backend_name)\n\u001b[1;32m    295\u001b[0m job \u001b[39m=\u001b[39m RuntimeJob(backend\u001b[39m=\u001b[39mbackend,\n\u001b[1;32m    296\u001b[0m                  api_client\u001b[39m=\u001b[39m\u001b[39mself\u001b[39m\u001b[39m.\u001b[39m_api_client,\n\u001b[1;32m    297\u001b[0m                  credentials\u001b[39m=\u001b[39m\u001b[39mself\u001b[39m\u001b[39m.\u001b[39m_provider\u001b[39m.\u001b[39mcredentials,\n\u001b[0;32m   (...)\u001b[0m\n\u001b[1;32m    300\u001b[0m                  result_decoder\u001b[39m=\u001b[39mresult_decoder,\n\u001b[1;32m    301\u001b[0m                  image\u001b[39m=\u001b[39moptions\u001b[39m.\u001b[39mimage)\n",
      "File \u001b[0;32m~/Desktop/Qiskit/generic_state_vqa/lib/python3.10/site-packages/qiskit/providers/ibmq/api/clients/runtime.py:130\u001b[0m, in \u001b[0;36mRuntimeClient.program_run\u001b[0;34m(self, program_id, credentials, backend_name, params, image, log_level)\u001b[0m\n\u001b[1;32m    108\u001b[0m \u001b[39mdef\u001b[39;00m \u001b[39mprogram_run\u001b[39m(\n\u001b[1;32m    109\u001b[0m         \u001b[39mself\u001b[39m,\n\u001b[1;32m    110\u001b[0m         program_id: \u001b[39mstr\u001b[39m,\n\u001b[0;32m   (...)\u001b[0m\n\u001b[1;32m    115\u001b[0m         log_level: Optional[\u001b[39mstr\u001b[39m] \u001b[39m=\u001b[39m \u001b[39mNone\u001b[39;00m\n\u001b[1;32m    116\u001b[0m ) \u001b[39m-\u001b[39m\u001b[39m>\u001b[39m Dict:\n\u001b[1;32m    117\u001b[0m \u001b[39m    \u001b[39m\u001b[39m\"\"\"Run the specified program.\u001b[39;00m\n\u001b[1;32m    118\u001b[0m \n\u001b[1;32m    119\u001b[0m \u001b[39m    Args:\u001b[39;00m\n\u001b[0;32m   (...)\u001b[0m\n\u001b[1;32m    128\u001b[0m \u001b[39m        JSON response.\u001b[39;00m\n\u001b[1;32m    129\u001b[0m \u001b[39m    \"\"\"\u001b[39;00m\n\u001b[0;32m--> 130\u001b[0m     \u001b[39mreturn\u001b[39;00m \u001b[39mself\u001b[39;49m\u001b[39m.\u001b[39;49mapi\u001b[39m.\u001b[39;49mprogram_run(program_id\u001b[39m=\u001b[39;49mprogram_id, hub\u001b[39m=\u001b[39;49mcredentials\u001b[39m.\u001b[39;49mhub,\n\u001b[1;32m    131\u001b[0m                                 group\u001b[39m=\u001b[39;49mcredentials\u001b[39m.\u001b[39;49mgroup, project\u001b[39m=\u001b[39;49mcredentials\u001b[39m.\u001b[39;49mproject,\n\u001b[1;32m    132\u001b[0m                                 backend_name\u001b[39m=\u001b[39;49mbackend_name, params\u001b[39m=\u001b[39;49mparams,\n\u001b[1;32m    133\u001b[0m                                 image\u001b[39m=\u001b[39;49mimage, log_level\u001b[39m=\u001b[39;49mlog_level)\n",
      "File \u001b[0;32m~/Desktop/Qiskit/generic_state_vqa/lib/python3.10/site-packages/qiskit/providers/ibmq/api/rest/runtime.py:148\u001b[0m, in \u001b[0;36mRuntime.program_run\u001b[0;34m(self, program_id, hub, group, project, backend_name, params, image, log_level)\u001b[0m\n\u001b[1;32m    146\u001b[0m     payload[\u001b[39m\"\u001b[39m\u001b[39mlog_level\u001b[39m\u001b[39m\"\u001b[39m] \u001b[39m=\u001b[39m log_level\n\u001b[1;32m    147\u001b[0m data \u001b[39m=\u001b[39m json\u001b[39m.\u001b[39mdumps(payload, \u001b[39mcls\u001b[39m\u001b[39m=\u001b[39mRuntimeEncoder)\n\u001b[0;32m--> 148\u001b[0m \u001b[39mreturn\u001b[39;00m \u001b[39mself\u001b[39;49m\u001b[39m.\u001b[39;49msession\u001b[39m.\u001b[39;49mpost(url, data\u001b[39m=\u001b[39;49mdata)\u001b[39m.\u001b[39mjson()\n",
      "File \u001b[0;32m~/Desktop/Qiskit/generic_state_vqa/lib/python3.10/site-packages/requests/sessions.py:635\u001b[0m, in \u001b[0;36mSession.post\u001b[0;34m(self, url, data, json, **kwargs)\u001b[0m\n\u001b[1;32m    624\u001b[0m \u001b[39mdef\u001b[39;00m \u001b[39mpost\u001b[39m(\u001b[39mself\u001b[39m, url, data\u001b[39m=\u001b[39m\u001b[39mNone\u001b[39;00m, json\u001b[39m=\u001b[39m\u001b[39mNone\u001b[39;00m, \u001b[39m*\u001b[39m\u001b[39m*\u001b[39mkwargs):\n\u001b[1;32m    625\u001b[0m \u001b[39m    \u001b[39m\u001b[39mr\u001b[39m\u001b[39m\"\"\"Sends a POST request. Returns :class:`Response` object.\u001b[39;00m\n\u001b[1;32m    626\u001b[0m \n\u001b[1;32m    627\u001b[0m \u001b[39m    :param url: URL for the new :class:`Request` object.\u001b[39;00m\n\u001b[0;32m   (...)\u001b[0m\n\u001b[1;32m    632\u001b[0m \u001b[39m    :rtype: requests.Response\u001b[39;00m\n\u001b[1;32m    633\u001b[0m \u001b[39m    \"\"\"\u001b[39;00m\n\u001b[0;32m--> 635\u001b[0m     \u001b[39mreturn\u001b[39;00m \u001b[39mself\u001b[39;49m\u001b[39m.\u001b[39;49mrequest(\u001b[39m\"\u001b[39;49m\u001b[39mPOST\u001b[39;49m\u001b[39m\"\u001b[39;49m, url, data\u001b[39m=\u001b[39;49mdata, json\u001b[39m=\u001b[39;49mjson, \u001b[39m*\u001b[39;49m\u001b[39m*\u001b[39;49mkwargs)\n",
      "File \u001b[0;32m~/Desktop/Qiskit/generic_state_vqa/lib/python3.10/site-packages/qiskit/providers/ibmq/api/session.py:300\u001b[0m, in \u001b[0;36mRetrySession.request\u001b[0;34m(self, method, url, bare, **kwargs)\u001b[0m\n\u001b[1;32m    297\u001b[0m         \u001b[39m# Modify the original message on the chained exceptions.\u001b[39;00m\n\u001b[1;32m    298\u001b[0m         \u001b[39mself\u001b[39m\u001b[39m.\u001b[39m_modify_chained_exception_messages(ex)\n\u001b[0;32m--> 300\u001b[0m     \u001b[39mraise\u001b[39;00m RequestsApiError(message, status_code) \u001b[39mfrom\u001b[39;00m \u001b[39mex\u001b[39;00m\n\u001b[1;32m    302\u001b[0m \u001b[39mreturn\u001b[39;00m response\n",
      "\u001b[0;31mRequestsApiError\u001b[0m: '403 Client Error: Forbidden for url: https://runtime-us-east.quantum-computing.ibm.com/jobs. {\"errors\":[{\"code\":\"forbidden\",\"message\":\"user not authorized to run program vqe-runtime-k6rzm0oRb6\",\"more_info\":\"https://cloud.ibm.com/apidocs/quantum-computing#error-handling\"}],\"trace\":\"cfr70ndprpjmbg75sr7g\"}'"
     ]
    }
   ],
   "source": [
    "from pennylane_qiskit import upload_vqe_runner, vqe_runner\n",
    "import pennylane as qml\n",
    "from qiskit import IBMQ\n",
    "#IBMQ.enable_account(token)\n",
    "\n",
    "program_id = upload_vqe_runner(hub=\"ibm-q\", group=\"open\", project=\"main\")\n",
    "\n",
    "def vqe_circuit(params):\n",
    "    qml.RX(params[0], wires=0)\n",
    "    qml.RY(params[1], wires=0)\n",
    "shots = 10\n",
    "\n",
    "coeffs = [1, 1]\n",
    "obs = [qml.PauliX(0), qml.PauliZ(0)]\n",
    "hamiltonian = qml.Hamiltonian(coeffs, obs)\n",
    "\n",
    "job = vqe_runner(\n",
    "    program_id=program_id,\n",
    "    backend=\"ibmq_manila\",\n",
    "    hamiltonian=hamiltonian,\n",
    "    ansatz=vqe_circuit,\n",
    "    x0=[3.97507603, 3.00854038],\n",
    "    shots=shots,\n",
    "    optimizer=\"SPSA\",\n",
    "    optimizer_config={\"maxiter\": 40},\n",
    "    kwargs={\"hub\": \"ibm-q\", \"group\": \"open\", \"project\": \"main\"},\n",
    ")"
   ]
  },
  {
   "cell_type": "code",
   "execution_count": 5,
   "metadata": {},
   "outputs": [
    {
     "ename": "AttributeError",
     "evalue": "'RuntimeJobWrapper' object has no attribute 'status'",
     "output_type": "error",
     "traceback": [
      "\u001b[0;31m---------------------------------------------------------------------------\u001b[0m",
      "\u001b[0;31mAttributeError\u001b[0m                            Traceback (most recent call last)",
      "Cell \u001b[0;32mIn[5], line 1\u001b[0m\n\u001b[0;32m----> 1\u001b[0m \u001b[39mprint\u001b[39m(job\u001b[39m.\u001b[39;49mstatus())\n",
      "\u001b[0;31mAttributeError\u001b[0m: 'RuntimeJobWrapper' object has no attribute 'status'"
     ]
    }
   ],
   "source": [
    "print(job.status())"
   ]
  },
  {
   "cell_type": "code",
   "execution_count": 6,
   "metadata": {},
   "outputs": [
    {
     "ename": "KeyboardInterrupt",
     "evalue": "",
     "output_type": "error",
     "traceback": [
      "\u001b[0;31m---------------------------------------------------------------------------\u001b[0m",
      "\u001b[0;31mKeyboardInterrupt\u001b[0m                         Traceback (most recent call last)",
      "Cell \u001b[0;32mIn[6], line 1\u001b[0m\n\u001b[0;32m----> 1\u001b[0m result \u001b[39m=\u001b[39m job\u001b[39m.\u001b[39;49mresult()\n\u001b[1;32m      2\u001b[0m \u001b[39mprint\u001b[39m(result)\n",
      "File \u001b[0;32m~/Desktop/Qiskit/generic_state_vqa/lib/python3.10/site-packages/pennylane_qiskit/vqe_runtime_runner.py:104\u001b[0m, in \u001b[0;36mRuntimeJobWrapper.result\u001b[0;34m(self)\u001b[0m\n\u001b[1;32m     96\u001b[0m \u001b[39mdef\u001b[39;00m \u001b[39mresult\u001b[39m(\u001b[39mself\u001b[39m):\n\u001b[1;32m     97\u001b[0m \u001b[39m    \u001b[39m\u001b[39m\"\"\"Get the result of the job as a SciPy OptimizerResult object.\u001b[39;00m\n\u001b[1;32m     98\u001b[0m \n\u001b[1;32m     99\u001b[0m \u001b[39m    This method blocks until the job is done, cancelled, or raises an error.\u001b[39;00m\n\u001b[0;32m   (...)\u001b[0m\n\u001b[1;32m    102\u001b[0m \u001b[39m        OptimizerResult: An optimizer result object.\u001b[39;00m\n\u001b[1;32m    103\u001b[0m \u001b[39m    \"\"\"\u001b[39;00m\n\u001b[0;32m--> 104\u001b[0m     \u001b[39mreturn\u001b[39;00m \u001b[39mself\u001b[39;49m\u001b[39m.\u001b[39;49m_job\u001b[39m.\u001b[39;49mresult(decoder\u001b[39m=\u001b[39;49m\u001b[39mself\u001b[39;49m\u001b[39m.\u001b[39;49m_decoder)\n",
      "File \u001b[0;32m~/Desktop/Qiskit/generic_state_vqa/lib/python3.10/site-packages/qiskit/providers/ibmq/runtime/runtime_job.py:149\u001b[0m, in \u001b[0;36mRuntimeJob.result\u001b[0;34m(self, timeout, wait, decoder)\u001b[0m\n\u001b[1;32m    147\u001b[0m _decoder \u001b[39m=\u001b[39m decoder \u001b[39mor\u001b[39;00m \u001b[39mself\u001b[39m\u001b[39m.\u001b[39m_result_decoder\n\u001b[1;32m    148\u001b[0m \u001b[39mif\u001b[39;00m \u001b[39mself\u001b[39m\u001b[39m.\u001b[39m_results \u001b[39mis\u001b[39;00m \u001b[39mNone\u001b[39;00m \u001b[39mor\u001b[39;00m (_decoder \u001b[39m!=\u001b[39m \u001b[39mself\u001b[39m\u001b[39m.\u001b[39m_result_decoder):\n\u001b[0;32m--> 149\u001b[0m     \u001b[39mself\u001b[39;49m\u001b[39m.\u001b[39;49mwait_for_final_state(timeout\u001b[39m=\u001b[39;49mtimeout, wait\u001b[39m=\u001b[39;49mwait)\n\u001b[1;32m    150\u001b[0m     \u001b[39mif\u001b[39;00m \u001b[39mself\u001b[39m\u001b[39m.\u001b[39m_status \u001b[39m==\u001b[39m JobStatus\u001b[39m.\u001b[39mERROR:\n\u001b[1;32m    151\u001b[0m         \u001b[39mraise\u001b[39;00m RuntimeJobFailureError(\u001b[39mf\u001b[39m\u001b[39m\"\u001b[39m\u001b[39mUnable to retrieve job result. \u001b[39m\u001b[39m\"\u001b[39m\n\u001b[1;32m    152\u001b[0m                                      \u001b[39mf\u001b[39m\u001b[39m\"\u001b[39m\u001b[39m{\u001b[39;00m\u001b[39mself\u001b[39m\u001b[39m.\u001b[39merror_message()\u001b[39m}\u001b[39;00m\u001b[39m\"\u001b[39m)\n",
      "File \u001b[0;32m~/Desktop/Qiskit/generic_state_vqa/lib/python3.10/site-packages/qiskit/providers/ibmq/runtime/runtime_job.py:213\u001b[0m, in \u001b[0;36mRuntimeJob.wait_for_final_state\u001b[0;34m(self, timeout, wait)\u001b[0m\n\u001b[1;32m    210\u001b[0m \u001b[39mif\u001b[39;00m timeout \u001b[39mis\u001b[39;00m \u001b[39mnot\u001b[39;00m \u001b[39mNone\u001b[39;00m \u001b[39mand\u001b[39;00m elapsed_time \u001b[39m>\u001b[39m\u001b[39m=\u001b[39m timeout:\n\u001b[1;32m    211\u001b[0m     \u001b[39mraise\u001b[39;00m JobTimeoutError(\n\u001b[1;32m    212\u001b[0m         \u001b[39m'\u001b[39m\u001b[39mTimeout while waiting for job \u001b[39m\u001b[39m{}\u001b[39;00m\u001b[39m.\u001b[39m\u001b[39m'\u001b[39m\u001b[39m.\u001b[39mformat(\u001b[39mself\u001b[39m\u001b[39m.\u001b[39mjob_id()))\n\u001b[0;32m--> 213\u001b[0m time\u001b[39m.\u001b[39;49msleep(wait)\n\u001b[1;32m    214\u001b[0m status \u001b[39m=\u001b[39m \u001b[39mself\u001b[39m\u001b[39m.\u001b[39mstatus()\n",
      "\u001b[0;31mKeyboardInterrupt\u001b[0m: "
     ]
    }
   ],
   "source": [
    "result = job.result()\n",
    "print(result)"
   ]
  }
 ],
 "metadata": {
  "kernelspec": {
   "display_name": "Python 3",
   "language": "python",
   "name": "python3"
  },
  "language_info": {
   "codemirror_mode": {
    "name": "ipython",
    "version": 3
   },
   "file_extension": ".py",
   "mimetype": "text/x-python",
   "name": "python",
   "nbconvert_exporter": "python",
   "pygments_lexer": "ipython3",
   "version": "3.10.6"
  },
  "orig_nbformat": 4,
  "vscode": {
   "interpreter": {
    "hash": "916dbcbb3f70747c44a77c7bcd40155683ae19c65e1c03b4aa3499c5328201f1"
   }
  }
 },
 "nbformat": 4,
 "nbformat_minor": 2
}
