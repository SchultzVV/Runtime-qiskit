{
 "cells": [
  {
   "attachments": {},
   "cell_type": "markdown",
   "metadata": {},
   "source": [
    "Depolarizing"
   ]
  },
  {
   "cell_type": "code",
   "execution_count": 1,
   "metadata": {},
   "outputs": [
    {
     "name": "stdout",
     "output_type": "stream",
     "text": [
      "0 de 5\n",
      "1 de 5\n",
      "2 de 5\n",
      "3 de 5\n",
      "4 de 5\n"
     ]
    },
    {
     "data": {
      "image/png": "[encoded data removed]",
      "text/plain": [
       "<Figure size 640x480 with 1 Axes>"
      ]
     },
     "metadata": {},
     "output_type": "display_data"
    }
   ],
   "source": [
    "from src.simulation import Simulate\n",
    "from src.kraus_maps import QuantumChannels as QCH\n",
    "from src.theoric_channels import TheoricMaps as TM\n",
    "\n",
    "from sympy import pi\n",
    "import numpy as np\n",
    "#----------------------------------------------------------------------------------------\n",
    "# escolha um estado-------------------\n",
    "\n",
    "rho_AB = QCH.rho_AB_bpf(pi/2, 0, 0.5)\n",
    "#rho_AB = QCH.rho_AB_bf(pi/2, 0, 0.5)\n",
    "#rho_AB = QCH.rho_AB_pf(pi/2, 0, 0.5)\n",
    "#rho_AB = QCH.rho_AB_pd(pi/2, 0, 0.5)\n",
    "#rho_AB = QCH.rho_AB_ad(pi/2, 0, 0. 5)\n",
    "#rho_AB = QCH.rho_AB_adg(pi/2, 0, 0. 5)\n",
    "#rho_AB = QCH.rho_AB_d(pi/2, 0, 0. 5)\n",
    "#rho_AB = QCH.rho_AB_l(pi/2, 0, 0. 5)\n",
    "#rho_AB = QCH.rho_AB_H(pi/2, 0, 0. 5)\n",
    "#rho_AB = QCH.rho_AB_ad3(pi/2, 0, 0. 5)\n",
    "\n",
    "#rho_AB = QCH.rho_AB_d(pi/2, 0, 0.5)\n",
    "#----------------------------------------------------------------------------------------\n",
    "plot_theoric = TM.theoric_rho_A_bpf\n",
    "#plot_theoric = TM.theoric_rho_A_bf\n",
    "#plot_theoric = TM.theoric_rho_A_pf\n",
    "#plot_theoric = TM.theoric_rho_A_pd\n",
    "#plot_theoric = TM.theoric_rho_A_ad\n",
    "#plot_theoric = TM.theoric_rho_A_adg\n",
    "#plot_theoric = TM.theoric_rho_A_d\n",
    "#plot_theoric = TM.theoric_rho_A_l\n",
    "#plot_theoric = TM.theoric_rho_A_H\n",
    "#plot_theoric = TM.theoric_rho_A_ad3\n",
    "\n",
    "\n",
    "\n",
    "\n",
    "n_qubits = 2\n",
    "list_p = np.linspace(0,1,5)\n",
    "epochs = 1\n",
    "step_to_start = 1\n",
    "\n",
    "S = Simulate('bpf/ClassTest', n_qubits, list_p, epochs, step_to_start, rho_AB, plot_theoric)\n",
    "\n",
    "S.run_calcs()"
   ]
  },
  {
   "cell_type": "code",
   "execution_count": null,
   "metadata": {},
   "outputs": [],
   "source": []
  }
 ],
 "metadata": {
  "kernelspec": {
   "display_name": "env",
   "language": "python",
   "name": "python3"
  },
  "language_info": {
   "codemirror_mode": {
    "name": "ipython",
    "version": 3
   },
   "file_extension": ".py",
   "mimetype": "text/x-python",
   "name": "python",
   "nbconvert_exporter": "python",
   "pygments_lexer": "ipython3",
   "version": "3.10.6"
  },
  "orig_nbformat": 4
 },
 "nbformat": 4,
 "nbformat_minor": 2
}
