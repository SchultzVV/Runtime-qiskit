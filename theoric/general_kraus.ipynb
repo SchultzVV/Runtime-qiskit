{
 "cells": [
  {
   "cell_type": "code",
   "execution_count": 6,
   "metadata": {},
   "outputs": [
    {
     "data": {
      "text/latex": [
       "$\\displaystyle \\left[\\begin{matrix}\\cos^{2}{\\left(\\frac{\\theta}{2} \\right)} & e^{1.0 i \\phi} \\sin{\\left(\\frac{\\theta}{2} \\right)} \\cos{\\left(\\frac{\\theta}{2} \\right)}\\\\e^{- 1.0 i \\phi} \\sin{\\left(\\frac{\\theta}{2} \\right)} \\cos{\\left(\\frac{\\theta}{2} \\right)} & \\sin^{2}{\\left(\\frac{\\theta}{2} \\right)}\\end{matrix}\\right]$"
      ],
      "text/plain": [
       "Matrix([\n",
       "[                          cos(theta/2)**2, exp(1.0*I*phi)*sin(theta/2)*cos(theta/2)],\n",
       "[exp(-1.0*I*phi)*sin(theta/2)*cos(theta/2),                          sin(theta/2)**2]])"
      ]
     },
     "execution_count": 6,
     "metadata": {},
     "output_type": "execute_result"
    }
   ],
   "source": [
    "#from numpy import zeros, cos, outer, sin, sqrt, pi\n",
    "from sympy import cos, sin, sqrt, pi, Matrix, Symbol, exp, print_latex\n",
    "from torch import tensor\n",
    "from sympy.physics.quantum import InnerProduct, OuterProduct\n",
    "from sympy.physics.quantum import TensorProduct, Dagger\n",
    "\n",
    "theta = Symbol('theta',real=True, positive=True)\n",
    "phi = Symbol('phi',real=True, positive=True)\n",
    "gamma = Symbol('gamma',real=True, positive=True)\n",
    "p = Symbol('p',real=True, positive=True)\n",
    "\n",
    "def general_state(theta, phi):\n",
    "    state = Matrix([[cos(theta/2), exp(1j*phi)*sin(theta/2)]])\n",
    "    target_op = Dagger(state)*state\n",
    "    return Matrix(target_op)\n",
    "\n",
    "ket0=Matrix([[1,0],[0,0]])\n",
    "ket1=Matrix([[0,0],[0,1]])\n",
    "\n",
    "\n",
    "psi_a = general_state(theta, phi)\n",
    "#psi_a = general_state(pi/2, 0)\n",
    "psi_a\n",
    "\n",
    "#PsiAB = OuterProduct(e,ket0)+OuterProduct(f,ket1)\n",
    "#PsiAB"
   ]
  },
  {
   "cell_type": "code",
   "execution_count": 31,
   "metadata": {},
   "outputs": [
    {
     "name": "stdout",
     "output_type": "stream",
     "text": [
      "[[0.353553390593274 0 0.353553390593274 0]\n",
      " [0 0.353553390593274*I 0 0.353553390593274*I]\n",
      " [0.353553390593274 0 0.353553390593274 0]\n",
      " [0 0.353553390593274*I 0 0.353553390593274*I]]\n"
     ]
    }
   ],
   "source": [
    "from sympy import cos, sin, sqrt, pi, Matrix, Symbol, exp, print_latex\n",
    "from sympy.physics.quantum import InnerProduct\n",
    "from sympy.physics.quantum import TensorProduct, Dagger\n",
    "import numpy as np\n",
    "theta = Symbol('theta',real=True, positive=True)\n",
    "phi = Symbol('phi',real=True, positive=True)\n",
    "gamma = Symbol('gamma',real=True, positive=True)\n",
    "p = Symbol('p',real=True, positive=True)\n",
    "\n",
    "def rhoAB_bpf(theta, phi, p):\n",
    "    psi_a = general_state(theta, phi)\n",
    "    ket0 = Matrix([[1,0],[0,0]])\n",
    "    ket1 = Matrix([[0,0],[0,1]])\n",
    "    \n",
    "    k0 = Matrix([[sqrt(1-p),0],[0,sqrt(1-p)]])\n",
    "    k1 = Matrix([[0, 1j*sqrt(p)],[1j*sqrt(p), 0]])\n",
    "    \n",
    "    a = TensorProduct(k0*psi_a,ket0)\n",
    "    b = TensorProduct(k1*psi_a,ket1)\n",
    "    PsiAB = a+b\n",
    "    return PsiAB\n",
    "\n",
    "a = rhoAB_bpf(pi/2, 0, 0.5)\n",
    "b = np.array(a)\n",
    "print(b)\n"
   ]
  },
  {
   "cell_type": "code",
   "execution_count": 174,
   "metadata": {},
   "outputs": [
    {
     "data": {
      "image/png": "[encoded data removed]",
      "text/plain": [
       "<Figure size 640x480 with 1 Axes>"
      ]
     },
     "metadata": {},
     "output_type": "display_data"
    }
   ],
   "source": [
    "from numpy import linspace\n",
    "import matplotlib.pyplot as plt\n",
    "import numpy as np \n",
    "import math\n",
    "\n",
    "\n",
    "def coh_l1(rho):  # normalized to [0,1]\n",
    "    d = rho.shape[0]\n",
    "    coh = 0.0\n",
    "    for j in range(0, d-1):\n",
    "        for k in range(j+1, d):\n",
    "            coh += math.sqrt((rho[j][k].real)**2.0 + (rho[j][k].imag)**2.0)\n",
    "    return 2.0*coh/(d-1)\n",
    "#from theoric.theoric_tools import *\n",
    "# theoric plot\n",
    "#def plot_test(rho):\n",
    "def pTraceL_num(dl, dr, rhoLR):\n",
    "    # Returns the left partial trace over the 'left' subsystem of rhoLR\n",
    "    rhoR = np.zeros((dr, dr), dtype=complex)\n",
    "    for j in range(0, dr):\n",
    "        for k in range(j, dr):\n",
    "            for l in range(0, dl):\n",
    "                rhoR[j,k] += rhoLR[l*dr+j,l*dr+k]\n",
    "            if j != k:\n",
    "                rhoR[k,j] = np.conj(rhoR[j,k])\n",
    "    return rhoR\n",
    "\n",
    "def pTraceR_num(dl, dr, rhoLR):\n",
    "    # Returns the right partial trace over the 'right' subsystem of rhoLR\n",
    "    rhoL = np.zeros((dl, dl), dtype=complex)\n",
    "    for j in range(0, dl):\n",
    "        for k in range(j, dl):\n",
    "            for l in range(0, dr):\n",
    "                rhoL[j,k] += rhoLR[j*dr+l,k*dr+l]\n",
    "        if j != k:\n",
    "            rhoL[k,j] = np.conj(rhoL[j,k])\n",
    "    return rhoL\n",
    "\n",
    "list_gamma = linspace(0,1,10)\n",
    "list_gamma = [0]\n",
    "list_p = linspace(0,1,50)\n",
    "\n",
    "coerencias_R = []\n",
    "coerencias_L = []\n",
    "#for g in list_gamma:\n",
    "for p in list_p:\n",
    "    rho = rhoAB_bpf(pi/2, 0, p)\n",
    "\n",
    "    rho_R = pTraceR_num(2,2,rho)\n",
    "    rho_L = pTraceL_num(2,2,rho)\n",
    "    coh_R = coh_l1(rho_R)\n",
    "    coh_L = coh_l1(rho_L)\n",
    "    coerencias_R.append(coh_R)\n",
    "    coerencias_L.append(coh_L)\n",
    "plt.plot(list_p,coerencias_R,label='Rho_R')\n",
    "plt.plot(list_p,coerencias_L,label='Rho_L')\n",
    "plt.xlabel(' p ')\n",
    "plt.ylabel(' Coerência L1 ')\n",
    "plt.legend(loc=4)\n",
    "plt.show()\n",
    "\n"
   ]
  },
  {
   "cell_type": "code",
   "execution_count": 21,
   "metadata": {},
   "outputs": [
    {
     "data": {
      "text/latex": [
       "$\\displaystyle \\left[\\begin{matrix}0 & 1.0 i \\sqrt{1 - p}\\\\1.0 i \\sqrt{1 - p} & 0\\end{matrix}\\right]$"
      ],
      "text/plain": [
       "Matrix([\n",
       "[                0, 1.0*I*sqrt(1 - p)],\n",
       "[1.0*I*sqrt(1 - p),                 0]])"
      ]
     },
     "execution_count": 21,
     "metadata": {},
     "output_type": "execute_result"
    }
   ],
   "source": [
    "from sympy import cos, sin, sqrt, pi, Matrix, Symbol, exp, print_latex\n",
    "from sympy.physics.quantum import InnerProduct, OuterProduct\n",
    "from sympy.physics.quantum import TensorProduct, Dagger\n",
    "\n",
    "theta = Symbol('theta',real=True, positive=True)\n",
    "phi = Symbol('phi',real=True, positive=True)\n",
    "gamma = Symbol('gamma',real=True, positive=True)\n",
    "p = Symbol('p',real=True, positive=True)\n",
    "# BitPhaseflip\n",
    "k0 = Matrix([[sqrt(p),0],[0,sqrt(p)]])\n",
    "k1 = Matrix([[0, 1j*sqrt(1-p)],[1j*sqrt(1-p), 0]])\n",
    "k1"
   ]
  },
  {
   "cell_type": "code",
   "execution_count": 28,
   "metadata": {},
   "outputs": [
    {
     "name": "stdout",
     "output_type": "stream",
     "text": [
      "\\left[\\begin{matrix}0 & 0 & 0 & 0\\\\0 & 1.0 i \\sqrt{1 - p} e^{- 1.0 i \\phi} \\sin{\\left(\\frac{\\theta}{2} \\right)} \\cos{\\left(\\frac{\\theta}{2} \\right)} & 0 & 1.0 i \\sqrt{1 - p} \\sin^{2}{\\left(\\frac{\\theta}{2} \\right)}\\\\0 & 0 & 0 & 0\\\\0 & 1.0 i \\sqrt{1 - p} \\cos^{2}{\\left(\\frac{\\theta}{2} \\right)} & 0 & 1.0 i \\sqrt{1 - p} e^{1.0 i \\phi} \\sin{\\left(\\frac{\\theta}{2} \\right)} \\cos{\\left(\\frac{\\theta}{2} \\right)}\\end{matrix}\\right]\n"
     ]
    }
   ],
   "source": [
    "psi_a = general_state(theta, phi)\n",
    "a =TensorProduct(k0*psi_a,ket0)\n",
    "b =TensorProduct(k1*psi_a,ket1)\n",
    "\n",
    "print_latex(b)"
   ]
  },
  {
   "cell_type": "code",
   "execution_count": 27,
   "metadata": {},
   "outputs": [
    {
     "data": {
      "text/latex": [
       "$\\displaystyle \\left[\\begin{matrix}\\sqrt{p} \\cos^{2}{\\left(\\frac{\\theta}{2} \\right)} & 0 & \\sqrt{p} e^{1.0 i \\phi} \\sin{\\left(\\frac{\\theta}{2} \\right)} \\cos{\\left(\\frac{\\theta}{2} \\right)} & 0\\\\0 & 1.0 i \\sqrt{1 - p} e^{- 1.0 i \\phi} \\sin{\\left(\\frac{\\theta}{2} \\right)} \\cos{\\left(\\frac{\\theta}{2} \\right)} & 0 & 1.0 i \\sqrt{1 - p} \\sin^{2}{\\left(\\frac{\\theta}{2} \\right)}\\\\\\sqrt{p} e^{- 1.0 i \\phi} \\sin{\\left(\\frac{\\theta}{2} \\right)} \\cos{\\left(\\frac{\\theta}{2} \\right)} & 0 & \\sqrt{p} \\sin^{2}{\\left(\\frac{\\theta}{2} \\right)} & 0\\\\0 & 1.0 i \\sqrt{1 - p} \\cos^{2}{\\left(\\frac{\\theta}{2} \\right)} & 0 & 1.0 i \\sqrt{1 - p} e^{1.0 i \\phi} \\sin{\\left(\\frac{\\theta}{2} \\right)} \\cos{\\left(\\frac{\\theta}{2} \\right)}\\end{matrix}\\right]$"
      ],
      "text/plain": [
       "Matrix([\n",
       "[                          sqrt(p)*cos(theta/2)**2,                                                           0, sqrt(p)*exp(1.0*I*phi)*sin(theta/2)*cos(theta/2),                                                          0],\n",
       "[                                                0, 1.0*I*sqrt(1 - p)*exp(-1.0*I*phi)*sin(theta/2)*cos(theta/2),                                                0,                          1.0*I*sqrt(1 - p)*sin(theta/2)**2],\n",
       "[sqrt(p)*exp(-1.0*I*phi)*sin(theta/2)*cos(theta/2),                                                           0,                          sqrt(p)*sin(theta/2)**2,                                                          0],\n",
       "[                                                0,                           1.0*I*sqrt(1 - p)*cos(theta/2)**2,                                                0, 1.0*I*sqrt(1 - p)*exp(1.0*I*phi)*sin(theta/2)*cos(theta/2)]])"
      ]
     },
     "execution_count": 27,
     "metadata": {},
     "output_type": "execute_result"
    }
   ],
   "source": [
    "'''Calc '''\n",
    "k0 = Matrix([[sqrt(p),0],[0,sqrt(p)]])\n",
    "k1 = Matrix([[0, 1j*sqrt(1-p)],[1j*sqrt(1-p), 0]])\n",
    "ket0 = Matrix([[1,0],[0,0]])\n",
    "ket1 = Matrix([[0,0],[0,1]])\n",
    "\n",
    "psi_a = general_state(theta, phi)\n",
    "\n",
    "\n",
    "a =TensorProduct(k0*psi_a,ket0)\n",
    "b =TensorProduct(k1*psi_a,ket1)\n",
    "PsiAB = a+b\n",
    "PsiAB\n"
   ]
  },
  {
   "cell_type": "code",
   "execution_count": 19,
   "metadata": {},
   "outputs": [
    {
     "data": {
      "text/latex": [
       "$\\displaystyle \\left[\\begin{matrix}0.447213595499958 & 0 & 0.447213595499958 & 0\\\\0 & 0.223606797749979 i & 0 & 0.223606797749979 i\\\\0.447213595499958 & 0 & 0.447213595499958 & 0\\\\0 & 0.223606797749979 i & 0 & 0.223606797749979 i\\end{matrix}\\right]$"
      ],
      "text/plain": [
       "Matrix([\n",
       "[0.447213595499958,                   0, 0.447213595499958,                   0],\n",
       "[                0, 0.223606797749979*I,                 0, 0.223606797749979*I],\n",
       "[0.447213595499958,                   0, 0.447213595499958,                   0],\n",
       "[                0, 0.223606797749979*I,                 0, 0.223606797749979*I]])"
      ]
     },
     "execution_count": 19,
     "metadata": {},
     "output_type": "execute_result"
    }
   ],
   "source": [
    "PsiAB = rhoAB_bpf(pi/2, 0 , 0.2)\n",
    "PsiAB"
   ]
  },
  {
   "cell_type": "code",
   "execution_count": 132,
   "metadata": {},
   "outputs": [
    {
     "ename": "ShapeError",
     "evalue": "Matrix size mismatch: (2, 2) * (1, 2).",
     "output_type": "error",
     "traceback": [
      "\u001b[0;31m---------------------------------------------------------------------------\u001b[0m",
      "\u001b[0;31mShapeError\u001b[0m                                Traceback (most recent call last)",
      "Cell \u001b[0;32mIn[132], line 2\u001b[0m\n\u001b[1;32m      1\u001b[0m \u001b[39m#TensorProduct(e,ket0)\u001b[39;00m\n\u001b[0;32m----> 2\u001b[0m e\u001b[39m*\u001b[39;49mket0\u001b[39m.\u001b[39;49mT\n",
      "File \u001b[0;32m~/Desktop/Runtime-qiskit/env/lib/python3.10/site-packages/sympy/core/decorators.py:106\u001b[0m, in \u001b[0;36mcall_highest_priority.<locals>.priority_decorator.<locals>.binary_op_wrapper\u001b[0;34m(self, other)\u001b[0m\n\u001b[1;32m    104\u001b[0m         \u001b[39mif\u001b[39;00m f \u001b[39mis\u001b[39;00m \u001b[39mnot\u001b[39;00m \u001b[39mNone\u001b[39;00m:\n\u001b[1;32m    105\u001b[0m             \u001b[39mreturn\u001b[39;00m f(\u001b[39mself\u001b[39m)\n\u001b[0;32m--> 106\u001b[0m \u001b[39mreturn\u001b[39;00m func(\u001b[39mself\u001b[39;49m, other)\n",
      "File \u001b[0;32m~/Desktop/Runtime-qiskit/env/lib/python3.10/site-packages/sympy/matrices/common.py:2771\u001b[0m, in \u001b[0;36mMatrixArithmetic.__mul__\u001b[0;34m(self, other)\u001b[0m\n\u001b[1;32m   2742\u001b[0m \u001b[39m@call_highest_priority\u001b[39m(\u001b[39m'\u001b[39m\u001b[39m__rmul__\u001b[39m\u001b[39m'\u001b[39m)\n\u001b[1;32m   2743\u001b[0m \u001b[39mdef\u001b[39;00m \u001b[39m__mul__\u001b[39m(\u001b[39mself\u001b[39m, other):\n\u001b[1;32m   2744\u001b[0m \u001b[39m    \u001b[39m\u001b[39m\"\"\"Return self*other where other is either a scalar or a matrix\u001b[39;00m\n\u001b[1;32m   2745\u001b[0m \u001b[39m    of compatible dimensions.\u001b[39;00m\n\u001b[1;32m   2746\u001b[0m \n\u001b[0;32m   (...)\u001b[0m\n\u001b[1;32m   2768\u001b[0m \u001b[39m    matrix_multiply_elementwise\u001b[39;00m\n\u001b[1;32m   2769\u001b[0m \u001b[39m    \"\"\"\u001b[39;00m\n\u001b[0;32m-> 2771\u001b[0m     \u001b[39mreturn\u001b[39;00m \u001b[39mself\u001b[39;49m\u001b[39m.\u001b[39;49mmultiply(other)\n",
      "File \u001b[0;32m~/Desktop/Runtime-qiskit/env/lib/python3.10/site-packages/sympy/matrices/common.py:2793\u001b[0m, in \u001b[0;36mMatrixArithmetic.multiply\u001b[0;34m(self, other, dotprodsimp)\u001b[0m\n\u001b[1;32m   2789\u001b[0m \u001b[39mif\u001b[39;00m (\u001b[39mhasattr\u001b[39m(other, \u001b[39m'\u001b[39m\u001b[39mshape\u001b[39m\u001b[39m'\u001b[39m) \u001b[39mand\u001b[39;00m \u001b[39mlen\u001b[39m(other\u001b[39m.\u001b[39mshape) \u001b[39m==\u001b[39m \u001b[39m2\u001b[39m \u001b[39mand\u001b[39;00m\n\u001b[1;32m   2790\u001b[0m     (\u001b[39mgetattr\u001b[39m(other, \u001b[39m'\u001b[39m\u001b[39mis_Matrix\u001b[39m\u001b[39m'\u001b[39m, \u001b[39mTrue\u001b[39;00m) \u001b[39mor\u001b[39;00m\n\u001b[1;32m   2791\u001b[0m      \u001b[39mgetattr\u001b[39m(other, \u001b[39m'\u001b[39m\u001b[39mis_MatrixLike\u001b[39m\u001b[39m'\u001b[39m, \u001b[39mTrue\u001b[39;00m))):\n\u001b[1;32m   2792\u001b[0m     \u001b[39mif\u001b[39;00m \u001b[39mself\u001b[39m\u001b[39m.\u001b[39mshape[\u001b[39m1\u001b[39m] \u001b[39m!=\u001b[39m other\u001b[39m.\u001b[39mshape[\u001b[39m0\u001b[39m]:\n\u001b[0;32m-> 2793\u001b[0m         \u001b[39mraise\u001b[39;00m ShapeError(\u001b[39m\"\u001b[39m\u001b[39mMatrix size mismatch: \u001b[39m\u001b[39m%s\u001b[39;00m\u001b[39m * \u001b[39m\u001b[39m%s\u001b[39;00m\u001b[39m.\u001b[39m\u001b[39m\"\u001b[39m \u001b[39m%\u001b[39m (\n\u001b[1;32m   2794\u001b[0m             \u001b[39mself\u001b[39m\u001b[39m.\u001b[39mshape, other\u001b[39m.\u001b[39mshape))\n\u001b[1;32m   2796\u001b[0m \u001b[39m# honest SymPy matrices defer to their class's routine\u001b[39;00m\n\u001b[1;32m   2797\u001b[0m \u001b[39mif\u001b[39;00m \u001b[39mgetattr\u001b[39m(other, \u001b[39m'\u001b[39m\u001b[39mis_Matrix\u001b[39m\u001b[39m'\u001b[39m, \u001b[39mFalse\u001b[39;00m):\n",
      "\u001b[0;31mShapeError\u001b[0m: Matrix size mismatch: (2, 2) * (1, 2)."
     ]
    }
   ],
   "source": [
    "#TensorProduct(e,ket0)\n",
    "e*ket0.T"
   ]
  },
  {
   "cell_type": "code",
   "execution_count": 28,
   "metadata": {},
   "outputs": [
    {
     "data": {
      "text/latex": [
       "$\\displaystyle \\left[\\begin{matrix}0 & 1\\end{matrix}\\right]$"
      ],
      "text/plain": [
       "Matrix([[0, 1]])"
      ]
     },
     "execution_count": 28,
     "metadata": {},
     "output_type": "execute_result"
    }
   ],
   "source": [
    "ket0=Matrix([[1,0]])\n",
    "ket1=Matrix([[0,1]])\n",
    "ket1"
   ]
  },
  {
   "cell_type": "code",
   "execution_count": 21,
   "metadata": {},
   "outputs": [
    {
     "data": {
      "text/latex": [
       "$\\displaystyle \\left[\\begin{matrix}\\sqrt{1 - p} & 0\\\\0 & \\sqrt{1 - p}\\end{matrix}\\right]$"
      ],
      "text/plain": [
       "Matrix([\n",
       "[sqrt(1 - p),           0],\n",
       "[          0, sqrt(1 - p)]])"
      ]
     },
     "execution_count": 21,
     "metadata": {},
     "output_type": "execute_result"
    }
   ],
   "source": [
    "k0 = Matrix([[sqrt(1-p),0],[0,sqrt(1-p)]])\n",
    "k0"
   ]
  },
  {
   "cell_type": "code",
   "execution_count": 24,
   "metadata": {},
   "outputs": [
    {
     "data": {
      "text/latex": [
       "$\\displaystyle \\left[\\begin{matrix}0 & 1.0 i \\sqrt{p}\\\\1.0 i \\sqrt{p} & 0\\end{matrix}\\right]$"
      ],
      "text/plain": [
       "Matrix([\n",
       "[            0, 1.0*I*sqrt(p)],\n",
       "[1.0*I*sqrt(p),             0]])"
      ]
     },
     "execution_count": 24,
     "metadata": {},
     "output_type": "execute_result"
    }
   ],
   "source": [
    "k1 = Matrix([[0, 1j*sqrt(p)],[1j*sqrt(p), 0]])\n",
    "k1"
   ]
  },
  {
   "cell_type": "code",
   "execution_count": 32,
   "metadata": {},
   "outputs": [
    {
     "data": {
      "text/latex": [
       "$\\displaystyle \\left[\\begin{matrix}\\sqrt{1 - p} \\cos^{2}{\\left(\\frac{\\theta}{2} \\right)} & 0 & \\sqrt{1 - p} e^{1.0 i \\phi} \\sin{\\left(\\frac{\\theta}{2} \\right)} \\cos{\\left(\\frac{\\theta}{2} \\right)} & 0\\\\\\sqrt{1 - p} e^{- 1.0 i \\phi} \\sin{\\left(\\frac{\\theta}{2} \\right)} \\cos{\\left(\\frac{\\theta}{2} \\right)} & 0 & \\sqrt{1 - p} \\sin^{2}{\\left(\\frac{\\theta}{2} \\right)} & 0\\end{matrix}\\right]$"
      ],
      "text/plain": [
       "Matrix([\n",
       "[                          sqrt(1 - p)*cos(theta/2)**2, 0, sqrt(1 - p)*exp(1.0*I*phi)*sin(theta/2)*cos(theta/2), 0],\n",
       "[sqrt(1 - p)*exp(-1.0*I*phi)*sin(theta/2)*cos(theta/2), 0,                          sqrt(1 - p)*sin(theta/2)**2, 0]])"
      ]
     },
     "execution_count": 32,
     "metadata": {},
     "output_type": "execute_result"
    }
   ],
   "source": [
    "a = TensorProduct(k0*result,ket0)\n",
    "a"
   ]
  },
  {
   "cell_type": "code",
   "execution_count": 33,
   "metadata": {},
   "outputs": [
    {
     "data": {
      "text/latex": [
       "$\\displaystyle \\left[\\begin{matrix}0 & 1.0 i \\sqrt{p} e^{- 1.0 i \\phi} \\sin{\\left(\\frac{\\theta}{2} \\right)} \\cos{\\left(\\frac{\\theta}{2} \\right)} & 0 & 1.0 i \\sqrt{p} \\sin^{2}{\\left(\\frac{\\theta}{2} \\right)}\\\\0 & 1.0 i \\sqrt{p} \\cos^{2}{\\left(\\frac{\\theta}{2} \\right)} & 0 & 1.0 i \\sqrt{p} e^{1.0 i \\phi} \\sin{\\left(\\frac{\\theta}{2} \\right)} \\cos{\\left(\\frac{\\theta}{2} \\right)}\\end{matrix}\\right]$"
      ],
      "text/plain": [
       "Matrix([\n",
       "[0, 1.0*I*sqrt(p)*exp(-1.0*I*phi)*sin(theta/2)*cos(theta/2), 0,                          1.0*I*sqrt(p)*sin(theta/2)**2],\n",
       "[0,                           1.0*I*sqrt(p)*cos(theta/2)**2, 0, 1.0*I*sqrt(p)*exp(1.0*I*phi)*sin(theta/2)*cos(theta/2)]])"
      ]
     },
     "execution_count": 33,
     "metadata": {},
     "output_type": "execute_result"
    }
   ],
   "source": [
    "b = TensorProduct(k1*result,ket1)\n",
    "b"
   ]
  },
  {
   "cell_type": "code",
   "execution_count": 34,
   "metadata": {},
   "outputs": [
    {
     "data": {
      "text/latex": [
       "$\\displaystyle \\left[\\begin{matrix}\\sqrt{1 - p} \\cos^{2}{\\left(\\frac{\\theta}{2} \\right)} & 1.0 i \\sqrt{p} e^{- 1.0 i \\phi} \\sin{\\left(\\frac{\\theta}{2} \\right)} \\cos{\\left(\\frac{\\theta}{2} \\right)} & \\sqrt{1 - p} e^{1.0 i \\phi} \\sin{\\left(\\frac{\\theta}{2} \\right)} \\cos{\\left(\\frac{\\theta}{2} \\right)} & 1.0 i \\sqrt{p} \\sin^{2}{\\left(\\frac{\\theta}{2} \\right)}\\\\\\sqrt{1 - p} e^{- 1.0 i \\phi} \\sin{\\left(\\frac{\\theta}{2} \\right)} \\cos{\\left(\\frac{\\theta}{2} \\right)} & 1.0 i \\sqrt{p} \\cos^{2}{\\left(\\frac{\\theta}{2} \\right)} & \\sqrt{1 - p} \\sin^{2}{\\left(\\frac{\\theta}{2} \\right)} & 1.0 i \\sqrt{p} e^{1.0 i \\phi} \\sin{\\left(\\frac{\\theta}{2} \\right)} \\cos{\\left(\\frac{\\theta}{2} \\right)}\\end{matrix}\\right]$"
      ],
      "text/plain": [
       "Matrix([\n",
       "[                          sqrt(1 - p)*cos(theta/2)**2, 1.0*I*sqrt(p)*exp(-1.0*I*phi)*sin(theta/2)*cos(theta/2), sqrt(1 - p)*exp(1.0*I*phi)*sin(theta/2)*cos(theta/2),                          1.0*I*sqrt(p)*sin(theta/2)**2],\n",
       "[sqrt(1 - p)*exp(-1.0*I*phi)*sin(theta/2)*cos(theta/2),                           1.0*I*sqrt(p)*cos(theta/2)**2,                          sqrt(1 - p)*sin(theta/2)**2, 1.0*I*sqrt(p)*exp(1.0*I*phi)*sin(theta/2)*cos(theta/2)]])"
      ]
     },
     "execution_count": 34,
     "metadata": {},
     "output_type": "execute_result"
    }
   ],
   "source": [
    "PsiAB = a+b\n",
    "PsiAB"
   ]
  },
  {
   "cell_type": "code",
   "execution_count": null,
   "metadata": {},
   "outputs": [],
   "source": []
  }
 ],
 "metadata": {
  "kernelspec": {
   "display_name": "env",
   "language": "python",
   "name": "python3"
  },
  "language_info": {
   "codemirror_mode": {
    "name": "ipython",
    "version": 3
   },
   "file_extension": ".py",
   "mimetype": "text/x-python",
   "name": "python",
   "nbconvert_exporter": "python",
   "pygments_lexer": "ipython3",
   "version": "3.10.6"
  },
  "orig_nbformat": 4,
  "vscode": {
   "interpreter": {
    "hash": "f309f41cc1031c3222a5eb4c6b99ec5d3d1a742e018bf44f3accb1cd68cc28ab"
   }
  }
 },
 "nbformat": 4,
 "nbformat_minor": 2
}
