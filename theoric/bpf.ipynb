{
 "cells": [
  {
   "attachments": {},
   "cell_type": "markdown",
   "metadata": {},
   "source": [
    "# Gerando as contas pelo sympy e obtendo o target_op"
   ]
  },
  {
   "cell_type": "code",
   "execution_count": 1,
   "metadata": {},
   "outputs": [],
   "source": [
    "from sympy import cos, sin, sqrt, pi, Matrix, Symbol, exp, print_latex, simplify\n",
    "from sympy.physics.quantum import TensorProduct, Dagger\n",
    "import numpy as np\n",
    "import torch\n",
    "from numpy import linspace\n",
    "import matplotlib.pyplot as plt\n",
    "import numpy as np \n",
    "import math\n",
    "\n",
    "theta = Symbol('theta',real=True, positive=True)\n",
    "phi = Symbol('phi',real=True, positive=True)\n",
    "gamma = Symbol('gamma',real=True, positive=True)\n",
    "p = Symbol('p',real=True, positive=True)\n",
    "\n",
    "def calculated_rho_A(theta, phi, p):\n",
    "    state = Matrix([[(p*(1-p))*((cos(theta/2))**2+(sin(theta/2))**2),\n",
    "                     (p*(1-p))*(sin(theta/2)*cos(theta/2)*(exp(-1j*phi)-exp(1j*phi))),\n",
    "                     (p*(1-p))*(sin(theta/2)*cos(theta/2)*(exp(1j*phi)-exp(-1j*phi))),\n",
    "                     (p*(1-p))*((cos(theta/2))**2+(sin(theta/2))**2)]])\n",
    "    return state\n",
    "\n",
    "def coh_l1(rho):  # normalized to [0,1]\n",
    "    d = rho.shape[0]\n",
    "    coh = 0.0\n",
    "    for j in range(0, d-1):\n",
    "        for k in range(j+1, d):\n",
    "            coh += math.sqrt((rho[j][k].real)**2.0 + (rho[j][k].imag)**2.0)\n",
    "    return 2.0*coh/(d-1)\n",
    "\n",
    "def pTraceL_num(dl, dr, rhoLR):\n",
    "    # Returns the left partial trace over the 'left' subsystem of rhoLR\n",
    "    rhoR = np.zeros((dr, dr), dtype=complex)\n",
    "    for j in range(0, dr):\n",
    "        for k in range(j, dr):\n",
    "            for l in range(0, dl):\n",
    "                rhoR[j,k] += rhoLR[l*dr+j,l*dr+k]\n",
    "            if j != k:\n",
    "                rhoR[k,j] = np.conj(rhoR[j,k])\n",
    "    return rhoR\n",
    "\n",
    "def pTraceR_num(dl, dr, rhoLR):\n",
    "    # Returns the right partial trace over the 'right' subsystem of rhoLR\n",
    "    rhoL = np.zeros((dl, dl), dtype=complex)\n",
    "    for j in range(0, dl):\n",
    "        for k in range(j, dl):\n",
    "            for l in range(0, dr):\n",
    "                rhoL[j,k] += rhoLR[j*dr+l,k*dr+l]\n",
    "        if j != k:\n",
    "            rhoL[k,j] = np.conj(rhoL[j,k])\n",
    "    return rhoL\n"
   ]
  },
  {
   "cell_type": "code",
   "execution_count": 8,
   "metadata": {},
   "outputs": [
    {
     "data": {
      "text/latex": [
       "$\\displaystyle \\left[\\begin{matrix}p \\left(1 - p\\right) \\left(\\sin^{2}{\\left(\\frac{\\theta}{2} \\right)} + \\cos^{2}{\\left(\\frac{\\theta}{2} \\right)}\\right) & p \\left(1 - p\\right) \\left(- e^{1.0 i \\phi} + e^{- 1.0 i \\phi}\\right) \\sin{\\left(\\frac{\\theta}{2} \\right)} \\cos{\\left(\\frac{\\theta}{2} \\right)} & p \\left(1 - p\\right) \\left(e^{1.0 i \\phi} - e^{- 1.0 i \\phi}\\right) \\sin{\\left(\\frac{\\theta}{2} \\right)} \\cos{\\left(\\frac{\\theta}{2} \\right)} & p \\left(1 - p\\right) \\left(\\sin^{2}{\\left(\\frac{\\theta}{2} \\right)} + \\cos^{2}{\\left(\\frac{\\theta}{2} \\right)}\\right)\\end{matrix}\\right]$"
      ],
      "text/plain": [
       "Matrix([[p*(1 - p)*(sin(theta/2)**2 + cos(theta/2)**2), p*(1 - p)*(-exp(1.0*I*phi) + exp(-1.0*I*phi))*sin(theta/2)*cos(theta/2), p*(1 - p)*(exp(1.0*I*phi) - exp(-1.0*I*phi))*sin(theta/2)*cos(theta/2), p*(1 - p)*(sin(theta/2)**2 + cos(theta/2)**2)]])"
      ]
     },
     "execution_count": 8,
     "metadata": {},
     "output_type": "execute_result"
    }
   ],
   "source": [
    "rho = calculated_rho_A(theta, phi, p)\n",
    "rho\n"
   ]
  },
  {
   "cell_type": "code",
   "execution_count": 2,
   "metadata": {},
   "outputs": [
    {
     "ename": "IndexError",
     "evalue": "Index out of range: a[1]",
     "output_type": "error",
     "traceback": [
      "\u001b[0;31m---------------------------------------------------------------------------\u001b[0m",
      "\u001b[0;31mKeyError\u001b[0m                                  Traceback (most recent call last)",
      "File \u001b[0;32m~/Desktop/Runtime-qiskit/env/lib/python3.10/site-packages/sympy/polys/matrices/sdm.py:80\u001b[0m, in \u001b[0;36mSDM.getitem\u001b[0;34m(self, i, j)\u001b[0m\n\u001b[1;32m     79\u001b[0m \u001b[39mtry\u001b[39;00m:\n\u001b[0;32m---> 80\u001b[0m     \u001b[39mreturn\u001b[39;00m \u001b[39mself\u001b[39;49m[i][j]\n\u001b[1;32m     81\u001b[0m \u001b[39mexcept\u001b[39;00m \u001b[39mKeyError\u001b[39;00m:\n",
      "\u001b[0;31mKeyError\u001b[0m: 1",
      "\nDuring handling of the above exception, another exception occurred:\n",
      "\u001b[0;31mIndexError\u001b[0m                                Traceback (most recent call last)",
      "File \u001b[0;32m~/Desktop/Runtime-qiskit/env/lib/python3.10/site-packages/sympy/matrices/repmatrix.py:712\u001b[0m, in \u001b[0;36m_getitem_RepMatrix\u001b[0;34m(self, key)\u001b[0m\n\u001b[1;32m    711\u001b[0m \u001b[39mtry\u001b[39;00m:\n\u001b[0;32m--> 712\u001b[0m     \u001b[39mreturn\u001b[39;00m \u001b[39mself\u001b[39;49m\u001b[39m.\u001b[39;49m_rep\u001b[39m.\u001b[39;49mgetitem_sympy(index_(i), index_(j))\n\u001b[1;32m    713\u001b[0m \u001b[39mexcept\u001b[39;00m (\u001b[39mTypeError\u001b[39;00m, \u001b[39mIndexError\u001b[39;00m):\n",
      "File \u001b[0;32m~/Desktop/Runtime-qiskit/env/lib/python3.10/site-packages/sympy/polys/matrices/domainmatrix.py:174\u001b[0m, in \u001b[0;36mDomainMatrix.getitem_sympy\u001b[0;34m(self, i, j)\u001b[0m\n\u001b[1;32m    173\u001b[0m \u001b[39mdef\u001b[39;00m \u001b[39mgetitem_sympy\u001b[39m(\u001b[39mself\u001b[39m, i, j):\n\u001b[0;32m--> 174\u001b[0m     \u001b[39mreturn\u001b[39;00m \u001b[39mself\u001b[39m\u001b[39m.\u001b[39mdomain\u001b[39m.\u001b[39mto_sympy(\u001b[39mself\u001b[39;49m\u001b[39m.\u001b[39;49mrep\u001b[39m.\u001b[39;49mgetitem(i, j))\n",
      "File \u001b[0;32m~/Desktop/Runtime-qiskit/env/lib/python3.10/site-packages/sympy/polys/matrices/sdm.py:89\u001b[0m, in \u001b[0;36mSDM.getitem\u001b[0;34m(self, i, j)\u001b[0m\n\u001b[1;32m     88\u001b[0m \u001b[39melse\u001b[39;00m:\n\u001b[0;32m---> 89\u001b[0m     \u001b[39mraise\u001b[39;00m \u001b[39mIndexError\u001b[39;00m(\u001b[39m\"\u001b[39m\u001b[39mindex out of range\u001b[39m\u001b[39m\"\u001b[39m)\n",
      "\u001b[0;31mIndexError\u001b[0m: index out of range",
      "\nDuring handling of the above exception, another exception occurred:\n",
      "\u001b[0;31mIndexError\u001b[0m                                Traceback (most recent call last)",
      "Cell \u001b[0;32mIn[2], line 14\u001b[0m\n\u001b[1;32m     12\u001b[0m     rho \u001b[39m=\u001b[39m calculated_rho_A(pi\u001b[39m/\u001b[39m\u001b[39m2\u001b[39m, \u001b[39m0\u001b[39m, z)\n\u001b[1;32m     13\u001b[0m \u001b[39m#    #rho_list.append(rho)\u001b[39;00m\n\u001b[0;32m---> 14\u001b[0m     rhoA_R \u001b[39m=\u001b[39m pTraceR_num(\u001b[39m2\u001b[39;49m,\u001b[39m2\u001b[39;49m,rho)\n\u001b[1;32m     15\u001b[0m     \u001b[39m#rhoA_L = pTraceL_num(2,2,rho)\u001b[39;00m\n\u001b[1;32m     16\u001b[0m     \u001b[39m#cA_R = coh_l1(rhoA_R)\u001b[39;00m\n\u001b[1;32m     17\u001b[0m     \u001b[39m#cA_L = coh_l1(rhoA_L)\u001b[39;00m\n\u001b[1;32m     18\u001b[0m     \u001b[39m#coerencias_R.append(cA_R)\u001b[39;00m\n\u001b[1;32m     19\u001b[0m     \u001b[39m#coerencias_L.append(cA_L)\u001b[39;00m\n\u001b[1;32m     20\u001b[0m plt\u001b[39m.\u001b[39mplot(list_p,coerencias_R,label\u001b[39m=\u001b[39m\u001b[39mf\u001b[39m\u001b[39m'\u001b[39m\u001b[39mtheta inicial = \u001b[39m\u001b[39m{\u001b[39;00mtheta\u001b[39m}\u001b[39;00m\u001b[39m'\u001b[39m)\n",
      "Cell \u001b[0;32mIn[1], line 47\u001b[0m, in \u001b[0;36mpTraceR_num\u001b[0;34m(dl, dr, rhoLR)\u001b[0m\n\u001b[1;32m     45\u001b[0m \u001b[39mfor\u001b[39;00m k \u001b[39min\u001b[39;00m \u001b[39mrange\u001b[39m(j, dl):\n\u001b[1;32m     46\u001b[0m     \u001b[39mfor\u001b[39;00m l \u001b[39min\u001b[39;00m \u001b[39mrange\u001b[39m(\u001b[39m0\u001b[39m, dr):\n\u001b[0;32m---> 47\u001b[0m         rhoL[j,k] \u001b[39m+\u001b[39m\u001b[39m=\u001b[39m rhoLR[j\u001b[39m*\u001b[39;49mdr\u001b[39m+\u001b[39;49ml,k\u001b[39m*\u001b[39;49mdr\u001b[39m+\u001b[39;49ml]\n\u001b[1;32m     48\u001b[0m \u001b[39mif\u001b[39;00m j \u001b[39m!=\u001b[39m k:\n\u001b[1;32m     49\u001b[0m     rhoL[k,j] \u001b[39m=\u001b[39m np\u001b[39m.\u001b[39mconj(rhoL[j,k])\n",
      "File \u001b[0;32m~/Desktop/Runtime-qiskit/env/lib/python3.10/site-packages/sympy/matrices/repmatrix.py:233\u001b[0m, in \u001b[0;36mRepMatrix.__getitem__\u001b[0;34m(self, key)\u001b[0m\n\u001b[1;32m    232\u001b[0m \u001b[39mdef\u001b[39;00m \u001b[39m__getitem__\u001b[39m(\u001b[39mself\u001b[39m, key):\n\u001b[0;32m--> 233\u001b[0m     \u001b[39mreturn\u001b[39;00m _getitem_RepMatrix(\u001b[39mself\u001b[39;49m, key)\n",
      "File \u001b[0;32m~/Desktop/Runtime-qiskit/env/lib/python3.10/site-packages/sympy/matrices/repmatrix.py:733\u001b[0m, in \u001b[0;36m_getitem_RepMatrix\u001b[0;34m(self, key)\u001b[0m\n\u001b[1;32m    731\u001b[0m         \u001b[39melse\u001b[39;00m:\n\u001b[1;32m    732\u001b[0m             j \u001b[39m=\u001b[39m [j]\n\u001b[0;32m--> 733\u001b[0m         \u001b[39mreturn\u001b[39;00m \u001b[39mself\u001b[39;49m\u001b[39m.\u001b[39;49mextract(i, j)\n\u001b[1;32m    735\u001b[0m \u001b[39melse\u001b[39;00m:\n\u001b[1;32m    736\u001b[0m     \u001b[39m# Index/slice like a flattened list\u001b[39;00m\n\u001b[1;32m    737\u001b[0m     rows, cols \u001b[39m=\u001b[39m \u001b[39mself\u001b[39m\u001b[39m.\u001b[39mshape\n",
      "File \u001b[0;32m~/Desktop/Runtime-qiskit/env/lib/python3.10/site-packages/sympy/matrices/common.py:369\u001b[0m, in \u001b[0;36mMatrixShaping.extract\u001b[0;34m(self, rowsList, colsList)\u001b[0m\n\u001b[1;32m    366\u001b[0m     colsList \u001b[39m=\u001b[39m [index \u001b[39mfor\u001b[39;00m index, item \u001b[39min\u001b[39;00m \u001b[39menumerate\u001b[39m(colsList) \u001b[39mif\u001b[39;00m item]\n\u001b[1;32m    368\u001b[0m \u001b[39m# ensure everything is in range\u001b[39;00m\n\u001b[0;32m--> 369\u001b[0m rowsList \u001b[39m=\u001b[39m [a2idx(k, \u001b[39mself\u001b[39m\u001b[39m.\u001b[39mrows) \u001b[39mfor\u001b[39;00m k \u001b[39min\u001b[39;00m rowsList]\n\u001b[1;32m    370\u001b[0m colsList \u001b[39m=\u001b[39m [a2idx(k, \u001b[39mself\u001b[39m\u001b[39m.\u001b[39mcols) \u001b[39mfor\u001b[39;00m k \u001b[39min\u001b[39;00m colsList]\n\u001b[1;32m    372\u001b[0m \u001b[39mreturn\u001b[39;00m \u001b[39mself\u001b[39m\u001b[39m.\u001b[39m_eval_extract(rowsList, colsList)\n",
      "File \u001b[0;32m~/Desktop/Runtime-qiskit/env/lib/python3.10/site-packages/sympy/matrices/common.py:369\u001b[0m, in \u001b[0;36m<listcomp>\u001b[0;34m(.0)\u001b[0m\n\u001b[1;32m    366\u001b[0m     colsList \u001b[39m=\u001b[39m [index \u001b[39mfor\u001b[39;00m index, item \u001b[39min\u001b[39;00m \u001b[39menumerate\u001b[39m(colsList) \u001b[39mif\u001b[39;00m item]\n\u001b[1;32m    368\u001b[0m \u001b[39m# ensure everything is in range\u001b[39;00m\n\u001b[0;32m--> 369\u001b[0m rowsList \u001b[39m=\u001b[39m [a2idx(k, \u001b[39mself\u001b[39;49m\u001b[39m.\u001b[39;49mrows) \u001b[39mfor\u001b[39;00m k \u001b[39min\u001b[39;00m rowsList]\n\u001b[1;32m    370\u001b[0m colsList \u001b[39m=\u001b[39m [a2idx(k, \u001b[39mself\u001b[39m\u001b[39m.\u001b[39mcols) \u001b[39mfor\u001b[39;00m k \u001b[39min\u001b[39;00m colsList]\n\u001b[1;32m    372\u001b[0m \u001b[39mreturn\u001b[39;00m \u001b[39mself\u001b[39m\u001b[39m.\u001b[39m_eval_extract(rowsList, colsList)\n",
      "File \u001b[0;32m~/Desktop/Runtime-qiskit/env/lib/python3.10/site-packages/sympy/matrices/common.py:3258\u001b[0m, in \u001b[0;36ma2idx\u001b[0;34m(j, n)\u001b[0m\n\u001b[1;32m   3256\u001b[0m         j \u001b[39m+\u001b[39m\u001b[39m=\u001b[39m n\n\u001b[1;32m   3257\u001b[0m     \u001b[39mif\u001b[39;00m \u001b[39mnot\u001b[39;00m (j \u001b[39m>\u001b[39m\u001b[39m=\u001b[39m \u001b[39m0\u001b[39m \u001b[39mand\u001b[39;00m j \u001b[39m<\u001b[39m n):\n\u001b[0;32m-> 3258\u001b[0m         \u001b[39mraise\u001b[39;00m \u001b[39mIndexError\u001b[39;00m(\u001b[39m\"\u001b[39m\u001b[39mIndex out of range: a[\u001b[39m\u001b[39m%s\u001b[39;00m\u001b[39m]\u001b[39m\u001b[39m\"\u001b[39m \u001b[39m%\u001b[39m (j,))\n\u001b[1;32m   3259\u001b[0m \u001b[39mreturn\u001b[39;00m \u001b[39mint\u001b[39m(j)\n",
      "\u001b[0;31mIndexError\u001b[0m: Index out of range: a[1]"
     ]
    }
   ],
   "source": [
    "\n",
    "#print(calculated_rho_A(theta, phi, p))\n",
    "##list_gamma = linspace(0,1,10)\n",
    "list_p = linspace(0,1,10)\n",
    "coerencias_R = []\n",
    "coerencias_L = []\n",
    "#\n",
    "for z in list_p:\n",
    "    #rho = rhoAB_bpf_sympy(theta, 0, p)\n",
    "    rho = calculated_rho_A(pi/2, 0, z)\n",
    "#    #rho_list.append(rho)\n",
    "    rhoA_R = pTraceR_num(2,2,rho)\n",
    "    #rhoA_L = pTraceL_num(2,2,rho)\n",
    "    #cA_R = coh_l1(rhoA_R)\n",
    "    #cA_L = coh_l1(rhoA_L)\n",
    "    #coerencias_R.append(cA_R)\n",
    "    #coerencias_L.append(cA_L)\n",
    "plt.plot(list_p,coerencias_R,label=f'theta inicial = {theta}')\n",
    "#plt.plot(list_p,coerencias_L,label='Rho_L')\n",
    "plt.xlabel(' p ')\n",
    "plt.ylabel(' Coerência L1 ')\n",
    "plt.legend(loc=4)\n",
    "plt.show()"
   ]
  },
  {
   "cell_type": "code",
   "execution_count": 3,
   "metadata": {},
   "outputs": [
    {
     "name": "stdout",
     "output_type": "stream",
     "text": [
      "tensor([[0.+0.0000j, 0.+0.0000j, 0.+0.0000j, 0.+0.0000j],\n",
      "        [0.+0.0000j, 0.+0.5000j, 0.+0.0000j, 0.+0.5000j],\n",
      "        [0.+0.0000j, 0.+0.0000j, 0.+0.0000j, 0.+0.0000j],\n",
      "        [0.+0.0000j, 0.+0.5000j, 0.+0.0000j, 0.+0.5000j]])\n"
     ]
    }
   ],
   "source": [
    "from sympy import cos, sin, sqrt, pi, Matrix, Symbol, exp, print_latex, simplify\n",
    "from sympy.physics.quantum import TensorProduct, Dagger\n",
    "import numpy as np\n",
    "import torch\n",
    "\n",
    "theta = Symbol('theta',real=True, positive=True)\n",
    "phi = Symbol('phi',real=True, positive=True)\n",
    "gamma = Symbol('gamma',real=True, positive=True)\n",
    "p = Symbol('p',real=True, positive=True)\n",
    "\n",
    "def calculated_rho_A(theta, phi, p):\n",
    "    state = Matrix([[(p*(1-p))*((cos(theta/2))**2+(sin(theta/2))**2),\n",
    "                     (p*(1-p))*(sin(theta/2)*cos(theta/2)*(exp(-1j*phi)-exp(1j*phi))),\n",
    "                     (p*(1-p))*(sin(theta/2)*cos(theta/2)*(exp(1j*phi)-exp(-1j*phi))),\n",
    "                     (p*(1-p))*((cos(theta/2))**2+(sin(theta/2))**2)]])\n",
    "    return state\n",
    "def calc(psi_a, k0, k1):\n",
    "    ket0 = Matrix([[1,0],[0,0]])\n",
    "    ket1 = Matrix([[0,0],[0,1]])\n",
    "    \n",
    "    a = TensorProduct(k0*psi_a,ket0)\n",
    "    b = TensorProduct(k1*psi_a,ket1)\n",
    "    PsiAB = a+b\n",
    "    return PsiAB\n",
    "\n",
    "def general_state(theta, phi):\n",
    "    state = Matrix([[cos(theta/2), exp(1j*phi)*sin(theta/2)]])\n",
    "    target_op = Dagger(state)*state\n",
    "    return Matrix(target_op)\n",
    "\n",
    "def rhoAB_bpf_sympy(theta, phi, p):\n",
    "    psi_a = general_state(theta, phi)\n",
    "    ket0 = Matrix([[1,0],[0,0]])\n",
    "    ket1 = Matrix([[0,0],[0,1]])\n",
    "    \n",
    "    k0 = Matrix([[sqrt(1-p),0],[0,sqrt(1-p)]])\n",
    "    k1 = Matrix([[0, 1j*sqrt(p)],[1j*sqrt(p), 0]])\n",
    "    \n",
    "    a = TensorProduct(k0*psi_a,ket0)\n",
    "    b = TensorProduct(k1*psi_a,ket1)\n",
    "    PsiAB = a+b\n",
    "    return PsiAB\n",
    "\n",
    "def rhoAB_bpf_torch(theta, phi, p):\n",
    "    psi_a = general_state(theta, phi)\n",
    "    # ----------- Operadores de Kraus ---------\n",
    "    k0 = Matrix([[sqrt(1-p),0],[0,sqrt(1-p)]])\n",
    "    k1 = Matrix([[0, 1j*sqrt(p)],[1j*sqrt(p), 0]])\n",
    "    #---------------------------------------------\n",
    "    PsiAB = calc(psi_a, k0, k1)\n",
    "    PsiAB = simplify(PsiAB)\n",
    "    M_numpy = np.array(PsiAB.tolist(), dtype=np.complex64)\n",
    "    M_torch = torch.from_numpy(M_numpy)\n",
    "    \n",
    "    return M_torch\n",
    "\n",
    "a = rhoAB_bpf_torch(pi/2, 0, 1)\n",
    "print(a)"
   ]
  },
  {
   "cell_type": "code",
   "execution_count": 4,
   "metadata": {},
   "outputs": [
    {
     "name": "stderr",
     "output_type": "stream",
     "text": [
      "No artists with labels found to put in legend.  Note that artists whose label start with an underscore are ignored when legend() is called with no argument.\n"
     ]
    },
    {
     "data": {
      "image/png": "[encoded data removed]",
      "text/plain": [
       "<Figure size 640x480 with 1 Axes>"
      ]
     },
     "metadata": {},
     "output_type": "display_data"
    }
   ],
   "source": [
    "from numpy import linspace\n",
    "import matplotlib.pyplot as plt\n",
    "import numpy as np \n",
    "import math\n",
    "\n",
    "\n",
    "def coh_l1(rho):  # normalized to [0,1]\n",
    "    d = rho.shape[0]\n",
    "    coh = 0.0\n",
    "    for j in range(0, d-1):\n",
    "        for k in range(j+1, d):\n",
    "            coh += math.sqrt((rho[j][k].real)**2.0 + (rho[j][k].imag)**2.0)\n",
    "    return 2.0*coh/(d-1)\n",
    "\n",
    "def pTraceL_num(dl, dr, rhoLR):\n",
    "    # Returns the left partial trace over the 'left' subsystem of rhoLR\n",
    "    rhoR = np.zeros((dr, dr), dtype=complex)\n",
    "    for j in range(0, dr):\n",
    "        for k in range(j, dr):\n",
    "            for l in range(0, dl):\n",
    "                rhoR[j,k] += rhoLR[l*dr+j,l*dr+k]\n",
    "            if j != k:\n",
    "                rhoR[k,j] = np.conj(rhoR[j,k])\n",
    "    return rhoR\n",
    "\n",
    "def pTraceR_num(dl, dr, rhoLR):\n",
    "    # Returns the right partial trace over the 'right' subsystem of rhoLR\n",
    "    rhoL = np.zeros((dl, dl), dtype=complex)\n",
    "    for j in range(0, dl):\n",
    "        for k in range(j, dl):\n",
    "            for l in range(0, dr):\n",
    "                rhoL[j,k] += rhoLR[j*dr+l,k*dr+l]\n",
    "        if j != k:\n",
    "            rhoL[k,j] = np.conj(rhoL[j,k])\n",
    "    return rhoL\n",
    "\n",
    "def plot_cohs(list_p, rho_list):\n",
    "    for rho in rho_list:\n",
    "        coerencias_R = []\n",
    "        coerencias_L = []\n",
    "        for p in list_p:\n",
    "            #rho = rhoAB_bpf_sympy(pi/2, 0, 0.5)\n",
    "    \n",
    "    \n",
    "            rhoA_R = pTraceR_num(2,2,rho)\n",
    "            rhoA_L = pTraceL_num(2,2,rho)\n",
    "            cA_R = coh_l1(rhoA_R)\n",
    "            cA_L = coh_l1(rhoA_L)\n",
    "            coerencias_R.append(cA_R)\n",
    "            coerencias_L.append(cA_L)\n",
    "        plt.scatter(list_p,coerencias_R)\n",
    "        plt.scatter(list_p,coerencias_L)\n",
    "\n",
    "#list_gamma = linspace(0,1,10)\n",
    "list_p = linspace(0,1,10)\n",
    "\n",
    "rho_list = []\n",
    "#for p in list_p:\n",
    "#    rho = rhoAB_bpf_sympy(pi/40, 20, p)\n",
    "list_theta = np.linspace(0,np.pi,10)\n",
    "for theta in list_theta:\n",
    "    rho = rhoAB_bpf_sympy(theta, 0, 0.5)\n",
    "    rho_list.append(rho)\n",
    "plot_cohs(list_p,rho_list)\n",
    "plt.xlabel(' theta ')\n",
    "plt.ylabel(' Coerência L1 ')\n",
    "plt.legend(loc=4)\n",
    "plt.show()\n",
    "###for g in list_gamma:\n",
    "##rho_list = []\n",
    "##for p in list_p:\n",
    "##    rho = rhoAB_bpf_sympy(pi/2, 0, p)\n",
    "##    rho_list.append(rho)\n",
    "##    \n",
    "##    rhoA_R = pTraceR_num(2,2,rho)\n",
    "##    rhoA_L = pTraceL_num(2,2,rho)\n",
    "##    cA_R = coh_l1(rhoA_R)\n",
    "##    cA_L = coh_l1(rhoA_L)\n",
    "##    coerencias_R.append(cA_R)\n",
    "##    coerencias_L.append(cA_L)\n",
    "##plt.plot(list_p,coerencias_R,label='Rho_R')\n",
    "##plt.plot(list_p,coerencias_L,label='Rho_L')\n",
    "##plt.xlabel(' p ')\n",
    "##plt.ylabel(' Coerência L1 ')\n",
    "##plt.legend(loc=4)\n",
    "##plt.show()"
   ]
  },
  {
   "cell_type": "code",
   "execution_count": 5,
   "metadata": {},
   "outputs": [
    {
     "ename": "IndexError",
     "evalue": "Index out of range: a[1]",
     "output_type": "error",
     "traceback": [
      "\u001b[0;31m---------------------------------------------------------------------------\u001b[0m",
      "\u001b[0;31mKeyError\u001b[0m                                  Traceback (most recent call last)",
      "File \u001b[0;32m~/Desktop/Runtime-qiskit/env/lib/python3.10/site-packages/sympy/polys/matrices/sdm.py:80\u001b[0m, in \u001b[0;36mSDM.getitem\u001b[0;34m(self, i, j)\u001b[0m\n\u001b[1;32m     79\u001b[0m \u001b[39mtry\u001b[39;00m:\n\u001b[0;32m---> 80\u001b[0m     \u001b[39mreturn\u001b[39;00m \u001b[39mself\u001b[39;49m[i][j]\n\u001b[1;32m     81\u001b[0m \u001b[39mexcept\u001b[39;00m \u001b[39mKeyError\u001b[39;00m:\n",
      "\u001b[0;31mKeyError\u001b[0m: 1",
      "\nDuring handling of the above exception, another exception occurred:\n",
      "\u001b[0;31mIndexError\u001b[0m                                Traceback (most recent call last)",
      "File \u001b[0;32m~/Desktop/Runtime-qiskit/env/lib/python3.10/site-packages/sympy/matrices/repmatrix.py:712\u001b[0m, in \u001b[0;36m_getitem_RepMatrix\u001b[0;34m(self, key)\u001b[0m\n\u001b[1;32m    711\u001b[0m \u001b[39mtry\u001b[39;00m:\n\u001b[0;32m--> 712\u001b[0m     \u001b[39mreturn\u001b[39;00m \u001b[39mself\u001b[39;49m\u001b[39m.\u001b[39;49m_rep\u001b[39m.\u001b[39;49mgetitem_sympy(index_(i), index_(j))\n\u001b[1;32m    713\u001b[0m \u001b[39mexcept\u001b[39;00m (\u001b[39mTypeError\u001b[39;00m, \u001b[39mIndexError\u001b[39;00m):\n",
      "File \u001b[0;32m~/Desktop/Runtime-qiskit/env/lib/python3.10/site-packages/sympy/polys/matrices/domainmatrix.py:174\u001b[0m, in \u001b[0;36mDomainMatrix.getitem_sympy\u001b[0;34m(self, i, j)\u001b[0m\n\u001b[1;32m    173\u001b[0m \u001b[39mdef\u001b[39;00m \u001b[39mgetitem_sympy\u001b[39m(\u001b[39mself\u001b[39m, i, j):\n\u001b[0;32m--> 174\u001b[0m     \u001b[39mreturn\u001b[39;00m \u001b[39mself\u001b[39m\u001b[39m.\u001b[39mdomain\u001b[39m.\u001b[39mto_sympy(\u001b[39mself\u001b[39;49m\u001b[39m.\u001b[39;49mrep\u001b[39m.\u001b[39;49mgetitem(i, j))\n",
      "File \u001b[0;32m~/Desktop/Runtime-qiskit/env/lib/python3.10/site-packages/sympy/polys/matrices/sdm.py:89\u001b[0m, in \u001b[0;36mSDM.getitem\u001b[0;34m(self, i, j)\u001b[0m\n\u001b[1;32m     88\u001b[0m \u001b[39melse\u001b[39;00m:\n\u001b[0;32m---> 89\u001b[0m     \u001b[39mraise\u001b[39;00m \u001b[39mIndexError\u001b[39;00m(\u001b[39m\"\u001b[39m\u001b[39mindex out of range\u001b[39m\u001b[39m\"\u001b[39m)\n",
      "\u001b[0;31mIndexError\u001b[0m: index out of range",
      "\nDuring handling of the above exception, another exception occurred:\n",
      "\u001b[0;31mIndexError\u001b[0m                                Traceback (most recent call last)",
      "Cell \u001b[0;32mIn[5], line 17\u001b[0m\n\u001b[1;32m     14\u001b[0m theta \u001b[39m=\u001b[39m theta\u001b[39m-\u001b[39m\u001b[39m0.25\u001b[39m\n\u001b[1;32m     15\u001b[0m \u001b[39m#rho_list.append(rho)\u001b[39;00m\n\u001b[0;32m---> 17\u001b[0m rhoA_R \u001b[39m=\u001b[39m pTraceR_num(\u001b[39m2\u001b[39;49m,\u001b[39m2\u001b[39;49m,rho)\n\u001b[1;32m     18\u001b[0m rhoA_L \u001b[39m=\u001b[39m pTraceL_num(\u001b[39m2\u001b[39m,\u001b[39m2\u001b[39m,rho)\n\u001b[1;32m     19\u001b[0m cA_R \u001b[39m=\u001b[39m coh_l1(rhoA_R)\n",
      "Cell \u001b[0;32mIn[4], line 32\u001b[0m, in \u001b[0;36mpTraceR_num\u001b[0;34m(dl, dr, rhoLR)\u001b[0m\n\u001b[1;32m     30\u001b[0m \u001b[39mfor\u001b[39;00m k \u001b[39min\u001b[39;00m \u001b[39mrange\u001b[39m(j, dl):\n\u001b[1;32m     31\u001b[0m     \u001b[39mfor\u001b[39;00m l \u001b[39min\u001b[39;00m \u001b[39mrange\u001b[39m(\u001b[39m0\u001b[39m, dr):\n\u001b[0;32m---> 32\u001b[0m         rhoL[j,k] \u001b[39m+\u001b[39m\u001b[39m=\u001b[39m rhoLR[j\u001b[39m*\u001b[39;49mdr\u001b[39m+\u001b[39;49ml,k\u001b[39m*\u001b[39;49mdr\u001b[39m+\u001b[39;49ml]\n\u001b[1;32m     33\u001b[0m \u001b[39mif\u001b[39;00m j \u001b[39m!=\u001b[39m k:\n\u001b[1;32m     34\u001b[0m     rhoL[k,j] \u001b[39m=\u001b[39m np\u001b[39m.\u001b[39mconj(rhoL[j,k])\n",
      "File \u001b[0;32m~/Desktop/Runtime-qiskit/env/lib/python3.10/site-packages/sympy/matrices/repmatrix.py:233\u001b[0m, in \u001b[0;36mRepMatrix.__getitem__\u001b[0;34m(self, key)\u001b[0m\n\u001b[1;32m    232\u001b[0m \u001b[39mdef\u001b[39;00m \u001b[39m__getitem__\u001b[39m(\u001b[39mself\u001b[39m, key):\n\u001b[0;32m--> 233\u001b[0m     \u001b[39mreturn\u001b[39;00m _getitem_RepMatrix(\u001b[39mself\u001b[39;49m, key)\n",
      "File \u001b[0;32m~/Desktop/Runtime-qiskit/env/lib/python3.10/site-packages/sympy/matrices/repmatrix.py:733\u001b[0m, in \u001b[0;36m_getitem_RepMatrix\u001b[0;34m(self, key)\u001b[0m\n\u001b[1;32m    731\u001b[0m         \u001b[39melse\u001b[39;00m:\n\u001b[1;32m    732\u001b[0m             j \u001b[39m=\u001b[39m [j]\n\u001b[0;32m--> 733\u001b[0m         \u001b[39mreturn\u001b[39;00m \u001b[39mself\u001b[39;49m\u001b[39m.\u001b[39;49mextract(i, j)\n\u001b[1;32m    735\u001b[0m \u001b[39melse\u001b[39;00m:\n\u001b[1;32m    736\u001b[0m     \u001b[39m# Index/slice like a flattened list\u001b[39;00m\n\u001b[1;32m    737\u001b[0m     rows, cols \u001b[39m=\u001b[39m \u001b[39mself\u001b[39m\u001b[39m.\u001b[39mshape\n",
      "File \u001b[0;32m~/Desktop/Runtime-qiskit/env/lib/python3.10/site-packages/sympy/matrices/common.py:369\u001b[0m, in \u001b[0;36mMatrixShaping.extract\u001b[0;34m(self, rowsList, colsList)\u001b[0m\n\u001b[1;32m    366\u001b[0m     colsList \u001b[39m=\u001b[39m [index \u001b[39mfor\u001b[39;00m index, item \u001b[39min\u001b[39;00m \u001b[39menumerate\u001b[39m(colsList) \u001b[39mif\u001b[39;00m item]\n\u001b[1;32m    368\u001b[0m \u001b[39m# ensure everything is in range\u001b[39;00m\n\u001b[0;32m--> 369\u001b[0m rowsList \u001b[39m=\u001b[39m [a2idx(k, \u001b[39mself\u001b[39m\u001b[39m.\u001b[39mrows) \u001b[39mfor\u001b[39;00m k \u001b[39min\u001b[39;00m rowsList]\n\u001b[1;32m    370\u001b[0m colsList \u001b[39m=\u001b[39m [a2idx(k, \u001b[39mself\u001b[39m\u001b[39m.\u001b[39mcols) \u001b[39mfor\u001b[39;00m k \u001b[39min\u001b[39;00m colsList]\n\u001b[1;32m    372\u001b[0m \u001b[39mreturn\u001b[39;00m \u001b[39mself\u001b[39m\u001b[39m.\u001b[39m_eval_extract(rowsList, colsList)\n",
      "File \u001b[0;32m~/Desktop/Runtime-qiskit/env/lib/python3.10/site-packages/sympy/matrices/common.py:369\u001b[0m, in \u001b[0;36m<listcomp>\u001b[0;34m(.0)\u001b[0m\n\u001b[1;32m    366\u001b[0m     colsList \u001b[39m=\u001b[39m [index \u001b[39mfor\u001b[39;00m index, item \u001b[39min\u001b[39;00m \u001b[39menumerate\u001b[39m(colsList) \u001b[39mif\u001b[39;00m item]\n\u001b[1;32m    368\u001b[0m \u001b[39m# ensure everything is in range\u001b[39;00m\n\u001b[0;32m--> 369\u001b[0m rowsList \u001b[39m=\u001b[39m [a2idx(k, \u001b[39mself\u001b[39;49m\u001b[39m.\u001b[39;49mrows) \u001b[39mfor\u001b[39;00m k \u001b[39min\u001b[39;00m rowsList]\n\u001b[1;32m    370\u001b[0m colsList \u001b[39m=\u001b[39m [a2idx(k, \u001b[39mself\u001b[39m\u001b[39m.\u001b[39mcols) \u001b[39mfor\u001b[39;00m k \u001b[39min\u001b[39;00m colsList]\n\u001b[1;32m    372\u001b[0m \u001b[39mreturn\u001b[39;00m \u001b[39mself\u001b[39m\u001b[39m.\u001b[39m_eval_extract(rowsList, colsList)\n",
      "File \u001b[0;32m~/Desktop/Runtime-qiskit/env/lib/python3.10/site-packages/sympy/matrices/common.py:3258\u001b[0m, in \u001b[0;36ma2idx\u001b[0;34m(j, n)\u001b[0m\n\u001b[1;32m   3256\u001b[0m         j \u001b[39m+\u001b[39m\u001b[39m=\u001b[39m n\n\u001b[1;32m   3257\u001b[0m     \u001b[39mif\u001b[39;00m \u001b[39mnot\u001b[39;00m (j \u001b[39m>\u001b[39m\u001b[39m=\u001b[39m \u001b[39m0\u001b[39m \u001b[39mand\u001b[39;00m j \u001b[39m<\u001b[39m n):\n\u001b[0;32m-> 3258\u001b[0m         \u001b[39mraise\u001b[39;00m \u001b[39mIndexError\u001b[39;00m(\u001b[39m\"\u001b[39m\u001b[39mIndex out of range: a[\u001b[39m\u001b[39m%s\u001b[39;00m\u001b[39m]\u001b[39m\u001b[39m\"\u001b[39m \u001b[39m%\u001b[39m (j,))\n\u001b[1;32m   3259\u001b[0m \u001b[39mreturn\u001b[39;00m \u001b[39mint\u001b[39m(j)\n",
      "\u001b[0;31mIndexError\u001b[0m: Index out of range: a[1]"
     ]
    }
   ],
   "source": [
    "from numpy import linspace\n",
    "list_p = linspace(0,1,15)\n",
    "\n",
    "\n",
    "#for g in list_gamma:\n",
    "rho_list = []\n",
    "list_theta = [ pi/2, pi/3, pi/4, pi/5, pi/6, pi/7]\n",
    "coerencias_R = []\n",
    "coerencias_L = []\n",
    "theta = pi/2\n",
    "for p in list_p:\n",
    "    #rho = rhoAB_bpf_sympy(theta, 0, p)\n",
    "    rho = calculated_rho_A(theta, 0, p)\n",
    "    theta = theta-0.25\n",
    "    #rho_list.append(rho)\n",
    "    \n",
    "    rhoA_R = pTraceR_num(2,2,rho)\n",
    "    rhoA_L = pTraceL_num(2,2,rho)\n",
    "    cA_R = coh_l1(rhoA_R)\n",
    "    cA_L = coh_l1(rhoA_L)\n",
    "    coerencias_R.append(cA_R)\n",
    "    coerencias_L.append(cA_L)\n",
    "plt.plot(list_p,coerencias_R,label=f'theta inicial = {theta}')\n",
    "#plt.plot(list_p,coerencias_L,label='Rho_L')\n",
    "plt.xlabel(' p ')\n",
    "plt.ylabel(' Coerência L1 ')\n",
    "plt.legend(loc=4)\n",
    "plt.show()"
   ]
  },
  {
   "cell_type": "code",
   "execution_count": 11,
   "metadata": {},
   "outputs": [
    {
     "data": {
      "image/png": "[encoded data removed]",
      "text/plain": [
       "<Figure size 640x480 with 1 Axes>"
      ]
     },
     "metadata": {},
     "output_type": "display_data"
    }
   ],
   "source": [
    "\n",
    "#list_gamma = linspace(0,1,10)\n",
    "list_p = linspace(0,1,50)\n",
    "\n",
    "\n",
    "#for g in list_gamma:\n",
    "rho_list = []\n",
    "list_theta = [ pi/2, pi/3, pi/4, pi/5, pi/6, pi/7]\n",
    "for theta in list_theta:\n",
    "    coerencias_R = []\n",
    "    coerencias_L = []\n",
    "    for p in list_p:\n",
    "        rho = rhoAB_bpf_sympy(theta, 0, p)\n",
    "        rho_list.append(rho)\n",
    "        \n",
    "        rhoA_R = pTraceR_num(2,2,rho)\n",
    "        rhoA_L = pTraceL_num(2,2,rho)\n",
    "        cA_R = coh_l1(rhoA_R)\n",
    "        cA_L = coh_l1(rhoA_L)\n",
    "        coerencias_R.append(cA_R)\n",
    "        coerencias_L.append(cA_L)\n",
    "    plt.plot(list_p,coerencias_R,label=f'theta = {theta}')\n",
    "    #plt.plot(list_p,coerencias_L,label='Rho_L')\n",
    "plt.xlabel(' p ')\n",
    "plt.ylabel(' Coerência L1 ')\n",
    "plt.legend(loc=4)\n",
    "plt.show()"
   ]
  },
  {
   "cell_type": "code",
   "execution_count": null,
   "metadata": {},
   "outputs": [],
   "source": [
    "list_p = linspace(0,1,50)\n",
    "\n",
    "coerencias_R = []\n",
    "coerencias_L = []\n",
    "#for g in list_gamma:\n",
    "def plot_cohs(list_p, rho_list):\n",
    "    for rho in rho_list:\n",
    "        for p in list_p:\n",
    "            rho = rhoAB_bpf_sympy(pi/2, 0, 0.5)\n",
    "    \n",
    "    \n",
    "            rhoA_R = pTraceR_num(2,2,rho)\n",
    "            rhoA_L = pTraceL_num(2,2,rho)\n",
    "            cA_R = coh_l1(rhoA_R)\n",
    "            cA_L = coh_l1(rhoA_L)\n",
    "            coerencias_R.append(cA_R)\n",
    "            coerencias_L.append(cA_L)\n",
    "        plt.plot(list_p,coerencias_R,label=f'Rho_R({p})')\n",
    "        plt.plot(list_p,coerencias_L,label=f'Rho_L({p})')\n",
    "plt.xlabel(' p ')\n",
    "plt.ylabel(' Coerência L1 ')\n",
    "plt.legend(loc=4)\n",
    "plt.show()"
   ]
  },
  {
   "cell_type": "code",
   "execution_count": 10,
   "metadata": {},
   "outputs": [
    {
     "data": {
      "text/latex": [
       "$\\displaystyle 1.0$"
      ],
      "text/plain": [
       "1.00000000000000"
      ]
     },
     "execution_count": 10,
     "metadata": {},
     "output_type": "execute_result"
    }
   ],
   "source": [
    "def trace(A):\n",
    "    d = A.shape[0]; tr = 0.0\n",
    "    for j in range(0,d):\n",
    "       tr += A[j,j]\n",
    "    return tr\n",
    "trace(result).subs(theta,pi).subs(gamma,0.5).subs(p,1)"
   ]
  },
  {
   "cell_type": "code",
   "execution_count": null,
   "metadata": {},
   "outputs": [
    {
     "data": {
      "text/latex": [
       "$\\displaystyle {\\left[\\begin{matrix}\\cos{\\left(\\frac{\\overline{\\theta}}{2} \\right)} \\overline{\\sqrt{p}}\\\\e^{- 1.0 i \\overline{\\phi}} \\sin{\\left(\\frac{\\overline{\\theta}}{2} \\right)} \\overline{\\sqrt{\\gamma p}}\\\\\\cos{\\left(\\frac{\\overline{\\theta}}{2} \\right)} \\overline{\\sqrt{\\left(1 - \\gamma\\right) \\left(1 - p\\right)}}\\\\0\\\\e^{- 1.0 i \\overline{\\phi}} \\sin{\\left(\\frac{\\overline{\\theta}}{2} \\right)} \\overline{\\sqrt{p \\left(1 - \\gamma\\right)}}\\\\0\\\\e^{- 1.0 i \\overline{\\phi}} \\sin{\\left(\\frac{\\overline{\\theta}}{2} \\right)} \\overline{\\sqrt{1 - p}}\\\\\\cos{\\left(\\frac{\\overline{\\theta}}{2} \\right)} \\overline{\\gamma} \\overline{\\sqrt{1 - p}}\\end{matrix}\\right]}\\otimes {\\left[\\begin{matrix}\\sqrt{p} \\cos{\\left(\\frac{\\theta}{2} \\right)}\\\\\\sqrt{\\gamma p} e^{1.0 i \\phi} \\sin{\\left(\\frac{\\theta}{2} \\right)}\\\\\\sqrt{\\left(1 - \\gamma\\right) \\left(1 - p\\right)} \\cos{\\left(\\frac{\\theta}{2} \\right)}\\\\0\\\\\\sqrt{p \\left(1 - \\gamma\\right)} e^{1.0 i \\phi} \\sin{\\left(\\frac{\\theta}{2} \\right)}\\\\0\\\\\\sqrt{1 - p} e^{1.0 i \\phi} \\sin{\\left(\\frac{\\theta}{2} \\right)}\\\\\\gamma \\sqrt{1 - p} \\cos{\\left(\\frac{\\theta}{2} \\right)}\\end{matrix}\\right]}$"
      ],
      "text/plain": [
       "Matrix([\n",
       "[                                       cos(conjugate(theta)/2)*conjugate(sqrt(p))],\n",
       "[      exp(-1.0*I*conjugate(phi))*sin(conjugate(theta)/2)*conjugate(sqrt(gamma*p))],\n",
       "[                     cos(conjugate(theta)/2)*conjugate(sqrt((1 - gamma)*(1 - p)))],\n",
       "[                                                                                0],\n",
       "[exp(-1.0*I*conjugate(phi))*sin(conjugate(theta)/2)*conjugate(sqrt(p*(1 - gamma)))],\n",
       "[                                                                                0],\n",
       "[        exp(-1.0*I*conjugate(phi))*sin(conjugate(theta)/2)*conjugate(sqrt(1 - p))],\n",
       "[                  cos(conjugate(theta)/2)*conjugate(gamma)*conjugate(sqrt(1 - p))]])xMatrix([\n",
       "[                           sqrt(p)*cos(theta/2)],\n",
       "[      sqrt(gamma*p)*exp(1.0*I*phi)*sin(theta/2)],\n",
       "[         sqrt((1 - gamma)*(1 - p))*cos(theta/2)],\n",
       "[                                              0],\n",
       "[sqrt(p*(1 - gamma))*exp(1.0*I*phi)*sin(theta/2)],\n",
       "[                                              0],\n",
       "[        sqrt(1 - p)*exp(1.0*I*phi)*sin(theta/2)],\n",
       "[                 gamma*sqrt(1 - p)*cos(theta/2)]])"
      ]
     },
     "metadata": {},
     "output_type": "display_data"
    }
   ],
   "source": [
    "from sympy.physics.quantum import TensorProduct\n",
    "from sympy import conjugate\n",
    "\n",
    "rho_AB = TensorProduct(conjugate(Psi_AB),Psi_AB)\n",
    "rho_AB"
   ]
  },
  {
   "cell_type": "code",
   "execution_count": null,
   "metadata": {},
   "outputs": [
    {
     "data": {
      "text/latex": [
       "$\\displaystyle - \\mathbf{\\hat{i}_{N}} + \\left(-3\\right)\\mathbf{\\hat{j}_{N}} + \\left(-11\\right)\\mathbf{\\hat{k}_{N}}$"
      ],
      "text/plain": [
       "(-1)*N.i + (-3)*N.j + (-11)*N.k"
      ]
     },
     "metadata": {},
     "output_type": "display_data"
    }
   ],
   "source": [
    "from sympy.vector import CoordSys3D\n",
    "N = CoordSys3D('N')\n",
    "v1 = 2*N.i+3*N.j-N.k\n",
    "v2 = N.i-4*N.j+N.k\n",
    "v1.dot(v2)\n",
    "v3 = v1.cross(v2)\n",
    "v3"
   ]
  },
  {
   "cell_type": "code",
   "execution_count": null,
   "metadata": {},
   "outputs": [],
   "source": [
    "target_op = state_generalized_amplitude_damping(np.pi/2, 0, p,1)\n",
    "alpha = eval(input(\"How many rows? \"))\n",
    "beta = eval(input(\"How many columns? \"))\n",
    "\n",
    "def make_matrix(alpha,beta):\n",
    "    matrix_thing = SHIT.random.randint(0,50,(alpha,beta))\n",
    "    return(matrix_thing)\n",
    "\n",
    "matrix_sympy = Matrix(make_matrix(alpha, beta))"
   ]
  }
 ],
 "metadata": {
  "kernelspec": {
   "display_name": "env",
   "language": "python",
   "name": "python3"
  },
  "language_info": {
   "codemirror_mode": {
    "name": "ipython",
    "version": 3
   },
   "file_extension": ".py",
   "mimetype": "text/x-python",
   "name": "python",
   "nbconvert_exporter": "python",
   "pygments_lexer": "ipython3",
   "version": "3.10.6"
  },
  "orig_nbformat": 4,
  "vscode": {
   "interpreter": {
    "hash": "f309f41cc1031c3222a5eb4c6b99ec5d3d1a742e018bf44f3accb1cd68cc28ab"
   }
  }
 },
 "nbformat": 4,
 "nbformat_minor": 2
}
