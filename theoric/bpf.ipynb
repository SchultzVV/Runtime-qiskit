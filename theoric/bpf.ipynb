{
 "cells": [
  {
   "cell_type": "code",
   "execution_count": 5,
   "metadata": {},
   "outputs": [],
   "source": [
    "from sympy.physics.quantum import TensorProduct,Dagger\n",
    "from sympy import Symbol\n",
    "from sympy import sin, cos, exp, sqrt, pi\n",
    "from sympy.matrices import Matrix\n",
    "\n",
    "theta = Symbol('theta')\n",
    "phi = Symbol('phi')\n",
    "p = Symbol('p')\n",
    "\n",
    "def general_state_matrix():\n",
    "    return Matrix([[cos(theta/2)**2, exp(1j*phi)*cos(theta/2)*sin(theta/2)],[exp(-1j*phi)*cos(theta/2)*sin(theta/2),sin(theta/2)**2]])\n",
    "matriz_estado_geral = general_state_matrix()\n",
    "#matriz_estado_geral\n",
    "\n",
    "def Kbpf(j, p):\n",
    "    if j == 0:\n",
    "        return Matrix([[0,sqrt(p)],[0,0]])\n",
    "    elif j == 1:\n",
    "        return Matrix([[1,0],[0,sqrt(1-p)]])\n",
    "\n",
    "#k0 = Kad(2,p)\n",
    "#k0"
   ]
  },
  {
   "cell_type": "code",
   "execution_count": 11,
   "metadata": {},
   "outputs": [
    {
     "data": {
      "text/latex": [
       "$\\displaystyle \\left[\\begin{matrix}p \\cos^{2}{\\left(\\frac{\\theta}{2} \\right)} & \\frac{\\sqrt{\\gamma} p e^{- 1.0 i \\phi} \\sin{\\left(\\theta \\right)}}{2} & \\sqrt{p} \\cos^{2}{\\left(\\frac{\\theta}{2} \\right)} \\overline{\\sqrt{\\left(\\gamma - 1\\right) \\left(p - 1\\right)}} & 0 & \\frac{p e^{- 1.0 i \\phi} \\sin{\\left(\\theta \\right)} \\overline{\\sqrt{1 - \\gamma}}}{2} & 0 & \\frac{\\sqrt{p} e^{- 1.0 i \\phi} \\sin{\\left(\\theta \\right)} \\overline{\\sqrt{1 - p}}}{2} & \\gamma \\sqrt{p} \\cos^{2}{\\left(\\frac{\\theta}{2} \\right)} \\overline{\\sqrt{1 - p}}\\\\\\frac{\\sqrt{\\gamma} p e^{1.0 i \\phi} \\sin{\\left(\\theta \\right)}}{2} & \\gamma p \\sin^{2}{\\left(\\frac{\\theta}{2} \\right)} & \\frac{\\sqrt{\\gamma} \\sqrt{p} e^{1.0 i \\phi} \\sin{\\left(\\theta \\right)} \\overline{\\sqrt{\\left(\\gamma - 1\\right) \\left(p - 1\\right)}}}{2} & 0 & \\sqrt{\\gamma} p \\sin^{2}{\\left(\\frac{\\theta}{2} \\right)} \\overline{\\sqrt{1 - \\gamma}} & 0 & \\sqrt{\\gamma} \\sqrt{p} \\sin^{2}{\\left(\\frac{\\theta}{2} \\right)} \\overline{\\sqrt{1 - p}} & \\frac{\\gamma^{\\frac{3}{2}} \\sqrt{p} e^{1.0 i \\phi} \\sin{\\left(\\theta \\right)} \\overline{\\sqrt{1 - p}}}{2}\\\\\\sqrt{p} \\sqrt{\\left(\\gamma - 1\\right) \\left(p - 1\\right)} \\cos^{2}{\\left(\\frac{\\theta}{2} \\right)} & \\frac{\\sqrt{\\gamma} \\sqrt{p} \\sqrt{\\left(\\gamma - 1\\right) \\left(p - 1\\right)} e^{- 1.0 i \\phi} \\sin{\\left(\\theta \\right)}}{2} & \\sqrt{\\left(\\gamma - 1\\right) \\left(p - 1\\right)} \\cos^{2}{\\left(\\frac{\\theta}{2} \\right)} \\overline{\\sqrt{\\left(\\gamma - 1\\right) \\left(p - 1\\right)}} & 0 & \\frac{\\sqrt{p} \\sqrt{\\left(\\gamma - 1\\right) \\left(p - 1\\right)} e^{- 1.0 i \\phi} \\sin{\\left(\\theta \\right)} \\overline{\\sqrt{1 - \\gamma}}}{2} & 0 & \\frac{\\sqrt{\\left(\\gamma - 1\\right) \\left(p - 1\\right)} e^{- 1.0 i \\phi} \\sin{\\left(\\theta \\right)} \\overline{\\sqrt{1 - p}}}{2} & \\gamma \\sqrt{\\left(\\gamma - 1\\right) \\left(p - 1\\right)} \\cos^{2}{\\left(\\frac{\\theta}{2} \\right)} \\overline{\\sqrt{1 - p}}\\\\0 & 0 & 0 & 0 & 0 & 0 & 0 & 0\\\\\\frac{p \\sqrt{1 - \\gamma} e^{1.0 i \\phi} \\sin{\\left(\\theta \\right)}}{2} & \\sqrt{\\gamma} p \\sqrt{1 - \\gamma} \\sin^{2}{\\left(\\frac{\\theta}{2} \\right)} & \\frac{\\sqrt{p} \\sqrt{1 - \\gamma} e^{1.0 i \\phi} \\sin{\\left(\\theta \\right)} \\overline{\\sqrt{\\left(\\gamma - 1\\right) \\left(p - 1\\right)}}}{2} & 0 & p \\sqrt{1 - \\gamma} \\sin^{2}{\\left(\\frac{\\theta}{2} \\right)} \\overline{\\sqrt{1 - \\gamma}} & 0 & \\sqrt{p} \\sqrt{1 - \\gamma} \\sin^{2}{\\left(\\frac{\\theta}{2} \\right)} \\overline{\\sqrt{1 - p}} & \\frac{\\gamma \\sqrt{p} \\sqrt{1 - \\gamma} e^{1.0 i \\phi} \\sin{\\left(\\theta \\right)} \\overline{\\sqrt{1 - p}}}{2}\\\\0 & 0 & 0 & 0 & 0 & 0 & 0 & 0\\\\\\frac{\\sqrt{p} \\sqrt{1 - p} e^{1.0 i \\phi} \\sin{\\left(\\theta \\right)}}{2} & \\sqrt{\\gamma} \\sqrt{p} \\sqrt{1 - p} \\sin^{2}{\\left(\\frac{\\theta}{2} \\right)} & \\frac{\\sqrt{1 - p} e^{1.0 i \\phi} \\sin{\\left(\\theta \\right)} \\overline{\\sqrt{\\left(\\gamma - 1\\right) \\left(p - 1\\right)}}}{2} & 0 & \\sqrt{p} \\sqrt{1 - p} \\sin^{2}{\\left(\\frac{\\theta}{2} \\right)} \\overline{\\sqrt{1 - \\gamma}} & 0 & \\sqrt{1 - p} \\sin^{2}{\\left(\\frac{\\theta}{2} \\right)} \\overline{\\sqrt{1 - p}} & \\frac{\\gamma \\sqrt{1 - p} e^{1.0 i \\phi} \\sin{\\left(\\theta \\right)} \\overline{\\sqrt{1 - p}}}{2}\\\\\\gamma \\sqrt{p} \\sqrt{1 - p} \\cos^{2}{\\left(\\frac{\\theta}{2} \\right)} & \\frac{\\gamma^{\\frac{3}{2}} \\sqrt{p} \\sqrt{1 - p} e^{- 1.0 i \\phi} \\sin{\\left(\\theta \\right)}}{2} & \\gamma \\sqrt{1 - p} \\cos^{2}{\\left(\\frac{\\theta}{2} \\right)} \\overline{\\sqrt{\\left(\\gamma - 1\\right) \\left(p - 1\\right)}} & 0 & \\frac{\\gamma \\sqrt{p} \\sqrt{1 - p} e^{- 1.0 i \\phi} \\sin{\\left(\\theta \\right)} \\overline{\\sqrt{1 - \\gamma}}}{2} & 0 & \\frac{\\gamma \\sqrt{1 - p} e^{- 1.0 i \\phi} \\sin{\\left(\\theta \\right)} \\overline{\\sqrt{1 - p}}}{2} & \\gamma^{2} \\sqrt{1 - p} \\cos^{2}{\\left(\\frac{\\theta}{2} \\right)} \\overline{\\sqrt{1 - p}}\\end{matrix}\\right]$"
      ],
      "text/plain": [
       "Matrix([\n",
       "[                                p*cos(theta/2)**2,                                 sqrt(gamma)*p*exp(-1.0*I*phi)*sin(theta)/2,                             sqrt(p)*cos(theta/2)**2*conjugate(sqrt((gamma - 1)*(p - 1))), 0,                                 p*exp(-1.0*I*phi)*sin(theta)*conjugate(sqrt(1 - gamma))/2, 0,                   sqrt(p)*exp(-1.0*I*phi)*sin(theta)*conjugate(sqrt(1 - p))/2,                             gamma*sqrt(p)*cos(theta/2)**2*conjugate(sqrt(1 - p))],\n",
       "[        sqrt(gamma)*p*exp(1.0*I*phi)*sin(theta)/2,                                                    gamma*p*sin(theta/2)**2,     sqrt(gamma)*sqrt(p)*exp(1.0*I*phi)*sin(theta)*conjugate(sqrt((gamma - 1)*(p - 1)))/2, 0,                                  sqrt(gamma)*p*sin(theta/2)**2*conjugate(sqrt(1 - gamma)), 0,                    sqrt(gamma)*sqrt(p)*sin(theta/2)**2*conjugate(sqrt(1 - p)),          gamma**(3/2)*sqrt(p)*exp(1.0*I*phi)*sin(theta)*conjugate(sqrt(1 - p))/2],\n",
       "[sqrt(p)*sqrt((gamma - 1)*(p - 1))*cos(theta/2)**2, sqrt(gamma)*sqrt(p)*sqrt((gamma - 1)*(p - 1))*exp(-1.0*I*phi)*sin(theta)/2,           sqrt((gamma - 1)*(p - 1))*cos(theta/2)**2*conjugate(sqrt((gamma - 1)*(p - 1))), 0, sqrt(p)*sqrt((gamma - 1)*(p - 1))*exp(-1.0*I*phi)*sin(theta)*conjugate(sqrt(1 - gamma))/2, 0, sqrt((gamma - 1)*(p - 1))*exp(-1.0*I*phi)*sin(theta)*conjugate(sqrt(1 - p))/2,           gamma*sqrt((gamma - 1)*(p - 1))*cos(theta/2)**2*conjugate(sqrt(1 - p))],\n",
       "[                                                0,                                                                          0,                                                                                        0, 0,                                                                                         0, 0,                                                                             0,                                                                                0],\n",
       "[    p*sqrt(1 - gamma)*exp(1.0*I*phi)*sin(theta)/2,                              sqrt(gamma)*p*sqrt(1 - gamma)*sin(theta/2)**2, sqrt(p)*sqrt(1 - gamma)*exp(1.0*I*phi)*sin(theta)*conjugate(sqrt((gamma - 1)*(p - 1)))/2, 0,                              p*sqrt(1 - gamma)*sin(theta/2)**2*conjugate(sqrt(1 - gamma)), 0,                sqrt(p)*sqrt(1 - gamma)*sin(theta/2)**2*conjugate(sqrt(1 - p)), gamma*sqrt(p)*sqrt(1 - gamma)*exp(1.0*I*phi)*sin(theta)*conjugate(sqrt(1 - p))/2],\n",
       "[                                                0,                                                                          0,                                                                                        0, 0,                                                                                         0, 0,                                                                             0,                                                                                0],\n",
       "[  sqrt(p)*sqrt(1 - p)*exp(1.0*I*phi)*sin(theta)/2,                            sqrt(gamma)*sqrt(p)*sqrt(1 - p)*sin(theta/2)**2,             sqrt(1 - p)*exp(1.0*I*phi)*sin(theta)*conjugate(sqrt((gamma - 1)*(p - 1)))/2, 0,                            sqrt(p)*sqrt(1 - p)*sin(theta/2)**2*conjugate(sqrt(1 - gamma)), 0,                            sqrt(1 - p)*sin(theta/2)**2*conjugate(sqrt(1 - p)),             gamma*sqrt(1 - p)*exp(1.0*I*phi)*sin(theta)*conjugate(sqrt(1 - p))/2],\n",
       "[        gamma*sqrt(p)*sqrt(1 - p)*cos(theta/2)**2,              gamma**(3/2)*sqrt(p)*sqrt(1 - p)*exp(-1.0*I*phi)*sin(theta)/2,                   gamma*sqrt(1 - p)*cos(theta/2)**2*conjugate(sqrt((gamma - 1)*(p - 1))), 0,         gamma*sqrt(p)*sqrt(1 - p)*exp(-1.0*I*phi)*sin(theta)*conjugate(sqrt(1 - gamma))/2, 0,         gamma*sqrt(1 - p)*exp(-1.0*I*phi)*sin(theta)*conjugate(sqrt(1 - p))/2,                      gamma**2*sqrt(1 - p)*cos(theta/2)**2*conjugate(sqrt(1 - p))]])"
      ]
     },
     "execution_count": 11,
     "metadata": {},
     "output_type": "execute_result"
    }
   ],
   "source": [
    "import sympy as sym\n",
    "from sympy.physics.quantum import TensorProduct, Dagger\n",
    "from sympy.matrices import Matrix\n",
    "theta = sym.Symbol('theta',real=True, positive=True)\n",
    "phi = sym.Symbol('phi',real=True, positive=True)\n",
    "\n",
    "p = sym.Symbol('p',real=True, positive=True)\n",
    "gamma = sym.Symbol('gamma',real=True, positive=True)\n",
    "\n",
    "Psi_AB = sym.Matrix([[\n",
    "           sym.sqrt(p)*sym.cos(theta/2)],[\n",
    "           sym.sqrt(p*gamma)*sym.exp(1j*phi)*sym.sin(theta/2)],[\n",
    "           sym.sqrt((1-p)*(1-gamma))*sym.cos(theta/2)],[\n",
    "           0],[\n",
    "           sym.sqrt(p*(1-gamma))*sym.exp(1j*phi)*sym.sin(theta/2)],[\n",
    "           0],[\n",
    "           sym.sqrt(1-p)*sym.exp(1j*phi)*sym.sin(theta/2)],[\n",
    "           sym.sqrt(1-p)*gamma*sym.cos(theta/2)\n",
    "           ]]) \n",
    "# Psi_AB = sym.Array([[sym.sqrt(p)*sym.cos(theta/2),\n",
    "#            sym.sqrt(p*gamma)*sym.exp(1j*phi)*sym.sin(theta/2),\n",
    "#            sym.sqrt((1-p)*(1-gamma))*sym.cos(theta/2),\n",
    "#            0,\n",
    "#            sym.sqrt(p*(1-gamma))*sym.exp(1j*phi)*sym.sin(theta/2),\n",
    "#            0,\n",
    "#            sym.sqrt(1-p)*sym.exp(1j*phi)*sym.sin(theta/2),\n",
    "#            sym.sqrt(1-p)*gamma*sym.cos(theta/2)\n",
    "#            ]]) \n",
    "Psi_AB.shape\n",
    "result = Psi_AB*Dagger(Psi_AB)\n",
    "result.simplify()\n",
    "result\n",
    "\n"
   ]
  },
  {
   "cell_type": "code",
   "execution_count": 10,
   "metadata": {},
   "outputs": [
    {
     "data": {
      "text/latex": [
       "$\\displaystyle 1.0$"
      ],
      "text/plain": [
       "1.00000000000000"
      ]
     },
     "execution_count": 10,
     "metadata": {},
     "output_type": "execute_result"
    }
   ],
   "source": [
    "def trace(A):\n",
    "    d = A.shape[0]; tr = 0.0\n",
    "    for j in range(0,d):\n",
    "       tr += A[j,j]\n",
    "    return tr\n",
    "trace(result).subs(theta,pi).subs(gamma,0.5).subs(p,1)"
   ]
  },
  {
   "cell_type": "code",
   "execution_count": null,
   "metadata": {},
   "outputs": [
    {
     "data": {
      "text/latex": [
       "$\\displaystyle {\\left[\\begin{matrix}\\cos{\\left(\\frac{\\overline{\\theta}}{2} \\right)} \\overline{\\sqrt{p}}\\\\e^{- 1.0 i \\overline{\\phi}} \\sin{\\left(\\frac{\\overline{\\theta}}{2} \\right)} \\overline{\\sqrt{\\gamma p}}\\\\\\cos{\\left(\\frac{\\overline{\\theta}}{2} \\right)} \\overline{\\sqrt{\\left(1 - \\gamma\\right) \\left(1 - p\\right)}}\\\\0\\\\e^{- 1.0 i \\overline{\\phi}} \\sin{\\left(\\frac{\\overline{\\theta}}{2} \\right)} \\overline{\\sqrt{p \\left(1 - \\gamma\\right)}}\\\\0\\\\e^{- 1.0 i \\overline{\\phi}} \\sin{\\left(\\frac{\\overline{\\theta}}{2} \\right)} \\overline{\\sqrt{1 - p}}\\\\\\cos{\\left(\\frac{\\overline{\\theta}}{2} \\right)} \\overline{\\gamma} \\overline{\\sqrt{1 - p}}\\end{matrix}\\right]}\\otimes {\\left[\\begin{matrix}\\sqrt{p} \\cos{\\left(\\frac{\\theta}{2} \\right)}\\\\\\sqrt{\\gamma p} e^{1.0 i \\phi} \\sin{\\left(\\frac{\\theta}{2} \\right)}\\\\\\sqrt{\\left(1 - \\gamma\\right) \\left(1 - p\\right)} \\cos{\\left(\\frac{\\theta}{2} \\right)}\\\\0\\\\\\sqrt{p \\left(1 - \\gamma\\right)} e^{1.0 i \\phi} \\sin{\\left(\\frac{\\theta}{2} \\right)}\\\\0\\\\\\sqrt{1 - p} e^{1.0 i \\phi} \\sin{\\left(\\frac{\\theta}{2} \\right)}\\\\\\gamma \\sqrt{1 - p} \\cos{\\left(\\frac{\\theta}{2} \\right)}\\end{matrix}\\right]}$"
      ],
      "text/plain": [
       "Matrix([\n",
       "[                                       cos(conjugate(theta)/2)*conjugate(sqrt(p))],\n",
       "[      exp(-1.0*I*conjugate(phi))*sin(conjugate(theta)/2)*conjugate(sqrt(gamma*p))],\n",
       "[                     cos(conjugate(theta)/2)*conjugate(sqrt((1 - gamma)*(1 - p)))],\n",
       "[                                                                                0],\n",
       "[exp(-1.0*I*conjugate(phi))*sin(conjugate(theta)/2)*conjugate(sqrt(p*(1 - gamma)))],\n",
       "[                                                                                0],\n",
       "[        exp(-1.0*I*conjugate(phi))*sin(conjugate(theta)/2)*conjugate(sqrt(1 - p))],\n",
       "[                  cos(conjugate(theta)/2)*conjugate(gamma)*conjugate(sqrt(1 - p))]])xMatrix([\n",
       "[                           sqrt(p)*cos(theta/2)],\n",
       "[      sqrt(gamma*p)*exp(1.0*I*phi)*sin(theta/2)],\n",
       "[         sqrt((1 - gamma)*(1 - p))*cos(theta/2)],\n",
       "[                                              0],\n",
       "[sqrt(p*(1 - gamma))*exp(1.0*I*phi)*sin(theta/2)],\n",
       "[                                              0],\n",
       "[        sqrt(1 - p)*exp(1.0*I*phi)*sin(theta/2)],\n",
       "[                 gamma*sqrt(1 - p)*cos(theta/2)]])"
      ]
     },
     "metadata": {},
     "output_type": "display_data"
    }
   ],
   "source": [
    "from sympy.physics.quantum import TensorProduct\n",
    "from sympy import conjugate\n",
    "\n",
    "rho_AB = TensorProduct(conjugate(Psi_AB),Psi_AB)\n",
    "rho_AB"
   ]
  },
  {
   "cell_type": "code",
   "execution_count": null,
   "metadata": {},
   "outputs": [
    {
     "data": {
      "text/latex": [
       "$\\displaystyle - \\mathbf{\\hat{i}_{N}} + \\left(-3\\right)\\mathbf{\\hat{j}_{N}} + \\left(-11\\right)\\mathbf{\\hat{k}_{N}}$"
      ],
      "text/plain": [
       "(-1)*N.i + (-3)*N.j + (-11)*N.k"
      ]
     },
     "metadata": {},
     "output_type": "display_data"
    }
   ],
   "source": [
    "from sympy.vector import CoordSys3D\n",
    "N = CoordSys3D('N')\n",
    "v1 = 2*N.i+3*N.j-N.k\n",
    "v2 = N.i-4*N.j+N.k\n",
    "v1.dot(v2)\n",
    "v3 = v1.cross(v2)\n",
    "v3"
   ]
  },
  {
   "cell_type": "code",
   "execution_count": null,
   "metadata": {},
   "outputs": [],
   "source": [
    "target_op = state_generalized_amplitude_damping(np.pi/2, 0, p,1)\n",
    "alpha = eval(input(\"How many rows? \"))\n",
    "beta = eval(input(\"How many columns? \"))\n",
    "\n",
    "def make_matrix(alpha,beta):\n",
    "    matrix_thing = SHIT.random.randint(0,50,(alpha,beta))\n",
    "    return(matrix_thing)\n",
    "\n",
    "matrix_sympy = Matrix(make_matrix(alpha, beta))"
   ]
  }
 ],
 "metadata": {
  "kernelspec": {
   "display_name": "env",
   "language": "python",
   "name": "python3"
  },
  "language_info": {
   "codemirror_mode": {
    "name": "ipython",
    "version": 3
   },
   "file_extension": ".py",
   "mimetype": "text/x-python",
   "name": "python",
   "nbconvert_exporter": "python",
   "pygments_lexer": "ipython3",
   "version": "3.10.6"
  },
  "orig_nbformat": 4,
  "vscode": {
   "interpreter": {
    "hash": "f309f41cc1031c3222a5eb4c6b99ec5d3d1a742e018bf44f3accb1cd68cc28ab"
   }
  }
 },
 "nbformat": 4,
 "nbformat_minor": 2
}
