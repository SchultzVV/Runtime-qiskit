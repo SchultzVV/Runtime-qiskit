{
 "cells": [
  {
   "cell_type": "code",
   "execution_count": 5,
   "metadata": {},
   "outputs": [],
   "source": [
    "from sympy.physics.quantum import TensorProduct,Dagger\n",
    "from sympy import Symbol\n",
    "from sympy import sin, cos, exp, sqrt, pi\n",
    "from sympy.matrices import Matrix\n",
    "\n",
    "theta = Symbol('theta')\n",
    "phi = Symbol('phi')\n",
    "p = Symbol('p')\n",
    "\n",
    "def general_state_matrix():\n",
    "    return Matrix([[cos(theta/2)**2, exp(1j*phi)*cos(theta/2)*sin(theta/2)],[exp(-1j*phi)*cos(theta/2)*sin(theta/2),sin(theta/2)**2]])\n",
    "matriz_estado_geral = general_state_matrix()\n",
    "#matriz_estado_geral\n",
    "\n",
    "def Kbpf(j, p):\n",
    "    if j == 0:\n",
    "        return Matrix([[0,sqrt(p)],[0,0]])\n",
    "    elif j == 1:\n",
    "        return Matrix([[1,0],[0,sqrt(1-p)]])\n",
    "\n",
    "#k0 = Kad(2,p)\n",
    "#k0"
   ]
  },
  {
   "cell_type": "code",
   "execution_count": 15,
   "metadata": {},
   "outputs": [
    {
     "data": {
      "text/latex": [
       "$\\displaystyle \\left[\\begin{matrix}\\sqrt{1 - p} \\cos^{2}{\\left(\\frac{\\theta}{2} \\right)} \\overline{\\sqrt{1 - p}} & - 0.5 i \\sqrt{p} e^{1.0 i \\phi} \\sin{\\left(\\theta \\right)} \\overline{\\sqrt{1 - p}} & \\frac{\\sqrt{1 - p} e^{1.0 i \\phi} \\sin{\\left(\\theta \\right)} \\overline{\\sqrt{1 - p}}}{2} & 1.0 i \\sqrt{p} \\cos^{2}{\\left(\\frac{\\theta}{2} \\right)} \\overline{\\sqrt{1 - p}}\\\\0.5 i \\sqrt{p} \\sqrt{1 - p} e^{- 1.0 i \\phi} \\sin{\\left(\\theta \\right)} & 1.0 p \\sin^{2}{\\left(\\frac{\\theta}{2} \\right)} & 1.0 i \\sqrt{p} \\sqrt{1 - p} \\sin^{2}{\\left(\\frac{\\theta}{2} \\right)} & - 0.5 p e^{- 1.0 i \\phi} \\sin{\\left(\\theta \\right)}\\\\\\frac{\\sqrt{1 - p} e^{- 1.0 i \\phi} \\sin{\\left(\\theta \\right)} \\overline{\\sqrt{1 - p}}}{2} & - 1.0 i \\sqrt{p} \\sin^{2}{\\left(\\frac{\\theta}{2} \\right)} \\overline{\\sqrt{1 - p}} & \\sqrt{1 - p} \\sin^{2}{\\left(\\frac{\\theta}{2} \\right)} \\overline{\\sqrt{1 - p}} & 0.5 i \\sqrt{p} e^{- 1.0 i \\phi} \\sin{\\left(\\theta \\right)} \\overline{\\sqrt{1 - p}}\\\\- 1.0 i \\sqrt{p} \\sqrt{1 - p} \\cos^{2}{\\left(\\frac{\\theta}{2} \\right)} & - 0.5 p e^{1.0 i \\phi} \\sin{\\left(\\theta \\right)} & - 0.5 i \\sqrt{p} \\sqrt{1 - p} e^{1.0 i \\phi} \\sin{\\left(\\theta \\right)} & 1.0 p \\cos^{2}{\\left(\\frac{\\theta}{2} \\right)}\\end{matrix}\\right]$"
      ],
      "text/plain": [
       "Matrix([\n",
       "[             sqrt(1 - p)*cos(theta/2)**2*conjugate(sqrt(1 - p)), -0.5*I*sqrt(p)*exp(1.0*I*phi)*sin(theta)*conjugate(sqrt(1 - p)), sqrt(1 - p)*exp(1.0*I*phi)*sin(theta)*conjugate(sqrt(1 - p))/2,            1.0*I*sqrt(p)*cos(theta/2)**2*conjugate(sqrt(1 - p))],\n",
       "[           0.5*I*sqrt(p)*sqrt(1 - p)*exp(-1.0*I*phi)*sin(theta),                                           1.0*p*sin(theta/2)**2,                      1.0*I*sqrt(p)*sqrt(1 - p)*sin(theta/2)**2,                               -0.5*p*exp(-1.0*I*phi)*sin(theta)],\n",
       "[sqrt(1 - p)*exp(-1.0*I*phi)*sin(theta)*conjugate(sqrt(1 - p))/2,           -1.0*I*sqrt(p)*sin(theta/2)**2*conjugate(sqrt(1 - p)),             sqrt(1 - p)*sin(theta/2)**2*conjugate(sqrt(1 - p)), 0.5*I*sqrt(p)*exp(-1.0*I*phi)*sin(theta)*conjugate(sqrt(1 - p))],\n",
       "[                     -1.0*I*sqrt(p)*sqrt(1 - p)*cos(theta/2)**2,                                -0.5*p*exp(1.0*I*phi)*sin(theta),           -0.5*I*sqrt(p)*sqrt(1 - p)*exp(1.0*I*phi)*sin(theta),                                           1.0*p*cos(theta/2)**2]])"
      ]
     },
     "execution_count": 15,
     "metadata": {},
     "output_type": "execute_result"
    }
   ],
   "source": [
    "from sympy import Symbol, sin, cos, exp, sqrt, pi\n",
    "from sympy.physics.quantum import Dagger\n",
    "from sympy import Matrix, print_latex\n",
    "from numpy import zeros\n",
    "import cmath\n",
    "import numpy as np\n",
    "\n",
    "theta = Symbol('theta',real=True, positive=True)\n",
    "phi = Symbol('phi',real=True, positive=True)\n",
    "p = Symbol('p',real=True, positive=True)\n",
    "gamma = Symbol('gamma',real=True, positive=True)\n",
    "\n",
    "def bpf_theoric(theta, phi, p):\n",
    "    Psi_AB = Matrix([[\n",
    "                sqrt(1-p)*cos(theta/2),\n",
    "                1j*sqrt(p)*(-1)*exp(1j*phi)*sin(theta/2),\n",
    "                sqrt(1-p)*exp(1j*phi)*sin(theta/2),\n",
    "                1j*sqrt(p)*cos(theta/2)\n",
    "               ]])\n",
    "    target_op = Dagger(Psi_AB)*Psi_AB\n",
    "    return target_op\n",
    "\n",
    "result = bpf_theoric(theta, phi, p)\n",
    "result.simplify()\n",
    "result\n",
    "#print_latex(result)\n",
    "\n"
   ]
  },
  {
   "cell_type": "code",
   "execution_count": 20,
   "metadata": {},
   "outputs": [
    {
     "data": {
      "text/latex": [
       "$\\displaystyle \\left[\\begin{matrix}0.125 & - 0.21650635094611 i & 0.125 & 0.21650635094611 i\\\\0.21650635094611 i & 0.375 & 0.21650635094611 i & -0.375\\\\0.125 & - 0.21650635094611 i & 0.125 & 0.21650635094611 i\\\\- 0.21650635094611 i & -0.375 & - 0.21650635094611 i & 0.375\\end{matrix}\\right]$"
      ],
      "text/plain": [
       "Matrix([\n",
       "[              0.125, -0.21650635094611*I,               0.125, 0.21650635094611*I],\n",
       "[ 0.21650635094611*I,               0.375,  0.21650635094611*I,             -0.375],\n",
       "[              0.125, -0.21650635094611*I,               0.125, 0.21650635094611*I],\n",
       "[-0.21650635094611*I,              -0.375, -0.21650635094611*I,              0.375]])"
      ]
     },
     "execution_count": 20,
     "metadata": {},
     "output_type": "execute_result"
    }
   ],
   "source": [
    "result = bpf_theoric(pi/2, 0, 0.75)\n",
    "result"
   ]
  },
  {
   "cell_type": "code",
   "execution_count": 3,
   "metadata": {},
   "outputs": [
    {
     "data": {
      "image/png": "[encoded data removed]",
      "text/plain": [
       "<Figure size 640x480 with 1 Axes>"
      ]
     },
     "metadata": {},
     "output_type": "display_data"
    }
   ],
   "source": [
    "from numpy import linspace\n",
    "import matplotlib.pyplot as plt\n",
    "import numpy as np \n",
    "import math\n",
    "\n",
    "\n",
    "def coh_l1(rho):  # normalized to [0,1]\n",
    "    d = rho.shape[0]\n",
    "    coh = 0.0\n",
    "    for j in range(0, d-1):\n",
    "        for k in range(j+1, d):\n",
    "            coh += math.sqrt((rho[j][k].real)**2.0 + (rho[j][k].imag)**2.0)\n",
    "    return 2.0*coh/(d-1)\n",
    "#from theoric.theoric_tools import *\n",
    "# theoric plot\n",
    "#def plot_test(rho):\n",
    "def pTraceL_num(dl, dr, rhoLR):\n",
    "    # Returns the left partial trace over the 'left' subsystem of rhoLR\n",
    "    rhoR = np.zeros((dr, dr), dtype=complex)\n",
    "    for j in range(0, dr):\n",
    "        for k in range(j, dr):\n",
    "            for l in range(0, dl):\n",
    "                rhoR[j,k] += rhoLR[l*dr+j,l*dr+k]\n",
    "            if j != k:\n",
    "                rhoR[k,j] = np.conj(rhoR[j,k])\n",
    "    return rhoR\n",
    "\n",
    "def pTraceR_num(dl, dr, rhoLR):\n",
    "    # Returns the right partial trace over the 'right' subsystem of rhoLR\n",
    "    rhoL = np.zeros((dl, dl), dtype=complex)\n",
    "    for j in range(0, dl):\n",
    "        for k in range(j, dl):\n",
    "            for l in range(0, dr):\n",
    "                rhoL[j,k] += rhoLR[j*dr+l,k*dr+l]\n",
    "        if j != k:\n",
    "            rhoL[k,j] = np.conj(rhoL[j,k])\n",
    "    return rhoL\n",
    "\n",
    "list_gamma = linspace(0,1,10)\n",
    "list_gamma = [0]\n",
    "list_p = linspace(0,1,50)\n",
    "\n",
    "coerencias_R = []\n",
    "coerencias_L = []\n",
    "#for g in list_gamma:\n",
    "for p in list_p:\n",
    "    rho = bpf_theoric(pi/2, 0, p)\n",
    "    \n",
    "    rhoA_R = pTraceR_num(2,2,rho)\n",
    "    rhoA_L = pTraceL_num(2,2,rho)\n",
    "    cA_R = coh_l1(rhoA_R)\n",
    "    cA_L = coh_l1(rhoA_L)\n",
    "    coerencias_R.append(cA_R)\n",
    "    coerencias_L.append(cA_L)\n",
    "plt.plot(list_p,coerencias_R,label='Rho_R')\n",
    "plt.plot(list_p,coerencias_L,label='Rho_L')\n",
    "plt.xlabel(' p ')\n",
    "plt.ylabel(' Coerência L1 ')\n",
    "plt.legend(loc=4)\n",
    "plt.show()"
   ]
  },
  {
   "cell_type": "code",
   "execution_count": 10,
   "metadata": {},
   "outputs": [
    {
     "data": {
      "text/latex": [
       "$\\displaystyle 1.0$"
      ],
      "text/plain": [
       "1.00000000000000"
      ]
     },
     "execution_count": 10,
     "metadata": {},
     "output_type": "execute_result"
    }
   ],
   "source": [
    "def trace(A):\n",
    "    d = A.shape[0]; tr = 0.0\n",
    "    for j in range(0,d):\n",
    "       tr += A[j,j]\n",
    "    return tr\n",
    "trace(result).subs(theta,pi).subs(gamma,0.5).subs(p,1)"
   ]
  },
  {
   "cell_type": "code",
   "execution_count": null,
   "metadata": {},
   "outputs": [
    {
     "data": {
      "text/latex": [
       "$\\displaystyle {\\left[\\begin{matrix}\\cos{\\left(\\frac{\\overline{\\theta}}{2} \\right)} \\overline{\\sqrt{p}}\\\\e^{- 1.0 i \\overline{\\phi}} \\sin{\\left(\\frac{\\overline{\\theta}}{2} \\right)} \\overline{\\sqrt{\\gamma p}}\\\\\\cos{\\left(\\frac{\\overline{\\theta}}{2} \\right)} \\overline{\\sqrt{\\left(1 - \\gamma\\right) \\left(1 - p\\right)}}\\\\0\\\\e^{- 1.0 i \\overline{\\phi}} \\sin{\\left(\\frac{\\overline{\\theta}}{2} \\right)} \\overline{\\sqrt{p \\left(1 - \\gamma\\right)}}\\\\0\\\\e^{- 1.0 i \\overline{\\phi}} \\sin{\\left(\\frac{\\overline{\\theta}}{2} \\right)} \\overline{\\sqrt{1 - p}}\\\\\\cos{\\left(\\frac{\\overline{\\theta}}{2} \\right)} \\overline{\\gamma} \\overline{\\sqrt{1 - p}}\\end{matrix}\\right]}\\otimes {\\left[\\begin{matrix}\\sqrt{p} \\cos{\\left(\\frac{\\theta}{2} \\right)}\\\\\\sqrt{\\gamma p} e^{1.0 i \\phi} \\sin{\\left(\\frac{\\theta}{2} \\right)}\\\\\\sqrt{\\left(1 - \\gamma\\right) \\left(1 - p\\right)} \\cos{\\left(\\frac{\\theta}{2} \\right)}\\\\0\\\\\\sqrt{p \\left(1 - \\gamma\\right)} e^{1.0 i \\phi} \\sin{\\left(\\frac{\\theta}{2} \\right)}\\\\0\\\\\\sqrt{1 - p} e^{1.0 i \\phi} \\sin{\\left(\\frac{\\theta}{2} \\right)}\\\\\\gamma \\sqrt{1 - p} \\cos{\\left(\\frac{\\theta}{2} \\right)}\\end{matrix}\\right]}$"
      ],
      "text/plain": [
       "Matrix([\n",
       "[                                       cos(conjugate(theta)/2)*conjugate(sqrt(p))],\n",
       "[      exp(-1.0*I*conjugate(phi))*sin(conjugate(theta)/2)*conjugate(sqrt(gamma*p))],\n",
       "[                     cos(conjugate(theta)/2)*conjugate(sqrt((1 - gamma)*(1 - p)))],\n",
       "[                                                                                0],\n",
       "[exp(-1.0*I*conjugate(phi))*sin(conjugate(theta)/2)*conjugate(sqrt(p*(1 - gamma)))],\n",
       "[                                                                                0],\n",
       "[        exp(-1.0*I*conjugate(phi))*sin(conjugate(theta)/2)*conjugate(sqrt(1 - p))],\n",
       "[                  cos(conjugate(theta)/2)*conjugate(gamma)*conjugate(sqrt(1 - p))]])xMatrix([\n",
       "[                           sqrt(p)*cos(theta/2)],\n",
       "[      sqrt(gamma*p)*exp(1.0*I*phi)*sin(theta/2)],\n",
       "[         sqrt((1 - gamma)*(1 - p))*cos(theta/2)],\n",
       "[                                              0],\n",
       "[sqrt(p*(1 - gamma))*exp(1.0*I*phi)*sin(theta/2)],\n",
       "[                                              0],\n",
       "[        sqrt(1 - p)*exp(1.0*I*phi)*sin(theta/2)],\n",
       "[                 gamma*sqrt(1 - p)*cos(theta/2)]])"
      ]
     },
     "metadata": {},
     "output_type": "display_data"
    }
   ],
   "source": [
    "from sympy.physics.quantum import TensorProduct\n",
    "from sympy import conjugate\n",
    "\n",
    "rho_AB = TensorProduct(conjugate(Psi_AB),Psi_AB)\n",
    "rho_AB"
   ]
  },
  {
   "cell_type": "code",
   "execution_count": null,
   "metadata": {},
   "outputs": [
    {
     "data": {
      "text/latex": [
       "$\\displaystyle - \\mathbf{\\hat{i}_{N}} + \\left(-3\\right)\\mathbf{\\hat{j}_{N}} + \\left(-11\\right)\\mathbf{\\hat{k}_{N}}$"
      ],
      "text/plain": [
       "(-1)*N.i + (-3)*N.j + (-11)*N.k"
      ]
     },
     "metadata": {},
     "output_type": "display_data"
    }
   ],
   "source": [
    "from sympy.vector import CoordSys3D\n",
    "N = CoordSys3D('N')\n",
    "v1 = 2*N.i+3*N.j-N.k\n",
    "v2 = N.i-4*N.j+N.k\n",
    "v1.dot(v2)\n",
    "v3 = v1.cross(v2)\n",
    "v3"
   ]
  },
  {
   "cell_type": "code",
   "execution_count": null,
   "metadata": {},
   "outputs": [],
   "source": [
    "target_op = state_generalized_amplitude_damping(np.pi/2, 0, p,1)\n",
    "alpha = eval(input(\"How many rows? \"))\n",
    "beta = eval(input(\"How many columns? \"))\n",
    "\n",
    "def make_matrix(alpha,beta):\n",
    "    matrix_thing = SHIT.random.randint(0,50,(alpha,beta))\n",
    "    return(matrix_thing)\n",
    "\n",
    "matrix_sympy = Matrix(make_matrix(alpha, beta))"
   ]
  }
 ],
 "metadata": {
  "kernelspec": {
   "display_name": "env",
   "language": "python",
   "name": "python3"
  },
  "language_info": {
   "codemirror_mode": {
    "name": "ipython",
    "version": 3
   },
   "file_extension": ".py",
   "mimetype": "text/x-python",
   "name": "python",
   "nbconvert_exporter": "python",
   "pygments_lexer": "ipython3",
   "version": "3.10.6"
  },
  "orig_nbformat": 4,
  "vscode": {
   "interpreter": {
    "hash": "f309f41cc1031c3222a5eb4c6b99ec5d3d1a742e018bf44f3accb1cd68cc28ab"
   }
  }
 },
 "nbformat": 4,
 "nbformat_minor": 2
}
