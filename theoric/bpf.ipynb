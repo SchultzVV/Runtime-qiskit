{
 "cells": [
  {
   "attachments": {},
   "cell_type": "markdown",
   "metadata": {},
   "source": [
    "# Gerando as contas pelo sympy e obtendo o target_op"
   ]
  },
  {
   "cell_type": "code",
   "execution_count": 6,
   "metadata": {},
   "outputs": [
    {
     "name": "stdout",
     "output_type": "stream",
     "text": [
      "[[0 0 0 0]\n",
      " [0 0.5*I 0 0.5*I]\n",
      " [0 0 0 0]\n",
      " [0 0.5*I 0 0.5*I]]\n"
     ]
    }
   ],
   "source": [
    "from sympy import cos, sin, sqrt, pi, Matrix, Symbol, exp, print_latex, simplify\n",
    "from sympy.physics.quantum import TensorProduct, Dagger\n",
    "import numpy as np\n",
    "import torch\n",
    "\n",
    "theta = Symbol('theta',real=True, positive=True)\n",
    "phi = Symbol('phi',real=True, positive=True)\n",
    "gamma = Symbol('gamma',real=True, positive=True)\n",
    "p = Symbol('p',real=True, positive=True)\n",
    "\n",
    "def calc(psi_a, k0, k1):\n",
    "    ket0 = Matrix([[1,0],[0,0]])\n",
    "    ket1 = Matrix([[0,0],[0,1]])\n",
    "    \n",
    "    a = TensorProduct(k0*psi_a,ket0)\n",
    "    b = TensorProduct(k1*psi_a,ket1)\n",
    "    PsiAB = a+b\n",
    "    return PsiAB\n",
    "\n",
    "def general_state(theta, phi):\n",
    "    state = Matrix([[cos(theta/2), exp(1j*phi)*sin(theta/2)]])\n",
    "    target_op = Dagger(state)*state\n",
    "    return Matrix(target_op)\n",
    "\n",
    "def rhoAB_bpf_sympy(theta, phi, p):\n",
    "    psi_a = general_state(theta, phi)\n",
    "    ket0 = Matrix([[1,0],[0,0]])\n",
    "    ket1 = Matrix([[0,0],[0,1]])\n",
    "    \n",
    "    k0 = Matrix([[sqrt(1-p),0],[0,sqrt(1-p)]])\n",
    "    k1 = Matrix([[0, 1j*sqrt(p)],[1j*sqrt(p), 0]])\n",
    "    \n",
    "    a = TensorProduct(k0*psi_a,ket0)\n",
    "    b = TensorProduct(k1*psi_a,ket1)\n",
    "    PsiAB = a+b\n",
    "    return PsiAB\n",
    "\n",
    "def rhoAB_bpf_torch(theta, phi, p):\n",
    "    psi_a = general_state(theta, phi)\n",
    "    # ----------- Operadores de Kraus ---------\n",
    "    k0 = Matrix([[sqrt(1-p),0],[0,sqrt(1-p)]])\n",
    "    k1 = Matrix([[0, 1j*sqrt(p)],[1j*sqrt(p), 0]])\n",
    "    #---------------------------------------------\n",
    "    PsiAB = calc(psi_a, k0, k1)\n",
    "    PsiAB = simplify(PsiAB)\n",
    "    M_numpy = np.array(PsiAB.tolist(), dtype=np.complex64)\n",
    "    M_torch = torch.from_numpy(M_numpy)\n",
    "    \n",
    "    return M_torch\n",
    "\n",
    "a = rhoAB_bpf_torch(pi/2, 0, 1)\n",
    "print(b)"
   ]
  },
  {
   "cell_type": "code",
   "execution_count": 47,
   "metadata": {},
   "outputs": [
    {
     "name": "stderr",
     "output_type": "stream",
     "text": [
      "No artists with labels found to put in legend.  Note that artists whose label start with an underscore are ignored when legend() is called with no argument.\n"
     ]
    },
    {
     "data": {
      "image/png": "[encoded data removed]",
      "text/plain": [
       "<Figure size 640x480 with 1 Axes>"
      ]
     },
     "metadata": {},
     "output_type": "display_data"
    }
   ],
   "source": [
    "from numpy import linspace\n",
    "import matplotlib.pyplot as plt\n",
    "import numpy as np \n",
    "import math\n",
    "\n",
    "\n",
    "def coh_l1(rho):  # normalized to [0,1]\n",
    "    d = rho.shape[0]\n",
    "    coh = 0.0\n",
    "    for j in range(0, d-1):\n",
    "        for k in range(j+1, d):\n",
    "            coh += math.sqrt((rho[j][k].real)**2.0 + (rho[j][k].imag)**2.0)\n",
    "    return 2.0*coh/(d-1)\n",
    "\n",
    "def pTraceL_num(dl, dr, rhoLR):\n",
    "    # Returns the left partial trace over the 'left' subsystem of rhoLR\n",
    "    rhoR = np.zeros((dr, dr), dtype=complex)\n",
    "    for j in range(0, dr):\n",
    "        for k in range(j, dr):\n",
    "            for l in range(0, dl):\n",
    "                rhoR[j,k] += rhoLR[l*dr+j,l*dr+k]\n",
    "            if j != k:\n",
    "                rhoR[k,j] = np.conj(rhoR[j,k])\n",
    "    return rhoR\n",
    "\n",
    "def pTraceR_num(dl, dr, rhoLR):\n",
    "    # Returns the right partial trace over the 'right' subsystem of rhoLR\n",
    "    rhoL = np.zeros((dl, dl), dtype=complex)\n",
    "    for j in range(0, dl):\n",
    "        for k in range(j, dl):\n",
    "            for l in range(0, dr):\n",
    "                rhoL[j,k] += rhoLR[j*dr+l,k*dr+l]\n",
    "        if j != k:\n",
    "            rhoL[k,j] = np.conj(rhoL[j,k])\n",
    "    return rhoL\n",
    "\n",
    "def plot_cohs(list_p, rho_list):\n",
    "    for rho in rho_list:\n",
    "        coerencias_R = []\n",
    "        coerencias_L = []\n",
    "        for p in list_p:\n",
    "            #rho = rhoAB_bpf_sympy(pi/2, 0, 0.5)\n",
    "    \n",
    "    \n",
    "            rhoA_R = pTraceR_num(2,2,rho)\n",
    "            rhoA_L = pTraceL_num(2,2,rho)\n",
    "            cA_R = coh_l1(rhoA_R)\n",
    "            cA_L = coh_l1(rhoA_L)\n",
    "            coerencias_R.append(cA_R)\n",
    "            coerencias_L.append(cA_L)\n",
    "        plt.scatter(list_p,coerencias_R)\n",
    "        plt.scatter(list_p,coerencias_L)\n",
    "\n",
    "#list_gamma = linspace(0,1,10)\n",
    "list_p = linspace(0,1,10)\n",
    "\n",
    "rho_list = []\n",
    "#for p in list_p:\n",
    "#    rho = rhoAB_bpf_sympy(pi/40, 20, p)\n",
    "list_theta = np.linspace(0,np.pi,10)\n",
    "for theta in list_theta:\n",
    "    rho = rhoAB_bpf_sympy(theta, 0, 0.5)\n",
    "    rho_list.append(rho)\n",
    "plot_cohs(list_p,rho_list)\n",
    "plt.xlabel(' theta ')\n",
    "plt.ylabel(' Coerência L1 ')\n",
    "plt.legend(loc=4)\n",
    "plt.show()\n",
    "###for g in list_gamma:\n",
    "##rho_list = []\n",
    "##for p in list_p:\n",
    "##    rho = rhoAB_bpf_sympy(pi/2, 0, p)\n",
    "##    rho_list.append(rho)\n",
    "##    \n",
    "##    rhoA_R = pTraceR_num(2,2,rho)\n",
    "##    rhoA_L = pTraceL_num(2,2,rho)\n",
    "##    cA_R = coh_l1(rhoA_R)\n",
    "##    cA_L = coh_l1(rhoA_L)\n",
    "##    coerencias_R.append(cA_R)\n",
    "##    coerencias_L.append(cA_L)\n",
    "##plt.plot(list_p,coerencias_R,label='Rho_R')\n",
    "##plt.plot(list_p,coerencias_L,label='Rho_L')\n",
    "##plt.xlabel(' p ')\n",
    "##plt.ylabel(' Coerência L1 ')\n",
    "##plt.legend(loc=4)\n",
    "##plt.show()"
   ]
  },
  {
   "cell_type": "code",
   "execution_count": null,
   "metadata": {},
   "outputs": [],
   "source": [
    "\n",
    "#list_gamma = linspace(0,1,10)\n",
    "list_p = linspace(0,1,50)\n",
    "\n",
    "coerencias_R = []\n",
    "coerencias_L = []\n",
    "#for g in list_gamma:\n",
    "rho_list = []\n",
    "for p in list_p:\n",
    "    rho = rhoAB_bpf_sympy(pi/2, 0, p)\n",
    "    rho_list.append(rho)\n",
    "    \n",
    "    rhoA_R = pTraceR_num(2,2,rho)\n",
    "    rhoA_L = pTraceL_num(2,2,rho)\n",
    "    cA_R = coh_l1(rhoA_R)\n",
    "    cA_L = coh_l1(rhoA_L)\n",
    "    coerencias_R.append(cA_R)\n",
    "    coerencias_L.append(cA_L)\n",
    "plt.plot(list_p,coerencias_R,label='Rho_R')\n",
    "plt.plot(list_p,coerencias_L,label='Rho_L')\n",
    "plt.xlabel(' p ')\n",
    "plt.ylabel(' Coerência L1 ')\n",
    "plt.legend(loc=4)\n",
    "plt.show()"
   ]
  },
  {
   "cell_type": "code",
   "execution_count": null,
   "metadata": {},
   "outputs": [],
   "source": [
    "list_p = linspace(0,1,50)\n",
    "\n",
    "coerencias_R = []\n",
    "coerencias_L = []\n",
    "#for g in list_gamma:\n",
    "def plot_cohs(list_p, rho_list):\n",
    "    for rho in rho_list:\n",
    "        for p in list_p:\n",
    "            rho = rhoAB_bpf_sympy(pi/2, 0, 0.5)\n",
    "    \n",
    "    \n",
    "            rhoA_R = pTraceR_num(2,2,rho)\n",
    "            rhoA_L = pTraceL_num(2,2,rho)\n",
    "            cA_R = coh_l1(rhoA_R)\n",
    "            cA_L = coh_l1(rhoA_L)\n",
    "            coerencias_R.append(cA_R)\n",
    "            coerencias_L.append(cA_L)\n",
    "        plt.plot(list_p,coerencias_R,label=f'Rho_R({p})')\n",
    "        plt.plot(list_p,coerencias_L,label=f'Rho_L({p})')\n",
    "plt.xlabel(' p ')\n",
    "plt.ylabel(' Coerência L1 ')\n",
    "plt.legend(loc=4)\n",
    "plt.show()"
   ]
  },
  {
   "cell_type": "code",
   "execution_count": 10,
   "metadata": {},
   "outputs": [
    {
     "data": {
      "text/latex": [
       "$\\displaystyle 1.0$"
      ],
      "text/plain": [
       "1.00000000000000"
      ]
     },
     "execution_count": 10,
     "metadata": {},
     "output_type": "execute_result"
    }
   ],
   "source": [
    "def trace(A):\n",
    "    d = A.shape[0]; tr = 0.0\n",
    "    for j in range(0,d):\n",
    "       tr += A[j,j]\n",
    "    return tr\n",
    "trace(result).subs(theta,pi).subs(gamma,0.5).subs(p,1)"
   ]
  },
  {
   "cell_type": "code",
   "execution_count": null,
   "metadata": {},
   "outputs": [
    {
     "data": {
      "text/latex": [
       "$\\displaystyle {\\left[\\begin{matrix}\\cos{\\left(\\frac{\\overline{\\theta}}{2} \\right)} \\overline{\\sqrt{p}}\\\\e^{- 1.0 i \\overline{\\phi}} \\sin{\\left(\\frac{\\overline{\\theta}}{2} \\right)} \\overline{\\sqrt{\\gamma p}}\\\\\\cos{\\left(\\frac{\\overline{\\theta}}{2} \\right)} \\overline{\\sqrt{\\left(1 - \\gamma\\right) \\left(1 - p\\right)}}\\\\0\\\\e^{- 1.0 i \\overline{\\phi}} \\sin{\\left(\\frac{\\overline{\\theta}}{2} \\right)} \\overline{\\sqrt{p \\left(1 - \\gamma\\right)}}\\\\0\\\\e^{- 1.0 i \\overline{\\phi}} \\sin{\\left(\\frac{\\overline{\\theta}}{2} \\right)} \\overline{\\sqrt{1 - p}}\\\\\\cos{\\left(\\frac{\\overline{\\theta}}{2} \\right)} \\overline{\\gamma} \\overline{\\sqrt{1 - p}}\\end{matrix}\\right]}\\otimes {\\left[\\begin{matrix}\\sqrt{p} \\cos{\\left(\\frac{\\theta}{2} \\right)}\\\\\\sqrt{\\gamma p} e^{1.0 i \\phi} \\sin{\\left(\\frac{\\theta}{2} \\right)}\\\\\\sqrt{\\left(1 - \\gamma\\right) \\left(1 - p\\right)} \\cos{\\left(\\frac{\\theta}{2} \\right)}\\\\0\\\\\\sqrt{p \\left(1 - \\gamma\\right)} e^{1.0 i \\phi} \\sin{\\left(\\frac{\\theta}{2} \\right)}\\\\0\\\\\\sqrt{1 - p} e^{1.0 i \\phi} \\sin{\\left(\\frac{\\theta}{2} \\right)}\\\\\\gamma \\sqrt{1 - p} \\cos{\\left(\\frac{\\theta}{2} \\right)}\\end{matrix}\\right]}$"
      ],
      "text/plain": [
       "Matrix([\n",
       "[                                       cos(conjugate(theta)/2)*conjugate(sqrt(p))],\n",
       "[      exp(-1.0*I*conjugate(phi))*sin(conjugate(theta)/2)*conjugate(sqrt(gamma*p))],\n",
       "[                     cos(conjugate(theta)/2)*conjugate(sqrt((1 - gamma)*(1 - p)))],\n",
       "[                                                                                0],\n",
       "[exp(-1.0*I*conjugate(phi))*sin(conjugate(theta)/2)*conjugate(sqrt(p*(1 - gamma)))],\n",
       "[                                                                                0],\n",
       "[        exp(-1.0*I*conjugate(phi))*sin(conjugate(theta)/2)*conjugate(sqrt(1 - p))],\n",
       "[                  cos(conjugate(theta)/2)*conjugate(gamma)*conjugate(sqrt(1 - p))]])xMatrix([\n",
       "[                           sqrt(p)*cos(theta/2)],\n",
       "[      sqrt(gamma*p)*exp(1.0*I*phi)*sin(theta/2)],\n",
       "[         sqrt((1 - gamma)*(1 - p))*cos(theta/2)],\n",
       "[                                              0],\n",
       "[sqrt(p*(1 - gamma))*exp(1.0*I*phi)*sin(theta/2)],\n",
       "[                                              0],\n",
       "[        sqrt(1 - p)*exp(1.0*I*phi)*sin(theta/2)],\n",
       "[                 gamma*sqrt(1 - p)*cos(theta/2)]])"
      ]
     },
     "metadata": {},
     "output_type": "display_data"
    }
   ],
   "source": [
    "from sympy.physics.quantum import TensorProduct\n",
    "from sympy import conjugate\n",
    "\n",
    "rho_AB = TensorProduct(conjugate(Psi_AB),Psi_AB)\n",
    "rho_AB"
   ]
  },
  {
   "cell_type": "code",
   "execution_count": null,
   "metadata": {},
   "outputs": [
    {
     "data": {
      "text/latex": [
       "$\\displaystyle - \\mathbf{\\hat{i}_{N}} + \\left(-3\\right)\\mathbf{\\hat{j}_{N}} + \\left(-11\\right)\\mathbf{\\hat{k}_{N}}$"
      ],
      "text/plain": [
       "(-1)*N.i + (-3)*N.j + (-11)*N.k"
      ]
     },
     "metadata": {},
     "output_type": "display_data"
    }
   ],
   "source": [
    "from sympy.vector import CoordSys3D\n",
    "N = CoordSys3D('N')\n",
    "v1 = 2*N.i+3*N.j-N.k\n",
    "v2 = N.i-4*N.j+N.k\n",
    "v1.dot(v2)\n",
    "v3 = v1.cross(v2)\n",
    "v3"
   ]
  },
  {
   "cell_type": "code",
   "execution_count": null,
   "metadata": {},
   "outputs": [],
   "source": [
    "target_op = state_generalized_amplitude_damping(np.pi/2, 0, p,1)\n",
    "alpha = eval(input(\"How many rows? \"))\n",
    "beta = eval(input(\"How many columns? \"))\n",
    "\n",
    "def make_matrix(alpha,beta):\n",
    "    matrix_thing = SHIT.random.randint(0,50,(alpha,beta))\n",
    "    return(matrix_thing)\n",
    "\n",
    "matrix_sympy = Matrix(make_matrix(alpha, beta))"
   ]
  }
 ],
 "metadata": {
  "kernelspec": {
   "display_name": "env",
   "language": "python",
   "name": "python3"
  },
  "language_info": {
   "codemirror_mode": {
    "name": "ipython",
    "version": 3
   },
   "file_extension": ".py",
   "mimetype": "text/x-python",
   "name": "python",
   "nbconvert_exporter": "python",
   "pygments_lexer": "ipython3",
   "version": "3.10.6"
  },
  "orig_nbformat": 4,
  "vscode": {
   "interpreter": {
    "hash": "f309f41cc1031c3222a5eb4c6b99ec5d3d1a742e018bf44f3accb1cd68cc28ab"
   }
  }
 },
 "nbformat": 4,
 "nbformat_minor": 2
}
