{
 "cells": [
  {
   "cell_type": "code",
   "execution_count": 19,
   "metadata": {},
   "outputs": [
    {
     "data": {
      "text/plain": [
       "<bound method DenseNDimArray.tomatrix of [[[[p*cos(theta/2)**2], [sqrt(p)*sqrt(gamma*p)*exp(1.0*I*phi)*sin(theta/2)*cos(theta/2)], [sqrt(p)*sqrt((1 - gamma)*(1 - p))*cos(theta/2)**2], [0], [sqrt(p)*sqrt(p*(1 - gamma))*exp(1.0*I*phi)*sin(theta/2)*cos(theta/2)], [0], [sqrt(p)*sqrt(1 - p)*exp(1.0*I*phi)*sin(theta/2)*cos(theta/2)], [gamma*sqrt(p)*sqrt(1 - p)*cos(theta/2)**2]]], [[[sqrt(p)*sqrt(gamma*p)*exp(1.0*I*phi)*sin(theta/2)*cos(theta/2)], [(gamma*p)*exp(2.0*I*phi)*sin(theta/2)**2], [sqrt(gamma*p)*sqrt((1 - gamma)*(1 - p))*exp(1.0*I*phi)*sin(theta/2)*cos(theta/2)], [0], [sqrt(gamma*p)*sqrt(p*(1 - gamma))*exp(2.0*I*phi)*sin(theta/2)**2], [0], [sqrt(gamma*p)*sqrt(1 - p)*exp(2.0*I*phi)*sin(theta/2)**2], [gamma*sqrt(gamma*p)*sqrt(1 - p)*exp(1.0*I*phi)*sin(theta/2)*cos(theta/2)]]], [[[sqrt(p)*sqrt((1 - gamma)*(1 - p))*cos(theta/2)**2], [sqrt(gamma*p)*sqrt((1 - gamma)*(1 - p))*exp(1.0*I*phi)*sin(theta/2)*cos(theta/2)], [((1 - gamma)*(1 - p))*cos(theta/2)**2], [0], [sqrt(p*(1 - gamma))*sqrt((1 - gamma)*(1 - p))*exp(1.0*I*phi)*sin(theta/2)*cos(theta/2)], [0], [sqrt((1 - gamma)*(1 - p))*sqrt(1 - p)*exp(1.0*I*phi)*sin(theta/2)*cos(theta/2)], [gamma*sqrt((1 - gamma)*(1 - p))*sqrt(1 - p)*cos(theta/2)**2]]], [[[0], [0], [0], [0], [0], [0], [0], [0]]], [[[sqrt(p)*sqrt(p*(1 - gamma))*exp(1.0*I*phi)*sin(theta/2)*cos(theta/2)], [sqrt(gamma*p)*sqrt(p*(1 - gamma))*exp(2.0*I*phi)*sin(theta/2)**2], [sqrt(p*(1 - gamma))*sqrt((1 - gamma)*(1 - p))*exp(1.0*I*phi)*sin(theta/2)*cos(theta/2)], [0], [(p*(1 - gamma))*exp(2.0*I*phi)*sin(theta/2)**2], [0], [sqrt(p*(1 - gamma))*sqrt(1 - p)*exp(2.0*I*phi)*sin(theta/2)**2], [gamma*sqrt(p*(1 - gamma))*sqrt(1 - p)*exp(1.0*I*phi)*sin(theta/2)*cos(theta/2)]]], [[[0], [0], [0], [0], [0], [0], [0], [0]]], [[[sqrt(p)*sqrt(1 - p)*exp(1.0*I*phi)*sin(theta/2)*cos(theta/2)], [sqrt(gamma*p)*sqrt(1 - p)*exp(2.0*I*phi)*sin(theta/2)**2], [sqrt((1 - gamma)*(1 - p))*sqrt(1 - p)*exp(1.0*I*phi)*sin(theta/2)*cos(theta/2)], [0], [sqrt(p*(1 - gamma))*sqrt(1 - p)*exp(2.0*I*phi)*sin(theta/2)**2], [0], [(1 - p)*exp(2.0*I*phi)*sin(theta/2)**2], [gamma*(1 - p)*exp(1.0*I*phi)*sin(theta/2)*cos(theta/2)]]], [[[gamma*sqrt(p)*sqrt(1 - p)*cos(theta/2)**2], [gamma*sqrt(gamma*p)*sqrt(1 - p)*exp(1.0*I*phi)*sin(theta/2)*cos(theta/2)], [gamma*sqrt((1 - gamma)*(1 - p))*sqrt(1 - p)*cos(theta/2)**2], [0], [gamma*sqrt(p*(1 - gamma))*sqrt(1 - p)*exp(1.0*I*phi)*sin(theta/2)*cos(theta/2)], [0], [gamma*(1 - p)*exp(1.0*I*phi)*sin(theta/2)*cos(theta/2)], [gamma**2*(1 - p)*cos(theta/2)**2]]]]>"
      ]
     },
     "execution_count": 19,
     "metadata": {},
     "output_type": "execute_result"
    }
   ],
   "source": [
    "from sympy import *\n",
    "a = Symbol('a')\n",
    "b = Symbol('b')\n",
    "c = Symbol('c')\n",
    "a = tensorproduct(Psi_AB,Psi_AB).tomatrix\n",
    "a\n",
    "\n"
   ]
  },
  {
   "cell_type": "code",
   "execution_count": 15,
   "metadata": {},
   "outputs": [],
   "source": [
    "import sympy as sym\n",
    "from sympy.matrices import Matrix\n",
    "theta = sym.Symbol('theta')\n",
    "phi = sym.Symbol('phi')\n",
    "p = sym.Symbol('p')\n",
    "gamma = sym.Symbol('gamma')\n",
    "Psi_AB = sym.Matrix([[\n",
    "           sym.sqrt(p)*sym.cos(theta/2)],[\n",
    "           sym.sqrt(p*gamma)*sym.exp(1j*phi)*sym.sin(theta/2)],[\n",
    "           sym.sqrt((1-p)*(1-gamma))*sym.cos(theta/2)],[\n",
    "           0],[\n",
    "           sym.sqrt(p*(1-gamma))*sym.exp(1j*phi)*sym.sin(theta/2)],[\n",
    "           0],[\n",
    "           sym.sqrt(1-p)*sym.exp(1j*phi)*sym.sin(theta/2)],[\n",
    "           sym.sqrt(1-p)*gamma*sym.cos(theta/2)\n",
    "           ]]) "
   ]
  },
  {
   "cell_type": "code",
   "execution_count": 17,
   "metadata": {},
   "outputs": [
    {
     "data": {
      "text/latex": [
       "$\\displaystyle \\left[\\begin{matrix}\\sqrt{p} \\cos{\\left(\\frac{\\theta}{2} \\right)}\\\\\\sqrt{\\gamma p} e^{1.0 i \\phi} \\sin{\\left(\\frac{\\theta}{2} \\right)}\\\\\\sqrt{\\left(1 - \\gamma\\right) \\left(1 - p\\right)} \\cos{\\left(\\frac{\\theta}{2} \\right)}\\\\0\\\\\\sqrt{p \\left(1 - \\gamma\\right)} e^{1.0 i \\phi} \\sin{\\left(\\frac{\\theta}{2} \\right)}\\\\0\\\\\\sqrt{1 - p} e^{1.0 i \\phi} \\sin{\\left(\\frac{\\theta}{2} \\right)}\\\\\\gamma \\sqrt{1 - p} \\cos{\\left(\\frac{\\theta}{2} \\right)}\\end{matrix}\\right]$"
      ],
      "text/plain": [
       "Matrix([\n",
       "[                           sqrt(p)*cos(theta/2)],\n",
       "[      sqrt(gamma*p)*exp(1.0*I*phi)*sin(theta/2)],\n",
       "[         sqrt((1 - gamma)*(1 - p))*cos(theta/2)],\n",
       "[                                              0],\n",
       "[sqrt(p*(1 - gamma))*exp(1.0*I*phi)*sin(theta/2)],\n",
       "[                                              0],\n",
       "[        sqrt(1 - p)*exp(1.0*I*phi)*sin(theta/2)],\n",
       "[                 gamma*sqrt(1 - p)*cos(theta/2)]])"
      ]
     },
     "execution_count": 17,
     "metadata": {},
     "output_type": "execute_result"
    }
   ],
   "source": [
    "Psi_AB"
   ]
  },
  {
   "cell_type": "code",
   "execution_count": 21,
   "metadata": {},
   "outputs": [
    {
     "ename": "TypeError",
     "evalue": "\nData type not understood; expecting list of lists or lists of values.",
     "output_type": "error",
     "traceback": [
      "\u001b[0;31m---------------------------------------------------------------------------\u001b[0m",
      "\u001b[0;31mTypeError\u001b[0m                                 Traceback (most recent call last)",
      "Cell \u001b[0;32mIn[21], line 4\u001b[0m\n\u001b[1;32m      1\u001b[0m \u001b[39mfrom\u001b[39;00m \u001b[39msympy\u001b[39;00m\u001b[39m.\u001b[39;00m\u001b[39mphysics\u001b[39;00m\u001b[39m.\u001b[39;00m\u001b[39mquantum\u001b[39;00m \u001b[39mimport\u001b[39;00m TensorProduct\n\u001b[1;32m      2\u001b[0m \u001b[39mfrom\u001b[39;00m \u001b[39msympy\u001b[39;00m \u001b[39mimport\u001b[39;00m conjugate\n\u001b[0;32m----> 4\u001b[0m rho_AB \u001b[39m=\u001b[39m Matrix(TensorProduct(conjugate(transpose(Psi_AB)),Psi_AB))\n\u001b[1;32m      5\u001b[0m rho_AB\n",
      "File \u001b[0;32m~/Desktop/Runtime-qiskit/env/lib/python3.10/site-packages/sympy/matrices/repmatrix.py:329\u001b[0m, in \u001b[0;36mMutableRepMatrix.__new__\u001b[0;34m(cls, *args, **kwargs)\u001b[0m\n\u001b[1;32m    328\u001b[0m \u001b[39mdef\u001b[39;00m \u001b[39m__new__\u001b[39m(\u001b[39mcls\u001b[39m, \u001b[39m*\u001b[39margs, \u001b[39m*\u001b[39m\u001b[39m*\u001b[39mkwargs):\n\u001b[0;32m--> 329\u001b[0m     \u001b[39mreturn\u001b[39;00m \u001b[39mcls\u001b[39;49m\u001b[39m.\u001b[39;49m_new(\u001b[39m*\u001b[39;49margs, \u001b[39m*\u001b[39;49m\u001b[39m*\u001b[39;49mkwargs)\n",
      "File \u001b[0;32m~/Desktop/Runtime-qiskit/env/lib/python3.10/site-packages/sympy/matrices/repmatrix.py:340\u001b[0m, in \u001b[0;36mMutableRepMatrix._new\u001b[0;34m(cls, copy, *args, **kwargs)\u001b[0m\n\u001b[1;32m    338\u001b[0m     rows, cols, flat_list \u001b[39m=\u001b[39m args\n\u001b[1;32m    339\u001b[0m \u001b[39melse\u001b[39;00m:\n\u001b[0;32m--> 340\u001b[0m     rows, cols, flat_list \u001b[39m=\u001b[39m \u001b[39mcls\u001b[39;49m\u001b[39m.\u001b[39;49m_handle_creation_inputs(\u001b[39m*\u001b[39;49margs, \u001b[39m*\u001b[39;49m\u001b[39m*\u001b[39;49mkwargs)\n\u001b[1;32m    341\u001b[0m     flat_list \u001b[39m=\u001b[39m \u001b[39mlist\u001b[39m(flat_list) \u001b[39m# create a shallow copy\u001b[39;00m\n\u001b[1;32m    343\u001b[0m rep \u001b[39m=\u001b[39m \u001b[39mcls\u001b[39m\u001b[39m.\u001b[39m_flat_list_to_DomainMatrix(rows, cols, flat_list)\n",
      "File \u001b[0;32m~/Desktop/Runtime-qiskit/env/lib/python3.10/site-packages/sympy/matrices/matrices.py:1143\u001b[0m, in \u001b[0;36mMatrixBase._handle_creation_inputs\u001b[0;34m(cls, *args, **kwargs)\u001b[0m\n\u001b[1;32m   1140\u001b[0m     flat_list \u001b[39m=\u001b[39m []\n\u001b[1;32m   1142\u001b[0m \u001b[39mif\u001b[39;00m flat_list \u001b[39mis\u001b[39;00m \u001b[39mNone\u001b[39;00m:\n\u001b[0;32m-> 1143\u001b[0m     \u001b[39mraise\u001b[39;00m \u001b[39mTypeError\u001b[39;00m(filldedent(\u001b[39m'''\u001b[39m\n\u001b[1;32m   1144\u001b[0m \u001b[39m        Data type not understood; expecting list of lists\u001b[39m\n\u001b[1;32m   1145\u001b[0m \u001b[39m        or lists of values.\u001b[39m\u001b[39m'''\u001b[39m))\n\u001b[1;32m   1147\u001b[0m \u001b[39mreturn\u001b[39;00m rows, cols, flat_list\n",
      "\u001b[0;31mTypeError\u001b[0m: \nData type not understood; expecting list of lists or lists of values."
     ]
    }
   ],
   "source": [
    "from sympy.physics.quantum import TensorProduct\n",
    "from sympy import conjugate\n",
    "\n",
    "rho_AB = Matrix(TensorProduct(conjugate(transpose(Psi_AB)),Psi_AB))\n",
    "rho_AB"
   ]
  },
  {
   "cell_type": "code",
   "execution_count": null,
   "metadata": {},
   "outputs": [],
   "source": []
  }
 ],
 "metadata": {
  "kernelspec": {
   "display_name": "env",
   "language": "python",
   "name": "python3"
  },
  "language_info": {
   "codemirror_mode": {
    "name": "ipython",
    "version": 3
   },
   "file_extension": ".py",
   "mimetype": "text/x-python",
   "name": "python",
   "nbconvert_exporter": "python",
   "pygments_lexer": "ipython3",
   "version": "3.10.6"
  },
  "orig_nbformat": 4,
  "vscode": {
   "interpreter": {
    "hash": "f309f41cc1031c3222a5eb4c6b99ec5d3d1a742e018bf44f3accb1cd68cc28ab"
   }
  }
 },
 "nbformat": 4,
 "nbformat_minor": 2
}
