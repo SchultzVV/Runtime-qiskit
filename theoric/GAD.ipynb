{
 "cells": [
  {
   "cell_type": "code",
   "execution_count": 6,
   "metadata": {},
   "outputs": [],
   "source": [
    "from sympy.physics.quantum import Dagger\n",
    "from sympy import Symbol\n",
    "from sympy import sin, cos, exp, sqrt, pi\n",
    "from sympy import Matrix, print_latex\n",
    "from numpy import zeros\n",
    "import math\n",
    "import numpy as np \n",
    "\n",
    "theta = Symbol('theta',real=True, positive=True)\n",
    "phi = Symbol('phi',real=True, positive=True)\n",
    "p = Symbol('p',real=True, positive=True)\n",
    "gamma = Symbol('gamma',real=True, positive=True)\n",
    "\n",
    "def state_generalized_amplitude_damping(theta, phi, p, gamma):\n",
    "    Psi_AB = Matrix([[sqrt(p)*cos(theta/2),\n",
    "                sqrt(p*gamma)*exp(1j*phi)*sin(theta/2),\n",
    "                sqrt((1-p)*(1-gamma))*cos(theta/2),\n",
    "                0,\n",
    "                sqrt(p*(1-gamma))*exp(1j*phi)*sin(theta/2),\n",
    "                0,\n",
    "                sqrt(1-p)*exp(1j*phi)*sin(theta/2),\n",
    "                sqrt(1-p)*gamma*cos(theta/2),]])\n",
    "    target_op = Dagger(Psi_AB)*Psi_AB\n",
    "    return target_op\n",
    "#target_op = state_generalized_amplitude_damping(theta, phi, p, gamma)\n",
    "\n",
    "\n",
    "def ptraceA(da, db, rho):\n",
    "    rhoB = zeros((db,db),dtype=complex)\n",
    "    for j in range(0, db):\n",
    "        for k in range(0, db):\n",
    "            for l in range(0, da):\n",
    "                rhoB[j,k] += rho[l*db+j,l*db+k]\n",
    "    return rhoB\n",
    "\n",
    "def ptraceB(da, db, rho):\n",
    "    rhoA = zeros(da,da)\n",
    "    for j in range(0, da):\n",
    "        for k in range(0, da):\n",
    "            for l in range(0, db):\n",
    "                rhoA[j,k] += rho[j*db+l,k*db+l]\n",
    "    return rhoA\n",
    "\n",
    "def coh_l1(rho):  # normalized to [0,1]\n",
    "    d = rho.shape[0]\n",
    "    coh = 0.0\n",
    "    for j in range(0, d-1):\n",
    "        for k in range(j+1, d):\n",
    "            coh += math.sqrt((rho[j][k].real)**2.0 + (rho[j][k].imag)**2.0)\n",
    "    return 2.0*coh/(d-1)\n",
    "\n",
    "\n",
    "def pTraceL_num(dl, dr, rhoLR):\n",
    "    # Returns the left partial trace over the 'left' subsystem of rhoLR\n",
    "    rhoR = np.zeros((dr, dr), dtype=complex)\n",
    "    for j in range(0, dr):\n",
    "        for k in range(j, dr):\n",
    "            for l in range(0, dl):\n",
    "                rhoR[j,k] += rhoLR[l*dr+j,l*dr+k]\n",
    "            if j != k:\n",
    "                rhoR[k,j] = np.conj(rhoR[j,k])\n",
    "    return rhoR\n",
    "\n",
    "def pTraceR_num(dl, dr, rhoLR):\n",
    "    # Returns the right partial trace over the 'right' subsystem of rhoLR\n",
    "    rhoL = np.zeros((dl, dl), dtype=complex)\n",
    "    for j in range(0, dl):\n",
    "        for k in range(j, dl):\n",
    "            for l in range(0, dr):\n",
    "                rhoL[j,k] += rhoLR[j*dr+l,k*dr+l]\n",
    "        if j != k:\n",
    "            rhoL[k,j] = np.conj(rhoL[j,k])\n",
    "    return rhoL\n",
    "\n",
    "\n",
    "\n"
   ]
  },
  {
   "cell_type": "code",
   "execution_count": 7,
   "metadata": {},
   "outputs": [
    {
     "name": "stdout",
     "output_type": "stream",
     "text": [
      "\\left[\\begin{matrix}p \\cos^{2}{\\left(\\frac{\\theta}{2} \\right)} & \\sqrt{\\gamma} p e^{1.0 i \\phi} \\sin{\\left(\\frac{\\theta}{2} \\right)} \\cos{\\left(\\frac{\\theta}{2} \\right)} & \\sqrt{p} \\sqrt{\\left(1 - \\gamma\\right) \\left(1 - p\\right)} \\cos^{2}{\\left(\\frac{\\theta}{2} \\right)} & 0 & p \\sqrt{1 - \\gamma} e^{1.0 i \\phi} \\sin{\\left(\\frac{\\theta}{2} \\right)} \\cos{\\left(\\frac{\\theta}{2} \\right)} & 0 & \\sqrt{p} \\sqrt{1 - p} e^{1.0 i \\phi} \\sin{\\left(\\frac{\\theta}{2} \\right)} \\cos{\\left(\\frac{\\theta}{2} \\right)} & \\gamma \\sqrt{p} \\sqrt{1 - p} \\cos^{2}{\\left(\\frac{\\theta}{2} \\right)}\\\\\\sqrt{\\gamma} p e^{- 1.0 i \\phi} \\sin{\\left(\\frac{\\theta}{2} \\right)} \\cos{\\left(\\frac{\\theta}{2} \\right)} & \\gamma p \\sin^{2}{\\left(\\frac{\\theta}{2} \\right)} & \\sqrt{\\gamma} \\sqrt{p} \\sqrt{\\left(1 - \\gamma\\right) \\left(1 - p\\right)} e^{- 1.0 i \\phi} \\sin{\\left(\\frac{\\theta}{2} \\right)} \\cos{\\left(\\frac{\\theta}{2} \\right)} & 0 & \\sqrt{\\gamma} p \\sqrt{1 - \\gamma} \\sin^{2}{\\left(\\frac{\\theta}{2} \\right)} & 0 & \\sqrt{\\gamma} \\sqrt{p} \\sqrt{1 - p} \\sin^{2}{\\left(\\frac{\\theta}{2} \\right)} & \\gamma^{\\frac{3}{2}} \\sqrt{p} \\sqrt{1 - p} e^{- 1.0 i \\phi} \\sin{\\left(\\frac{\\theta}{2} \\right)} \\cos{\\left(\\frac{\\theta}{2} \\right)}\\\\\\sqrt{p} \\cos^{2}{\\left(\\frac{\\theta}{2} \\right)} \\overline{\\sqrt{\\left(1 - \\gamma\\right) \\left(1 - p\\right)}} & \\sqrt{\\gamma} \\sqrt{p} e^{1.0 i \\phi} \\sin{\\left(\\frac{\\theta}{2} \\right)} \\cos{\\left(\\frac{\\theta}{2} \\right)} \\overline{\\sqrt{\\left(1 - \\gamma\\right) \\left(1 - p\\right)}} & \\sqrt{\\left(1 - \\gamma\\right) \\left(1 - p\\right)} \\cos^{2}{\\left(\\frac{\\theta}{2} \\right)} \\overline{\\sqrt{\\left(1 - \\gamma\\right) \\left(1 - p\\right)}} & 0 & \\sqrt{p} \\sqrt{1 - \\gamma} e^{1.0 i \\phi} \\sin{\\left(\\frac{\\theta}{2} \\right)} \\cos{\\left(\\frac{\\theta}{2} \\right)} \\overline{\\sqrt{\\left(1 - \\gamma\\right) \\left(1 - p\\right)}} & 0 & \\sqrt{1 - p} e^{1.0 i \\phi} \\sin{\\left(\\frac{\\theta}{2} \\right)} \\cos{\\left(\\frac{\\theta}{2} \\right)} \\overline{\\sqrt{\\left(1 - \\gamma\\right) \\left(1 - p\\right)}} & \\gamma \\sqrt{1 - p} \\cos^{2}{\\left(\\frac{\\theta}{2} \\right)} \\overline{\\sqrt{\\left(1 - \\gamma\\right) \\left(1 - p\\right)}}\\\\0 & 0 & 0 & 0 & 0 & 0 & 0 & 0\\\\p e^{- 1.0 i \\phi} \\sin{\\left(\\frac{\\theta}{2} \\right)} \\cos{\\left(\\frac{\\theta}{2} \\right)} \\overline{\\sqrt{1 - \\gamma}} & \\sqrt{\\gamma} p \\sin^{2}{\\left(\\frac{\\theta}{2} \\right)} \\overline{\\sqrt{1 - \\gamma}} & \\sqrt{p} \\sqrt{\\left(1 - \\gamma\\right) \\left(1 - p\\right)} e^{- 1.0 i \\phi} \\sin{\\left(\\frac{\\theta}{2} \\right)} \\cos{\\left(\\frac{\\theta}{2} \\right)} \\overline{\\sqrt{1 - \\gamma}} & 0 & p \\sqrt{1 - \\gamma} \\sin^{2}{\\left(\\frac{\\theta}{2} \\right)} \\overline{\\sqrt{1 - \\gamma}} & 0 & \\sqrt{p} \\sqrt{1 - p} \\sin^{2}{\\left(\\frac{\\theta}{2} \\right)} \\overline{\\sqrt{1 - \\gamma}} & \\gamma \\sqrt{p} \\sqrt{1 - p} e^{- 1.0 i \\phi} \\sin{\\left(\\frac{\\theta}{2} \\right)} \\cos{\\left(\\frac{\\theta}{2} \\right)} \\overline{\\sqrt{1 - \\gamma}}\\\\0 & 0 & 0 & 0 & 0 & 0 & 0 & 0\\\\\\sqrt{p} e^{- 1.0 i \\phi} \\sin{\\left(\\frac{\\theta}{2} \\right)} \\cos{\\left(\\frac{\\theta}{2} \\right)} \\overline{\\sqrt{1 - p}} & \\sqrt{\\gamma} \\sqrt{p} \\sin^{2}{\\left(\\frac{\\theta}{2} \\right)} \\overline{\\sqrt{1 - p}} & \\sqrt{\\left(1 - \\gamma\\right) \\left(1 - p\\right)} e^{- 1.0 i \\phi} \\sin{\\left(\\frac{\\theta}{2} \\right)} \\cos{\\left(\\frac{\\theta}{2} \\right)} \\overline{\\sqrt{1 - p}} & 0 & \\sqrt{p} \\sqrt{1 - \\gamma} \\sin^{2}{\\left(\\frac{\\theta}{2} \\right)} \\overline{\\sqrt{1 - p}} & 0 & \\sqrt{1 - p} \\sin^{2}{\\left(\\frac{\\theta}{2} \\right)} \\overline{\\sqrt{1 - p}} & \\gamma \\sqrt{1 - p} e^{- 1.0 i \\phi} \\sin{\\left(\\frac{\\theta}{2} \\right)} \\cos{\\left(\\frac{\\theta}{2} \\right)} \\overline{\\sqrt{1 - p}}\\\\\\gamma \\sqrt{p} \\cos^{2}{\\left(\\frac{\\theta}{2} \\right)} \\overline{\\sqrt{1 - p}} & \\gamma^{\\frac{3}{2}} \\sqrt{p} e^{1.0 i \\phi} \\sin{\\left(\\frac{\\theta}{2} \\right)} \\cos{\\left(\\frac{\\theta}{2} \\right)} \\overline{\\sqrt{1 - p}} & \\gamma \\sqrt{\\left(1 - \\gamma\\right) \\left(1 - p\\right)} \\cos^{2}{\\left(\\frac{\\theta}{2} \\right)} \\overline{\\sqrt{1 - p}} & 0 & \\gamma \\sqrt{p} \\sqrt{1 - \\gamma} e^{1.0 i \\phi} \\sin{\\left(\\frac{\\theta}{2} \\right)} \\cos{\\left(\\frac{\\theta}{2} \\right)} \\overline{\\sqrt{1 - p}} & 0 & \\gamma \\sqrt{1 - p} e^{1.0 i \\phi} \\sin{\\left(\\frac{\\theta}{2} \\right)} \\cos{\\left(\\frac{\\theta}{2} \\right)} \\overline{\\sqrt{1 - p}} & \\gamma^{2} \\sqrt{1 - p} \\cos^{2}{\\left(\\frac{\\theta}{2} \\right)} \\overline{\\sqrt{1 - p}}\\end{matrix}\\right]\n"
     ]
    }
   ],
   "source": [
    "target_op = state_generalized_amplitude_damping(theta, phi, p, gamma)\n",
    "#target_op = state_generalized_amplitude_damping(pi/2, 0, 0.5, 0.5)\n",
    "#rho_B = pTraceR_num(2, 2, target_op)\n",
    "#rho_B\n",
    "#target_op\n",
    "print_latex(target_op)"
   ]
  },
  {
   "cell_type": "code",
   "execution_count": 4,
   "metadata": {},
   "outputs": [
    {
     "data": {
      "image/png": "[encoded data removed]",
      "text/plain": [
       "<Figure size 640x480 with 1 Axes>"
      ]
     },
     "metadata": {},
     "output_type": "display_data"
    }
   ],
   "source": [
    "from numpy import linspace\n",
    "import matplotlib.pyplot as plt\n",
    "\n",
    "# theoric plot\n",
    "#def plot_test(rho):\n",
    " \n",
    "list_gamma = linspace(0,1,10)\n",
    "list_gamma = [0]\n",
    "list_p = linspace(0,1,10)\n",
    "coerencias_R = []\n",
    "coerencias_L = []\n",
    "#for g in list_gamma:\n",
    "for p in list_p:\n",
    "    rho = state_generalized_amplitude_damping(pi/2, 0, p, 0.5)\n",
    "    \n",
    "    rhoA_R = pTraceR_num(2,2,rho)\n",
    "    rhoA_L = pTraceL_num(2,2,rho)\n",
    "    cA_R = coh_l1(rhoA_R)\n",
    "    cA_L = coh_l1(rhoA_L)\n",
    "    coerencias_R.append(cA_R)\n",
    "    coerencias_L.append(cA_L)\n",
    "plt.plot(list_p,coerencias_R,label='Rho_R')\n",
    "plt.plot(list_p,coerencias_L,label='Rho_L')\n",
    "plt.xlabel(' p ')\n",
    "plt.ylabel(' Coerência L1 ')\n",
    "plt.legend(loc=4)\n",
    "plt.show()\n",
    "\n",
    "    "
   ]
  },
  {
   "cell_type": "code",
   "execution_count": 17,
   "metadata": {},
   "outputs": [],
   "source": [
    "from sympy.physics.quantum import TensorProduct,Dagger\n",
    "from sympy import Symbol\n",
    "from sympy import sin, cos, exp, sqrt\n",
    "from sympy.matrices import Matrix\n",
    "\n",
    "theta = Symbol('theta')\n",
    "phi = Symbol('phi')\n",
    "p = Symbol('p')\n",
    "\n",
    "def general_state_matrix():\n",
    "    return Matrix([[cos(theta/2)**2, exp(1j*phi)*cos(theta/2)*sin(theta/2)],[exp(-1j*phi)*cos(theta/2)*sin(theta/2),sin(theta/2)**2]])\n",
    "matriz_estado_geral = general_state_matrix()\n",
    "#matriz_estado_geral\n",
    "\n",
    "def Kad(j, a):\n",
    "    if j == 0:\n",
    "        return Matrix([[0,sqrt(a)],[0,0]])\n",
    "    elif j == 1:\n",
    "        return Matrix([[1,0],[0,sqrt(1-a)]])\n",
    "\n",
    "k0 = Kad(2,p)\n",
    "k0"
   ]
  },
  {
   "cell_type": "code",
   "execution_count": 9,
   "metadata": {},
   "outputs": [
    {
     "data": {
      "text/latex": [
       "$\\displaystyle \\left[\\begin{matrix}\\sqrt{p} \\cos{\\left(\\frac{\\theta}{2} \\right)} \\cos{\\left(\\frac{\\overline{\\theta}}{2} \\right)} \\overline{\\sqrt{p}} & \\sqrt{p} e^{- 1.0 i \\overline{\\phi}} \\sin{\\left(\\frac{\\overline{\\theta}}{2} \\right)} \\cos{\\left(\\frac{\\theta}{2} \\right)} \\overline{\\sqrt{\\gamma p}} & \\sqrt{p} \\cos{\\left(\\frac{\\theta}{2} \\right)} \\cos{\\left(\\frac{\\overline{\\theta}}{2} \\right)} \\overline{\\sqrt{\\left(1 - \\gamma\\right) \\left(1 - p\\right)}} & 0 & \\sqrt{p} e^{- 1.0 i \\overline{\\phi}} \\sin{\\left(\\frac{\\overline{\\theta}}{2} \\right)} \\cos{\\left(\\frac{\\theta}{2} \\right)} \\overline{\\sqrt{p \\left(1 - \\gamma\\right)}} & 0 & \\sqrt{p} e^{- 1.0 i \\overline{\\phi}} \\sin{\\left(\\frac{\\overline{\\theta}}{2} \\right)} \\cos{\\left(\\frac{\\theta}{2} \\right)} \\overline{\\sqrt{1 - p}} & \\sqrt{p} \\cos{\\left(\\frac{\\theta}{2} \\right)} \\cos{\\left(\\frac{\\overline{\\theta}}{2} \\right)} \\overline{\\gamma} \\overline{\\sqrt{1 - p}}\\\\\\sqrt{\\gamma p} e^{1.0 i \\phi} \\sin{\\left(\\frac{\\theta}{2} \\right)} \\cos{\\left(\\frac{\\overline{\\theta}}{2} \\right)} \\overline{\\sqrt{p}} & \\sqrt{\\gamma p} e^{1.0 i \\phi} e^{- 1.0 i \\overline{\\phi}} \\sin{\\left(\\frac{\\theta}{2} \\right)} \\sin{\\left(\\frac{\\overline{\\theta}}{2} \\right)} \\overline{\\sqrt{\\gamma p}} & \\sqrt{\\gamma p} e^{1.0 i \\phi} \\sin{\\left(\\frac{\\theta}{2} \\right)} \\cos{\\left(\\frac{\\overline{\\theta}}{2} \\right)} \\overline{\\sqrt{\\left(1 - \\gamma\\right) \\left(1 - p\\right)}} & 0 & \\sqrt{\\gamma p} e^{1.0 i \\phi} e^{- 1.0 i \\overline{\\phi}} \\sin{\\left(\\frac{\\theta}{2} \\right)} \\sin{\\left(\\frac{\\overline{\\theta}}{2} \\right)} \\overline{\\sqrt{p \\left(1 - \\gamma\\right)}} & 0 & \\sqrt{\\gamma p} e^{1.0 i \\phi} e^{- 1.0 i \\overline{\\phi}} \\sin{\\left(\\frac{\\theta}{2} \\right)} \\sin{\\left(\\frac{\\overline{\\theta}}{2} \\right)} \\overline{\\sqrt{1 - p}} & \\sqrt{\\gamma p} e^{1.0 i \\phi} \\sin{\\left(\\frac{\\theta}{2} \\right)} \\cos{\\left(\\frac{\\overline{\\theta}}{2} \\right)} \\overline{\\gamma} \\overline{\\sqrt{1 - p}}\\\\\\sqrt{\\left(1 - \\gamma\\right) \\left(1 - p\\right)} \\cos{\\left(\\frac{\\theta}{2} \\right)} \\cos{\\left(\\frac{\\overline{\\theta}}{2} \\right)} \\overline{\\sqrt{p}} & \\sqrt{\\left(1 - \\gamma\\right) \\left(1 - p\\right)} e^{- 1.0 i \\overline{\\phi}} \\sin{\\left(\\frac{\\overline{\\theta}}{2} \\right)} \\cos{\\left(\\frac{\\theta}{2} \\right)} \\overline{\\sqrt{\\gamma p}} & \\sqrt{\\left(1 - \\gamma\\right) \\left(1 - p\\right)} \\cos{\\left(\\frac{\\theta}{2} \\right)} \\cos{\\left(\\frac{\\overline{\\theta}}{2} \\right)} \\overline{\\sqrt{\\left(1 - \\gamma\\right) \\left(1 - p\\right)}} & 0 & \\sqrt{\\left(1 - \\gamma\\right) \\left(1 - p\\right)} e^{- 1.0 i \\overline{\\phi}} \\sin{\\left(\\frac{\\overline{\\theta}}{2} \\right)} \\cos{\\left(\\frac{\\theta}{2} \\right)} \\overline{\\sqrt{p \\left(1 - \\gamma\\right)}} & 0 & \\sqrt{\\left(1 - \\gamma\\right) \\left(1 - p\\right)} e^{- 1.0 i \\overline{\\phi}} \\sin{\\left(\\frac{\\overline{\\theta}}{2} \\right)} \\cos{\\left(\\frac{\\theta}{2} \\right)} \\overline{\\sqrt{1 - p}} & \\sqrt{\\left(1 - \\gamma\\right) \\left(1 - p\\right)} \\cos{\\left(\\frac{\\theta}{2} \\right)} \\cos{\\left(\\frac{\\overline{\\theta}}{2} \\right)} \\overline{\\gamma} \\overline{\\sqrt{1 - p}}\\\\0 & 0 & 0 & 0 & 0 & 0 & 0 & 0\\\\\\sqrt{p \\left(1 - \\gamma\\right)} e^{1.0 i \\phi} \\sin{\\left(\\frac{\\theta}{2} \\right)} \\cos{\\left(\\frac{\\overline{\\theta}}{2} \\right)} \\overline{\\sqrt{p}} & \\sqrt{p \\left(1 - \\gamma\\right)} e^{1.0 i \\phi} e^{- 1.0 i \\overline{\\phi}} \\sin{\\left(\\frac{\\theta}{2} \\right)} \\sin{\\left(\\frac{\\overline{\\theta}}{2} \\right)} \\overline{\\sqrt{\\gamma p}} & \\sqrt{p \\left(1 - \\gamma\\right)} e^{1.0 i \\phi} \\sin{\\left(\\frac{\\theta}{2} \\right)} \\cos{\\left(\\frac{\\overline{\\theta}}{2} \\right)} \\overline{\\sqrt{\\left(1 - \\gamma\\right) \\left(1 - p\\right)}} & 0 & \\sqrt{p \\left(1 - \\gamma\\right)} e^{1.0 i \\phi} e^{- 1.0 i \\overline{\\phi}} \\sin{\\left(\\frac{\\theta}{2} \\right)} \\sin{\\left(\\frac{\\overline{\\theta}}{2} \\right)} \\overline{\\sqrt{p \\left(1 - \\gamma\\right)}} & 0 & \\sqrt{p \\left(1 - \\gamma\\right)} e^{1.0 i \\phi} e^{- 1.0 i \\overline{\\phi}} \\sin{\\left(\\frac{\\theta}{2} \\right)} \\sin{\\left(\\frac{\\overline{\\theta}}{2} \\right)} \\overline{\\sqrt{1 - p}} & \\sqrt{p \\left(1 - \\gamma\\right)} e^{1.0 i \\phi} \\sin{\\left(\\frac{\\theta}{2} \\right)} \\cos{\\left(\\frac{\\overline{\\theta}}{2} \\right)} \\overline{\\gamma} \\overline{\\sqrt{1 - p}}\\\\0 & 0 & 0 & 0 & 0 & 0 & 0 & 0\\\\\\sqrt{1 - p} e^{1.0 i \\phi} \\sin{\\left(\\frac{\\theta}{2} \\right)} \\cos{\\left(\\frac{\\overline{\\theta}}{2} \\right)} \\overline{\\sqrt{p}} & \\sqrt{1 - p} e^{1.0 i \\phi} e^{- 1.0 i \\overline{\\phi}} \\sin{\\left(\\frac{\\theta}{2} \\right)} \\sin{\\left(\\frac{\\overline{\\theta}}{2} \\right)} \\overline{\\sqrt{\\gamma p}} & \\sqrt{1 - p} e^{1.0 i \\phi} \\sin{\\left(\\frac{\\theta}{2} \\right)} \\cos{\\left(\\frac{\\overline{\\theta}}{2} \\right)} \\overline{\\sqrt{\\left(1 - \\gamma\\right) \\left(1 - p\\right)}} & 0 & \\sqrt{1 - p} e^{1.0 i \\phi} e^{- 1.0 i \\overline{\\phi}} \\sin{\\left(\\frac{\\theta}{2} \\right)} \\sin{\\left(\\frac{\\overline{\\theta}}{2} \\right)} \\overline{\\sqrt{p \\left(1 - \\gamma\\right)}} & 0 & \\sqrt{1 - p} e^{1.0 i \\phi} e^{- 1.0 i \\overline{\\phi}} \\sin{\\left(\\frac{\\theta}{2} \\right)} \\sin{\\left(\\frac{\\overline{\\theta}}{2} \\right)} \\overline{\\sqrt{1 - p}} & \\sqrt{1 - p} e^{1.0 i \\phi} \\sin{\\left(\\frac{\\theta}{2} \\right)} \\cos{\\left(\\frac{\\overline{\\theta}}{2} \\right)} \\overline{\\gamma} \\overline{\\sqrt{1 - p}}\\\\\\gamma \\sqrt{1 - p} \\cos{\\left(\\frac{\\theta}{2} \\right)} \\cos{\\left(\\frac{\\overline{\\theta}}{2} \\right)} \\overline{\\sqrt{p}} & \\gamma \\sqrt{1 - p} e^{- 1.0 i \\overline{\\phi}} \\sin{\\left(\\frac{\\overline{\\theta}}{2} \\right)} \\cos{\\left(\\frac{\\theta}{2} \\right)} \\overline{\\sqrt{\\gamma p}} & \\gamma \\sqrt{1 - p} \\cos{\\left(\\frac{\\theta}{2} \\right)} \\cos{\\left(\\frac{\\overline{\\theta}}{2} \\right)} \\overline{\\sqrt{\\left(1 - \\gamma\\right) \\left(1 - p\\right)}} & 0 & \\gamma \\sqrt{1 - p} e^{- 1.0 i \\overline{\\phi}} \\sin{\\left(\\frac{\\overline{\\theta}}{2} \\right)} \\cos{\\left(\\frac{\\theta}{2} \\right)} \\overline{\\sqrt{p \\left(1 - \\gamma\\right)}} & 0 & \\gamma \\sqrt{1 - p} e^{- 1.0 i \\overline{\\phi}} \\sin{\\left(\\frac{\\overline{\\theta}}{2} \\right)} \\cos{\\left(\\frac{\\theta}{2} \\right)} \\overline{\\sqrt{1 - p}} & \\gamma \\sqrt{1 - p} \\cos{\\left(\\frac{\\theta}{2} \\right)} \\cos{\\left(\\frac{\\overline{\\theta}}{2} \\right)} \\overline{\\gamma} \\overline{\\sqrt{1 - p}}\\end{matrix}\\right]$"
      ],
      "text/plain": [
       "Matrix([\n",
       "[                           sqrt(p)*cos(theta/2)*cos(conjugate(theta)/2)*conjugate(sqrt(p)),                            sqrt(p)*exp(-1.0*I*conjugate(phi))*sin(conjugate(theta)/2)*cos(theta/2)*conjugate(sqrt(gamma*p)),                            sqrt(p)*cos(theta/2)*cos(conjugate(theta)/2)*conjugate(sqrt((1 - gamma)*(1 - p))), 0,                            sqrt(p)*exp(-1.0*I*conjugate(phi))*sin(conjugate(theta)/2)*cos(theta/2)*conjugate(sqrt(p*(1 - gamma))), 0,                            sqrt(p)*exp(-1.0*I*conjugate(phi))*sin(conjugate(theta)/2)*cos(theta/2)*conjugate(sqrt(1 - p)),                            sqrt(p)*cos(theta/2)*cos(conjugate(theta)/2)*conjugate(gamma)*conjugate(sqrt(1 - p))],\n",
       "[      sqrt(gamma*p)*exp(1.0*I*phi)*sin(theta/2)*cos(conjugate(theta)/2)*conjugate(sqrt(p)),       sqrt(gamma*p)*exp(1.0*I*phi)*exp(-1.0*I*conjugate(phi))*sin(theta/2)*sin(conjugate(theta)/2)*conjugate(sqrt(gamma*p)),       sqrt(gamma*p)*exp(1.0*I*phi)*sin(theta/2)*cos(conjugate(theta)/2)*conjugate(sqrt((1 - gamma)*(1 - p))), 0,       sqrt(gamma*p)*exp(1.0*I*phi)*exp(-1.0*I*conjugate(phi))*sin(theta/2)*sin(conjugate(theta)/2)*conjugate(sqrt(p*(1 - gamma))), 0,       sqrt(gamma*p)*exp(1.0*I*phi)*exp(-1.0*I*conjugate(phi))*sin(theta/2)*sin(conjugate(theta)/2)*conjugate(sqrt(1 - p)),       sqrt(gamma*p)*exp(1.0*I*phi)*sin(theta/2)*cos(conjugate(theta)/2)*conjugate(gamma)*conjugate(sqrt(1 - p))],\n",
       "[         sqrt((1 - gamma)*(1 - p))*cos(theta/2)*cos(conjugate(theta)/2)*conjugate(sqrt(p)),          sqrt((1 - gamma)*(1 - p))*exp(-1.0*I*conjugate(phi))*sin(conjugate(theta)/2)*cos(theta/2)*conjugate(sqrt(gamma*p)),          sqrt((1 - gamma)*(1 - p))*cos(theta/2)*cos(conjugate(theta)/2)*conjugate(sqrt((1 - gamma)*(1 - p))), 0,          sqrt((1 - gamma)*(1 - p))*exp(-1.0*I*conjugate(phi))*sin(conjugate(theta)/2)*cos(theta/2)*conjugate(sqrt(p*(1 - gamma))), 0,          sqrt((1 - gamma)*(1 - p))*exp(-1.0*I*conjugate(phi))*sin(conjugate(theta)/2)*cos(theta/2)*conjugate(sqrt(1 - p)),          sqrt((1 - gamma)*(1 - p))*cos(theta/2)*cos(conjugate(theta)/2)*conjugate(gamma)*conjugate(sqrt(1 - p))],\n",
       "[                                                                                         0,                                                                                                                           0,                                                                                                            0, 0,                                                                                                                                 0, 0,                                                                                                                         0,                                                                                                               0],\n",
       "[sqrt(p*(1 - gamma))*exp(1.0*I*phi)*sin(theta/2)*cos(conjugate(theta)/2)*conjugate(sqrt(p)), sqrt(p*(1 - gamma))*exp(1.0*I*phi)*exp(-1.0*I*conjugate(phi))*sin(theta/2)*sin(conjugate(theta)/2)*conjugate(sqrt(gamma*p)), sqrt(p*(1 - gamma))*exp(1.0*I*phi)*sin(theta/2)*cos(conjugate(theta)/2)*conjugate(sqrt((1 - gamma)*(1 - p))), 0, sqrt(p*(1 - gamma))*exp(1.0*I*phi)*exp(-1.0*I*conjugate(phi))*sin(theta/2)*sin(conjugate(theta)/2)*conjugate(sqrt(p*(1 - gamma))), 0, sqrt(p*(1 - gamma))*exp(1.0*I*phi)*exp(-1.0*I*conjugate(phi))*sin(theta/2)*sin(conjugate(theta)/2)*conjugate(sqrt(1 - p)), sqrt(p*(1 - gamma))*exp(1.0*I*phi)*sin(theta/2)*cos(conjugate(theta)/2)*conjugate(gamma)*conjugate(sqrt(1 - p))],\n",
       "[                                                                                         0,                                                                                                                           0,                                                                                                            0, 0,                                                                                                                                 0, 0,                                                                                                                         0,                                                                                                               0],\n",
       "[        sqrt(1 - p)*exp(1.0*I*phi)*sin(theta/2)*cos(conjugate(theta)/2)*conjugate(sqrt(p)),         sqrt(1 - p)*exp(1.0*I*phi)*exp(-1.0*I*conjugate(phi))*sin(theta/2)*sin(conjugate(theta)/2)*conjugate(sqrt(gamma*p)),         sqrt(1 - p)*exp(1.0*I*phi)*sin(theta/2)*cos(conjugate(theta)/2)*conjugate(sqrt((1 - gamma)*(1 - p))), 0,         sqrt(1 - p)*exp(1.0*I*phi)*exp(-1.0*I*conjugate(phi))*sin(theta/2)*sin(conjugate(theta)/2)*conjugate(sqrt(p*(1 - gamma))), 0,         sqrt(1 - p)*exp(1.0*I*phi)*exp(-1.0*I*conjugate(phi))*sin(theta/2)*sin(conjugate(theta)/2)*conjugate(sqrt(1 - p)),         sqrt(1 - p)*exp(1.0*I*phi)*sin(theta/2)*cos(conjugate(theta)/2)*conjugate(gamma)*conjugate(sqrt(1 - p))],\n",
       "[                 gamma*sqrt(1 - p)*cos(theta/2)*cos(conjugate(theta)/2)*conjugate(sqrt(p)),                  gamma*sqrt(1 - p)*exp(-1.0*I*conjugate(phi))*sin(conjugate(theta)/2)*cos(theta/2)*conjugate(sqrt(gamma*p)),                  gamma*sqrt(1 - p)*cos(theta/2)*cos(conjugate(theta)/2)*conjugate(sqrt((1 - gamma)*(1 - p))), 0,                  gamma*sqrt(1 - p)*exp(-1.0*I*conjugate(phi))*sin(conjugate(theta)/2)*cos(theta/2)*conjugate(sqrt(p*(1 - gamma))), 0,                  gamma*sqrt(1 - p)*exp(-1.0*I*conjugate(phi))*sin(conjugate(theta)/2)*cos(theta/2)*conjugate(sqrt(1 - p)),                  gamma*sqrt(1 - p)*cos(theta/2)*cos(conjugate(theta)/2)*conjugate(gamma)*conjugate(sqrt(1 - p))]])"
      ]
     },
     "execution_count": 9,
     "metadata": {},
     "output_type": "execute_result"
    }
   ],
   "source": [
    "import sympy as sym\n",
    "from sympy.physics.quantum import TensorProduct, Dagger\n",
    "from sympy.matrices import Matrix\n",
    "theta = sym.Symbol('theta')\n",
    "phi = sym.Symbol('phi')\n",
    "p = sym.Symbol('p')\n",
    "gamma = sym.Symbol('gamma')\n",
    "Psi_AB = sym.Matrix([[\n",
    "           sym.sqrt(p)*sym.cos(theta/2)],[\n",
    "           sym.sqrt(p*gamma)*sym.exp(1j*phi)*sym.sin(theta/2)],[\n",
    "           sym.sqrt((1-p)*(1-gamma))*sym.cos(theta/2)],[\n",
    "           0],[\n",
    "           sym.sqrt(p*(1-gamma))*sym.exp(1j*phi)*sym.sin(theta/2)],[\n",
    "           0],[\n",
    "           sym.sqrt(1-p)*sym.exp(1j*phi)*sym.sin(theta/2)],[\n",
    "           sym.sqrt(1-p)*gamma*sym.cos(theta/2)\n",
    "           ]]) \n",
    "# Psi_AB = sym.Array([[sym.sqrt(p)*sym.cos(theta/2),\n",
    "#            sym.sqrt(p*gamma)*sym.exp(1j*phi)*sym.sin(theta/2),\n",
    "#            sym.sqrt((1-p)*(1-gamma))*sym.cos(theta/2),\n",
    "#            0,\n",
    "#            sym.sqrt(p*(1-gamma))*sym.exp(1j*phi)*sym.sin(theta/2),\n",
    "#            0,\n",
    "#            sym.sqrt(1-p)*sym.exp(1j*phi)*sym.sin(theta/2),\n",
    "#            sym.sqrt(1-p)*gamma*sym.cos(theta/2)\n",
    "#            ]]) \n",
    "Psi_AB.shape\n",
    "result = Psi_AB*Dagger(Psi_AB)\n",
    "\n"
   ]
  },
  {
   "cell_type": "code",
   "execution_count": null,
   "metadata": {},
   "outputs": [
    {
     "data": {
      "text/latex": [
       "$\\displaystyle {\\left[\\begin{matrix}\\cos{\\left(\\frac{\\overline{\\theta}}{2} \\right)} \\overline{\\sqrt{p}}\\\\e^{- 1.0 i \\overline{\\phi}} \\sin{\\left(\\frac{\\overline{\\theta}}{2} \\right)} \\overline{\\sqrt{\\gamma p}}\\\\\\cos{\\left(\\frac{\\overline{\\theta}}{2} \\right)} \\overline{\\sqrt{\\left(1 - \\gamma\\right) \\left(1 - p\\right)}}\\\\0\\\\e^{- 1.0 i \\overline{\\phi}} \\sin{\\left(\\frac{\\overline{\\theta}}{2} \\right)} \\overline{\\sqrt{p \\left(1 - \\gamma\\right)}}\\\\0\\\\e^{- 1.0 i \\overline{\\phi}} \\sin{\\left(\\frac{\\overline{\\theta}}{2} \\right)} \\overline{\\sqrt{1 - p}}\\\\\\cos{\\left(\\frac{\\overline{\\theta}}{2} \\right)} \\overline{\\gamma} \\overline{\\sqrt{1 - p}}\\end{matrix}\\right]}\\otimes {\\left[\\begin{matrix}\\sqrt{p} \\cos{\\left(\\frac{\\theta}{2} \\right)}\\\\\\sqrt{\\gamma p} e^{1.0 i \\phi} \\sin{\\left(\\frac{\\theta}{2} \\right)}\\\\\\sqrt{\\left(1 - \\gamma\\right) \\left(1 - p\\right)} \\cos{\\left(\\frac{\\theta}{2} \\right)}\\\\0\\\\\\sqrt{p \\left(1 - \\gamma\\right)} e^{1.0 i \\phi} \\sin{\\left(\\frac{\\theta}{2} \\right)}\\\\0\\\\\\sqrt{1 - p} e^{1.0 i \\phi} \\sin{\\left(\\frac{\\theta}{2} \\right)}\\\\\\gamma \\sqrt{1 - p} \\cos{\\left(\\frac{\\theta}{2} \\right)}\\end{matrix}\\right]}$"
      ],
      "text/plain": [
       "Matrix([\n",
       "[                                       cos(conjugate(theta)/2)*conjugate(sqrt(p))],\n",
       "[      exp(-1.0*I*conjugate(phi))*sin(conjugate(theta)/2)*conjugate(sqrt(gamma*p))],\n",
       "[                     cos(conjugate(theta)/2)*conjugate(sqrt((1 - gamma)*(1 - p)))],\n",
       "[                                                                                0],\n",
       "[exp(-1.0*I*conjugate(phi))*sin(conjugate(theta)/2)*conjugate(sqrt(p*(1 - gamma)))],\n",
       "[                                                                                0],\n",
       "[        exp(-1.0*I*conjugate(phi))*sin(conjugate(theta)/2)*conjugate(sqrt(1 - p))],\n",
       "[                  cos(conjugate(theta)/2)*conjugate(gamma)*conjugate(sqrt(1 - p))]])xMatrix([\n",
       "[                           sqrt(p)*cos(theta/2)],\n",
       "[      sqrt(gamma*p)*exp(1.0*I*phi)*sin(theta/2)],\n",
       "[         sqrt((1 - gamma)*(1 - p))*cos(theta/2)],\n",
       "[                                              0],\n",
       "[sqrt(p*(1 - gamma))*exp(1.0*I*phi)*sin(theta/2)],\n",
       "[                                              0],\n",
       "[        sqrt(1 - p)*exp(1.0*I*phi)*sin(theta/2)],\n",
       "[                 gamma*sqrt(1 - p)*cos(theta/2)]])"
      ]
     },
     "metadata": {},
     "output_type": "display_data"
    }
   ],
   "source": [
    "from sympy.physics.quantum import TensorProduct\n",
    "from sympy import conjugate\n",
    "\n",
    "rho_AB = TensorProduct(conjugate(Psi_AB),Psi_AB)\n",
    "rho_AB"
   ]
  },
  {
   "cell_type": "code",
   "execution_count": null,
   "metadata": {},
   "outputs": [
    {
     "data": {
      "text/latex": [
       "$\\displaystyle - \\mathbf{\\hat{i}_{N}} + \\left(-3\\right)\\mathbf{\\hat{j}_{N}} + \\left(-11\\right)\\mathbf{\\hat{k}_{N}}$"
      ],
      "text/plain": [
       "(-1)*N.i + (-3)*N.j + (-11)*N.k"
      ]
     },
     "metadata": {},
     "output_type": "display_data"
    }
   ],
   "source": [
    "from sympy.vector import CoordSys3D\n",
    "N = CoordSys3D('N')\n",
    "v1 = 2*N.i+3*N.j-N.k\n",
    "v2 = N.i-4*N.j+N.k\n",
    "v1.dot(v2)\n",
    "v3 = v1.cross(v2)\n",
    "v3"
   ]
  },
  {
   "cell_type": "code",
   "execution_count": null,
   "metadata": {},
   "outputs": [],
   "source": [
    "target_op = state_generalized_amplitude_damping(np.pi/2, 0, p,1)\n",
    "alpha = eval(input(\"How many rows? \"))\n",
    "beta = eval(input(\"How many columns? \"))\n",
    "\n",
    "def make_matrix(alpha,beta):\n",
    "    matrix_thing = SHIT.random.randint(0,50,(alpha,beta))\n",
    "    return(matrix_thing)\n",
    "\n",
    "matrix_sympy = Matrix(make_matrix(alpha, beta))"
   ]
  }
 ],
 "metadata": {
  "kernelspec": {
   "display_name": "env",
   "language": "python",
   "name": "python3"
  },
  "language_info": {
   "codemirror_mode": {
    "name": "ipython",
    "version": 3
   },
   "file_extension": ".py",
   "mimetype": "text/x-python",
   "name": "python",
   "nbconvert_exporter": "python",
   "pygments_lexer": "ipython3",
   "version": "3.10.6"
  },
  "orig_nbformat": 4,
  "vscode": {
   "interpreter": {
    "hash": "f309f41cc1031c3222a5eb4c6b99ec5d3d1a742e018bf44f3accb1cd68cc28ab"
   }
  }
 },
 "nbformat": 4,
 "nbformat_minor": 2
}
