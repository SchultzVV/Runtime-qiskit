{
 "cells": [
  {
   "cell_type": "code",
   "execution_count": null,
   "metadata": {},
   "outputs": [
    {
     "data": {
      "text/latex": [
       "$\\displaystyle \\left[\\begin{matrix}5 & 6 & 10 & 12\\end{matrix}\\right]$"
      ],
      "text/plain": [
       "Matrix([[5, 6, 10, 12]])"
      ]
     },
     "metadata": {},
     "output_type": "display_data"
    }
   ],
   "source": [
    "a = Matrix([[1,2]])\n",
    "b = Matrix([[5,6]])\n",
    "d = TensorProduct(a,b)\n",
    "d"
   ]
  },
  {
   "cell_type": "code",
   "execution_count": null,
   "metadata": {},
   "outputs": [
    {
     "data": {
      "text/plain": [
       "(8, 1)"
      ]
     },
     "metadata": {},
     "output_type": "display_data"
    }
   ],
   "source": [
    "import sympy as sym\n",
    "from sympy.matrices import Matrix\n",
    "theta = sym.Symbol('theta')\n",
    "phi = sym.Symbol('phi')\n",
    "p = sym.Symbol('p')\n",
    "gamma = sym.Symbol('gamma')\n",
    "Psi_AB = sym.Matrix([[\n",
    "           sym.sqrt(p)*sym.cos(theta/2)],[\n",
    "           sym.sqrt(p*gamma)*sym.exp(1j*phi)*sym.sin(theta/2)],[\n",
    "           sym.sqrt((1-p)*(1-gamma))*sym.cos(theta/2)],[\n",
    "           0],[\n",
    "           sym.sqrt(p*(1-gamma))*sym.exp(1j*phi)*sym.sin(theta/2)],[\n",
    "           0],[\n",
    "           sym.sqrt(1-p)*sym.exp(1j*phi)*sym.sin(theta/2)],[\n",
    "           sym.sqrt(1-p)*gamma*sym.cos(theta/2)\n",
    "           ]]) \n",
    "#Psi_AB = sym.Array([[sym.sqrt(p)*sym.cos(theta/2),\n",
    "#           sym.sqrt(p*gamma)*sym.exp(1j*phi)*sym.sin(theta/2),\n",
    "#           sym.sqrt((1-p)*(1-gamma))*sym.cos(theta/2),\n",
    "#           0,\n",
    "#           sym.sqrt(p*(1-gamma))*sym.exp(1j*phi)*sym.sin(theta/2),\n",
    "#           0,\n",
    "#           sym.sqrt(1-p)*sym.exp(1j*phi)*sym.sin(theta/2),\n",
    "#           sym.sqrt(1-p)*gamma*sym.cos(theta/2)\n",
    "#           ]]) \n",
    "Psi_AB.shape\n"
   ]
  },
  {
   "cell_type": "code",
   "execution_count": null,
   "metadata": {},
   "outputs": [
    {
     "data": {
      "text/latex": [
       "$\\displaystyle {\\left[\\begin{matrix}\\cos{\\left(\\frac{\\overline{\\theta}}{2} \\right)} \\overline{\\sqrt{p}}\\\\e^{- 1.0 i \\overline{\\phi}} \\sin{\\left(\\frac{\\overline{\\theta}}{2} \\right)} \\overline{\\sqrt{\\gamma p}}\\\\\\cos{\\left(\\frac{\\overline{\\theta}}{2} \\right)} \\overline{\\sqrt{\\left(1 - \\gamma\\right) \\left(1 - p\\right)}}\\\\0\\\\e^{- 1.0 i \\overline{\\phi}} \\sin{\\left(\\frac{\\overline{\\theta}}{2} \\right)} \\overline{\\sqrt{p \\left(1 - \\gamma\\right)}}\\\\0\\\\e^{- 1.0 i \\overline{\\phi}} \\sin{\\left(\\frac{\\overline{\\theta}}{2} \\right)} \\overline{\\sqrt{1 - p}}\\\\\\cos{\\left(\\frac{\\overline{\\theta}}{2} \\right)} \\overline{\\gamma} \\overline{\\sqrt{1 - p}}\\end{matrix}\\right]}\\otimes {\\left[\\begin{matrix}\\sqrt{p} \\cos{\\left(\\frac{\\theta}{2} \\right)}\\\\\\sqrt{\\gamma p} e^{1.0 i \\phi} \\sin{\\left(\\frac{\\theta}{2} \\right)}\\\\\\sqrt{\\left(1 - \\gamma\\right) \\left(1 - p\\right)} \\cos{\\left(\\frac{\\theta}{2} \\right)}\\\\0\\\\\\sqrt{p \\left(1 - \\gamma\\right)} e^{1.0 i \\phi} \\sin{\\left(\\frac{\\theta}{2} \\right)}\\\\0\\\\\\sqrt{1 - p} e^{1.0 i \\phi} \\sin{\\left(\\frac{\\theta}{2} \\right)}\\\\\\gamma \\sqrt{1 - p} \\cos{\\left(\\frac{\\theta}{2} \\right)}\\end{matrix}\\right]}$"
      ],
      "text/plain": [
       "Matrix([\n",
       "[                                       cos(conjugate(theta)/2)*conjugate(sqrt(p))],\n",
       "[      exp(-1.0*I*conjugate(phi))*sin(conjugate(theta)/2)*conjugate(sqrt(gamma*p))],\n",
       "[                     cos(conjugate(theta)/2)*conjugate(sqrt((1 - gamma)*(1 - p)))],\n",
       "[                                                                                0],\n",
       "[exp(-1.0*I*conjugate(phi))*sin(conjugate(theta)/2)*conjugate(sqrt(p*(1 - gamma)))],\n",
       "[                                                                                0],\n",
       "[        exp(-1.0*I*conjugate(phi))*sin(conjugate(theta)/2)*conjugate(sqrt(1 - p))],\n",
       "[                  cos(conjugate(theta)/2)*conjugate(gamma)*conjugate(sqrt(1 - p))]])xMatrix([\n",
       "[                           sqrt(p)*cos(theta/2)],\n",
       "[      sqrt(gamma*p)*exp(1.0*I*phi)*sin(theta/2)],\n",
       "[         sqrt((1 - gamma)*(1 - p))*cos(theta/2)],\n",
       "[                                              0],\n",
       "[sqrt(p*(1 - gamma))*exp(1.0*I*phi)*sin(theta/2)],\n",
       "[                                              0],\n",
       "[        sqrt(1 - p)*exp(1.0*I*phi)*sin(theta/2)],\n",
       "[                 gamma*sqrt(1 - p)*cos(theta/2)]])"
      ]
     },
     "metadata": {},
     "output_type": "display_data"
    }
   ],
   "source": [
    "from sympy.physics.quantum import TensorProduct\n",
    "from sympy import conjugate\n",
    "\n",
    "rho_AB = TensorProduct(conjugate(Psi_AB),Psi_AB)\n",
    "rho_AB"
   ]
  },
  {
   "cell_type": "code",
   "execution_count": null,
   "metadata": {},
   "outputs": [
    {
     "data": {
      "text/latex": [
       "$\\displaystyle - \\mathbf{\\hat{i}_{N}} + \\left(-3\\right)\\mathbf{\\hat{j}_{N}} + \\left(-11\\right)\\mathbf{\\hat{k}_{N}}$"
      ],
      "text/plain": [
       "(-1)*N.i + (-3)*N.j + (-11)*N.k"
      ]
     },
     "metadata": {},
     "output_type": "display_data"
    }
   ],
   "source": [
    "from sympy.vector import CoordSys3D\n",
    "N = CoordSys3D('N')\n",
    "v1 = 2*N.i+3*N.j-N.k\n",
    "v2 = N.i-4*N.j+N.k\n",
    "v1.dot(v2)\n",
    "v3 = v1.cross(v2)\n",
    "v3"
   ]
  },
  {
   "cell_type": "code",
   "execution_count": null,
   "metadata": {},
   "outputs": [],
   "source": [
    "target_op = state_generalized_amplitude_damping(np.pi/2, 0, p,1)\n",
    "alpha = eval(input(\"How many rows? \"))\n",
    "beta = eval(input(\"How many columns? \"))\n",
    "\n",
    "def make_matrix(alpha,beta):\n",
    "    matrix_thing = SHIT.random.randint(0,50,(alpha,beta))\n",
    "    return(matrix_thing)\n",
    "\n",
    "matrix_sympy = Matrix(make_matrix(alpha, beta))"
   ]
  }
 ],
 "metadata": {
  "kernelspec": {
   "display_name": "env",
   "language": "python",
   "name": "python3"
  },
  "language_info": {
   "name": "python",
   "version": "3.10.6"
  },
  "orig_nbformat": 4,
  "vscode": {
   "interpreter": {
    "hash": "f309f41cc1031c3222a5eb4c6b99ec5d3d1a742e018bf44f3accb1cd68cc28ab"
   }
  }
 },
 "nbformat": 4,
 "nbformat_minor": 2
}
