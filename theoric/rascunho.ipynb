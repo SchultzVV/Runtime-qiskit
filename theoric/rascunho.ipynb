{
 "cells": [
  {
   "cell_type": "code",
   "execution_count": 2,
   "metadata": {},
   "outputs": [
    {
     "data": {
      "text/latex": [
       "$\\displaystyle \\left[\\begin{matrix}p \\sin^{2}{\\left(\\frac{\\theta}{2} \\right)} + \\left(1 - p\\right) \\cos^{2}{\\left(\\frac{\\theta}{2} \\right)} & \\left(p e^{1.0 i \\phi} + \\left(1 - p\\right) e^{- 1.0 i \\phi}\\right) \\sin{\\left(\\frac{\\theta}{2} \\right)} \\cos{\\left(\\frac{\\theta}{2} \\right)}\\\\\\left(p e^{- 1.0 i \\phi} + \\left(1 - p\\right) e^{1.0 i \\phi}\\right) \\sin{\\left(\\frac{\\theta}{2} \\right)} \\cos{\\left(\\frac{\\theta}{2} \\right)} & p \\cos^{2}{\\left(\\frac{\\theta}{2} \\right)} + \\left(1 - p\\right) \\sin^{2}{\\left(\\frac{\\theta}{2} \\right)}\\end{matrix}\\right]$"
      ],
      "text/plain": [
       "Matrix([\n",
       "[                           p*sin(theta/2)**2 + (1 - p)*cos(theta/2)**2, (p*exp(1.0*I*phi) + (1 - p)*exp(-1.0*I*phi))*sin(theta/2)*cos(theta/2)],\n",
       "[(p*exp(-1.0*I*phi) + (1 - p)*exp(1.0*I*phi))*sin(theta/2)*cos(theta/2),                            p*cos(theta/2)**2 + (1 - p)*sin(theta/2)**2]])"
      ]
     },
     "execution_count": 2,
     "metadata": {},
     "output_type": "execute_result"
    }
   ],
   "source": [
    "from sympy import cos, sin, sqrt, pi, Matrix, Symbol, exp, print_latex, simplify\n",
    "from sympy.physics.quantum import TensorProduct, Dagger\n",
    "import numpy as np\n",
    "import torch\n",
    "from numpy import linspace\n",
    "import matplotlib.pyplot as plt\n",
    "import numpy as np \n",
    "import math\n",
    "from theoric.tools import coh_l1, pTraceR_num, pTraceL_num\n",
    "theta = Symbol('theta',real=True)\n",
    "phi = Symbol('phi',real=True)\n",
    "gamma = Symbol('gamma',real=True, positive=True)\n",
    "p = Symbol('p',real=True, positive=True)\n",
    "\n",
    "\n",
    "def theoric_rho_A_bf(theta, phi, p):\n",
    "    state = Matrix([[(cos(theta/2))**2,\n",
    "                    ((1-2*p)*exp(-1j*phi)*sin(phi)*cos(theta/2))],[\n",
    "                    ((1-2*p)*exp(1j*phi)*sin(phi)*cos(theta/2)),\n",
    "                    sin(theta/2)**2]])\n",
    "    return state\n",
    "#a = theoric_rho_A_bf(theta, phi, p)\n",
    "#print(a)\n",
    "def plot_theoric_pf(list_p):\n",
    "    cohs = []\n",
    "    for pp in list_p:\n",
    "        rho = theoric_rho_A_bf(pi/2, pi/2,pp)\n",
    "        rho_numpy = np.array(rho.tolist(), dtype=np.complex64)\n",
    "        coh = coh_l1(rho_numpy)\n",
    "        cohs.append(coh)\n",
    "    plt.plot(list_p,cohs,label='Teórico')\n",
    "list_p = np.linspace(0,1,20)\n",
    "\n",
    "#plot_theoric_bf(list_p)\n",
    "#plt.show()\n",
    "list_p = np.linspace(0,1,20)\n",
    "a"
   ]
  },
  {
   "cell_type": "code",
   "execution_count": 3,
   "metadata": {},
   "outputs": [
    {
     "data": {
      "text/latex": [
       "$\\displaystyle \\left[\\begin{matrix}- 2 p \\cos^{2}{\\left(\\frac{\\theta}{2} \\right)} + p + \\cos^{2}{\\left(\\frac{\\theta}{2} \\right)} & \\frac{\\left(p e^{2.0 i \\phi} - p + 1\\right) e^{- 1.0 i \\phi} \\sin{\\left(\\theta \\right)}}{2}\\\\\\frac{\\left(p + \\left(1 - p\\right) e^{2.0 i \\phi}\\right) e^{- 1.0 i \\phi} \\sin{\\left(\\theta \\right)}}{2} & - 2 p \\sin^{2}{\\left(\\frac{\\theta}{2} \\right)} + p + \\sin^{2}{\\left(\\frac{\\theta}{2} \\right)}\\end{matrix}\\right]$"
      ],
      "text/plain": [
       "Matrix([\n",
       "[               -2*p*cos(theta/2)**2 + p + cos(theta/2)**2, (p*exp(2.0*I*phi) - p + 1)*exp(-1.0*I*phi)*sin(theta)/2],\n",
       "[(p + (1 - p)*exp(2.0*I*phi))*exp(-1.0*I*phi)*sin(theta)/2,              -2*p*sin(theta/2)**2 + p + sin(theta/2)**2]])"
      ]
     },
     "execution_count": 3,
     "metadata": {},
     "output_type": "execute_result"
    }
   ],
   "source": [
    "def theoric_rho_A_bf(theta, phi, p):\n",
    "    state = Matrix([[(1-p)*(cos(theta/2)**2) + p*((sin(theta/2))**2),\n",
    "                    ((1-p)*exp(-1j*phi)+(p*exp(1j*phi)))*sin(theta/2)*cos(theta/2)],[\n",
    "                    ((1-p)*exp(1j*phi)+(p*exp(-1j*phi)))*sin(theta/2)*cos(theta/2),\n",
    "                    (1-p)*(sin(theta/2)**2)+p*(cos(theta/2)**2)]])\n",
    "    return state\n",
    "a = simplify(theoric_rho_A_bf(theta, phi, p))\n",
    "a"
   ]
  },
  {
   "cell_type": "code",
   "execution_count": 6,
   "metadata": {},
   "outputs": [
    {
     "name": "stdout",
     "output_type": "stream",
     "text": [
      "Matrix([[1/2, exp(-0.5*I*pi)/2], [exp(0.5*I*pi)/2, 1/2]])\n",
      "Matrix([[0.500000000000000, 0.25*exp(-0.5*I*pi) + 0.25*exp(0.5*I*pi)], [0.25*exp(-0.5*I*pi) + 0.25*exp(0.5*I*pi), 0.500000000000000]])\n",
      "Matrix([[1/2, exp(0.5*I*pi)/2], [exp(-0.5*I*pi)/2, 1/2]])\n"
     ]
    }
   ],
   "source": [
    "listp = [0,0.5,1]\n",
    "for p in listp:\n",
    "    print(theoric_rho_A_bf(pi/2, pi/2,p))"
   ]
  },
  {
   "cell_type": "code",
   "execution_count": 7,
   "metadata": {},
   "outputs": [
    {
     "name": "stdout",
     "output_type": "stream",
     "text": [
      "[[5.0000000e-01+0.j  5.2814995e-24-0.5j]\n",
      " [5.2814995e-24+0.5j 5.0000000e-01+0.j ]]\n",
      "[[5.0000000e-01+0.j        8.2231284e-27-0.4473684j]\n",
      " [8.2231284e-27+0.4473684j 5.0000000e-01+0.j       ]]\n",
      "[[5.0000000e-01+0.j         8.2231284e-27-0.39473686j]\n",
      " [8.2231284e-27+0.39473686j 5.0000000e-01+0.j        ]]\n",
      "[[5.0000000e-01+0.j         8.2231284e-27-0.34210527j]\n",
      " [8.2231284e-27+0.34210527j 5.0000000e-01+0.j        ]]\n",
      "[[5.0000000e-01+0.j         8.2231284e-27-0.28947368j]\n",
      " [8.2231284e-27+0.28947368j 5.0000000e-01+0.j        ]]\n",
      "[[5.0000000e-01+0.j         8.2231284e-27-0.23684211j]\n",
      " [8.2231284e-27+0.23684211j 5.0000000e-01+0.j        ]]\n",
      "[[5.0000000e-01+0.j         8.2231284e-27-0.18421052j]\n",
      " [8.2231284e-27+0.18421052j 5.0000000e-01+0.j        ]]\n",
      "[[5.0000000e-01+0.j         8.2231284e-27-0.13157895j]\n",
      " [8.2231284e-27+0.13157895j 5.0000000e-01+0.j        ]]\n",
      "[[5.0000000e-01+0.j         8.2231284e-27-0.07894737j]\n",
      " [8.2231284e-27+0.07894737j 5.0000000e-01+0.j        ]]\n",
      "[[5.0000000e-01+0.j         8.2231284e-27-0.02631579j]\n",
      " [8.2231284e-27+0.02631579j 5.0000000e-01+0.j        ]]\n",
      "[[5.0000000e-01+0.j         8.2231284e-27+0.02631579j]\n",
      " [8.2231284e-27-0.02631579j 5.0000000e-01+0.j        ]]\n",
      "[[5.0000000e-01+0.j         8.2231284e-27+0.07894737j]\n",
      " [8.2231284e-27-0.07894737j 5.0000000e-01+0.j        ]]\n",
      "[[5.0000000e-01+0.j         8.2231284e-27+0.13157895j]\n",
      " [8.2231284e-27-0.13157895j 5.0000000e-01+0.j        ]]\n",
      "[[5.0000000e-01+0.j         8.2231284e-27+0.18421052j]\n",
      " [8.2231284e-27-0.18421052j 5.0000000e-01+0.j        ]]\n",
      "[[5.0000000e-01+0.j         8.2231284e-27+0.23684211j]\n",
      " [8.2231284e-27-0.23684211j 5.0000000e-01+0.j        ]]\n",
      "[[5.0000000e-01+0.j         8.2231284e-27+0.28947368j]\n",
      " [8.2231284e-27-0.28947368j 5.0000000e-01+0.j        ]]\n",
      "[[5.0000000e-01+0.j         8.2231284e-27+0.34210527j]\n",
      " [8.2231284e-27-0.34210527j 5.0000000e-01+0.j        ]]\n",
      "[[5.0000000e-01+0.j         8.2231284e-27+0.39473686j]\n",
      " [8.2231284e-27-0.39473686j 5.0000000e-01+0.j        ]]\n",
      "[[5.0000000e-01+0.j        8.2231284e-27+0.4473684j]\n",
      " [8.2231284e-27-0.4473684j 5.0000000e-01+0.j       ]]\n",
      "[[5.0000000e-01+0.j  5.2814995e-24+0.5j]\n",
      " [5.2814995e-24-0.5j 5.0000000e-01+0.j ]]\n"
     ]
    },
    {
     "data": {
      "image/png": "[encoded data removed]",
      "text/plain": [
       "<Figure size 640x480 with 1 Axes>"
      ]
     },
     "metadata": {},
     "output_type": "display_data"
    }
   ],
   "source": [
    "\n",
    "plot_theoric_bf(list_p)\n",
    "#a\n"
   ]
  }
 ],
 "metadata": {
  "kernelspec": {
   "display_name": "env",
   "language": "python",
   "name": "python3"
  },
  "language_info": {
   "codemirror_mode": {
    "name": "ipython",
    "version": 3
   },
   "file_extension": ".py",
   "mimetype": "text/x-python",
   "name": "python",
   "nbconvert_exporter": "python",
   "pygments_lexer": "ipython3",
   "version": "3.10.6"
  },
  "orig_nbformat": 4
 },
 "nbformat": 4,
 "nbformat_minor": 2
}
