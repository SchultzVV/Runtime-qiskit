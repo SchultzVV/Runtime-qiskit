{
 "cells": [
  {
   "cell_type": "code",
   "execution_count": 2,
   "metadata": {},
   "outputs": [
    {
     "data": {
      "text/latex": [
       "$\\displaystyle \\left[\\begin{matrix}p \\sin^{2}{\\left(\\frac{\\theta}{2} \\right)} + \\left(1 - p\\right) \\cos^{2}{\\left(\\frac{\\theta}{2} \\right)} & \\left(p e^{1.0 i \\phi} + \\left(1 - p\\right) e^{- 1.0 i \\phi}\\right) \\sin{\\left(\\frac{\\theta}{2} \\right)} \\cos{\\left(\\frac{\\theta}{2} \\right)}\\\\\\left(p e^{- 1.0 i \\phi} + \\left(1 - p\\right) e^{1.0 i \\phi}\\right) \\sin{\\left(\\frac{\\theta}{2} \\right)} \\cos{\\left(\\frac{\\theta}{2} \\right)} & p \\cos^{2}{\\left(\\frac{\\theta}{2} \\right)} + \\left(1 - p\\right) \\sin^{2}{\\left(\\frac{\\theta}{2} \\right)}\\end{matrix}\\right]$"
      ],
      "text/plain": [
       "Matrix([\n",
       "[                           p*sin(theta/2)**2 + (1 - p)*cos(theta/2)**2, (p*exp(1.0*I*phi) + (1 - p)*exp(-1.0*I*phi))*sin(theta/2)*cos(theta/2)],\n",
       "[(p*exp(-1.0*I*phi) + (1 - p)*exp(1.0*I*phi))*sin(theta/2)*cos(theta/2),                            p*cos(theta/2)**2 + (1 - p)*sin(theta/2)**2]])"
      ]
     },
     "execution_count": 2,
     "metadata": {},
     "output_type": "execute_result"
    }
   ],
   "source": [
    "from sympy import cos, sin, sqrt, pi, Matrix, Symbol, exp, print_latex, simplify\n",
    "from sympy.physics.quantum import TensorProduct, Dagger\n",
    "import numpy as np\n",
    "import torch\n",
    "from numpy import linspace\n",
    "import matplotlib.pyplot as plt\n",
    "import numpy as np \n",
    "import math\n",
    "from tools import coh_l1, pTraceR_num, pTraceL_num\n",
    "theta = Symbol('theta',real=True)\n",
    "phi = Symbol('phi',real=True)\n",
    "gamma = Symbol('gamma',real=True, positive=True)\n",
    "p = Symbol('p',real=True, positive=True)\n",
    "\n",
    "\n",
    "def theoric_rho_A_bf(theta, phi, p):\n",
    "    state = Matrix([[(1-p)*(cos(theta/2)**2) + p*((sin(theta/2))**2),\n",
    "                    ((1-p)*exp(-1j*phi)+(p*exp(1j*phi)))*sin(theta/2)*cos(theta/2)],[\n",
    "                    ((1-p)*exp(1j*phi)+(p*exp(-1j*phi)))*sin(theta/2)*cos(theta/2),\n",
    "                    (1-p)*(sin(theta/2)**2)+p*(cos(theta/2)**2)]])\n",
    "    return state\n",
    "\n",
    "#def theoric_rho_A_bf(theta, phi, p):\n",
    "#    state = Matrix([[(1-p)*((cos(theta/2))**2) + p*((sin(theta/2))**2),\n",
    "#                    (((exp(-1j*phi))+(2j*p*sin(phi)))*sin(theta/2)*cos(theta/2))],[\n",
    "#                    (((exp(1j*phi))-(2j*p*sin(phi)))*sin(theta/2)*cos(theta/2)),\n",
    "#                    (1-p)*(sin(theta/2)**2)+p*(cos(theta/2)**2)]])\n",
    "#    return state\n",
    "\n",
    "a = theoric_rho_A_bf(theta, phi, p)\n",
    "#print(a)\n",
    "def plot_theoric_bf(list_p):\n",
    "    cohs = []\n",
    "    for pp in list_p:\n",
    "        rho = theoric_rho_A_bf(pi/2, 0,pp)\n",
    "        rho_numpy = np.array(rho.tolist(), dtype=np.complex64)\n",
    "        print(rho_numpy)\n",
    "        coh = coh_l1(rho_numpy)\n",
    "        cohs.append(coh)\n",
    "    plt.plot(list_p,cohs,label='Teórico')\n",
    "list_p = np.linspace(0,1,20)\n",
    "a"
   ]
  },
  {
   "cell_type": "code",
   "execution_count": 5,
   "metadata": {},
   "outputs": [
    {
     "data": {
      "text/latex": [
       "$\\displaystyle \\left[\\begin{matrix}\\sin^{2}{\\left(\\frac{\\theta}{2} \\right)} & \\frac{e^{1.0 i \\phi} \\sin{\\left(\\theta \\right)}}{2}\\\\\\frac{e^{- 1.0 i \\phi} \\sin{\\left(\\theta \\right)}}{2} & \\cos^{2}{\\left(\\frac{\\theta}{2} \\right)}\\end{matrix}\\right]$"
      ],
      "text/plain": [
       "Matrix([\n",
       "[             sin(theta/2)**2, exp(1.0*I*phi)*sin(theta)/2],\n",
       "[exp(-1.0*I*phi)*sin(theta)/2,             cos(theta/2)**2]])"
      ]
     },
     "execution_count": 5,
     "metadata": {},
     "output_type": "execute_result"
    }
   ],
   "source": [
    "def theoric_rho_A_bf(theta, phi, p):\n",
    "    state = Matrix([[(1-p)*(cos(theta/2)**2) + p*((sin(theta/2))**2),\n",
    "                    ((1-p)*exp(-1j*phi)+(p*exp(1j*phi)))*sin(theta/2)*cos(theta/2)],[\n",
    "                    ((1-p)*exp(1j*phi)+(p*exp(-1j*phi)))*sin(theta/2)*cos(theta/2),\n",
    "                    (1-p)*(sin(theta/2)**2)+p*(cos(theta/2)**2)]])\n",
    "    return state\n",
    "a = simplify(theoric_rho_A_bf(theta, phi, p))\n",
    "a"
   ]
  },
  {
   "cell_type": "code",
   "execution_count": 4,
   "metadata": {},
   "outputs": [
    {
     "name": "stdout",
     "output_type": "stream",
     "text": [
      "Matrix([[1/2, 1/2], [1/2, 1/2]])\n",
      "Matrix([[0.500000000000000, 0.500000000000000], [0.500000000000000, 0.500000000000000]])\n",
      "Matrix([[1/2, 1/2], [1/2, 1/2]])\n"
     ]
    }
   ],
   "source": [
    "listp = [0,0.5,1]\n",
    "for p in listp:\n",
    "    print(theoric_rho_A_bf(pi/2, 0,p))"
   ]
  },
  {
   "cell_type": "code",
   "execution_count": 16,
   "metadata": {},
   "outputs": [
    {
     "name": "stdout",
     "output_type": "stream",
     "text": [
      "[[0.5+0.j 0.5+0.j]\n",
      " [0.5+0.j 0.5+0.j]]\n",
      "[[0.5+0.j 0.5+0.j]\n",
      " [0.5+0.j 0.5+0.j]]\n",
      "[[0.5+0.j 0.5+0.j]\n",
      " [0.5+0.j 0.5+0.j]]\n",
      "[[0.5+0.j 0.5+0.j]\n",
      " [0.5+0.j 0.5+0.j]]\n",
      "[[0.5+0.j 0.5+0.j]\n",
      " [0.5+0.j 0.5+0.j]]\n",
      "[[0.5+0.j 0.5+0.j]\n",
      " [0.5+0.j 0.5+0.j]]\n",
      "[[0.5+0.j 0.5+0.j]\n",
      " [0.5+0.j 0.5+0.j]]\n",
      "[[0.5+0.j 0.5+0.j]\n",
      " [0.5+0.j 0.5+0.j]]\n",
      "[[0.5+0.j 0.5+0.j]\n",
      " [0.5+0.j 0.5+0.j]]\n",
      "[[0.5+0.j 0.5+0.j]\n",
      " [0.5+0.j 0.5+0.j]]\n",
      "[[0.5+0.j 0.5+0.j]\n",
      " [0.5+0.j 0.5+0.j]]\n",
      "[[0.5+0.j 0.5+0.j]\n",
      " [0.5+0.j 0.5+0.j]]\n",
      "[[0.5+0.j 0.5+0.j]\n",
      " [0.5+0.j 0.5+0.j]]\n",
      "[[0.5+0.j 0.5+0.j]\n",
      " [0.5+0.j 0.5+0.j]]\n",
      "[[0.5+0.j 0.5+0.j]\n",
      " [0.5+0.j 0.5+0.j]]\n",
      "[[0.5+0.j 0.5+0.j]\n",
      " [0.5+0.j 0.5+0.j]]\n",
      "[[0.5+0.j 0.5+0.j]\n",
      " [0.5+0.j 0.5+0.j]]\n",
      "[[0.5+0.j 0.5+0.j]\n",
      " [0.5+0.j 0.5+0.j]]\n",
      "[[0.5+0.j 0.5+0.j]\n",
      " [0.5+0.j 0.5+0.j]]\n",
      "[[0.5+0.j 0.5+0.j]\n",
      " [0.5+0.j 0.5+0.j]]\n"
     ]
    },
    {
     "data": {
      "image/png": "[encoded data removed]",
      "text/plain": [
       "<Figure size 640x480 with 1 Axes>"
      ]
     },
     "metadata": {},
     "output_type": "display_data"
    }
   ],
   "source": [
    "\n",
    "plot_theoric_bf(list_p)\n",
    "#a\n"
   ]
  }
 ],
 "metadata": {
  "kernelspec": {
   "display_name": "env",
   "language": "python",
   "name": "python3"
  },
  "language_info": {
   "codemirror_mode": {
    "name": "ipython",
    "version": 3
   },
   "file_extension": ".py",
   "mimetype": "text/x-python",
   "name": "python",
   "nbconvert_exporter": "python",
   "pygments_lexer": "ipython3",
   "version": "3.10.6"
  },
  "orig_nbformat": 4
 },
 "nbformat": 4,
 "nbformat_minor": 2
}
