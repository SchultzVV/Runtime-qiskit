{
 "cells": [
  {
   "cell_type": "code",
   "execution_count": null,
   "metadata": {},
   "outputs": [],
   "source": [
    "from sympy import cos, sin, sqrt, pi, Matrix, Symbol, exp, print_latex, simplify\n",
    "#from sympy.physics.quantum import TensorProduct, Dagger\n",
    "import numpy as np\n",
    "from numpy import linspace\n",
    "#import matplotlib.pyplot as plt\n",
    "#import math\n",
    "from theoric.tools import *\n",
    "#import torch\n",
    "from torch import tensor\n",
    "\n",
    "theta = Symbol('theta',real=True)\n",
    "phi = Symbol('phi',real=True)\n",
    "gamma = Symbol('gamma',real=True, positive=True)\n",
    "p = Symbol('p',real=True, positive=True)\n",
    "\n",
    "\n",
    "# tem que arrumar a função abaixo ainda\n",
    "def calculated_rho_AB(theta, phi, p):\n",
    "    state = Matrix([[(cos(theta/2)),\n",
    "                    (sqrt(p)),\n",
    "                    (sqrt(1-p)*exp(1j*phi)*sin(theta/2)),\n",
    "                    0]])\n",
    "    M_numpy = np.array(state.tolist(), dtype=np.complex64)\n",
    "    return M_numpy\n",
    "    #return state\n",
    "\n",
    "def get_target_op(func_estado):\n",
    "    state1 = simplify(func_estado)\n",
    "    state2 = np.zeros(4,dtype=complex)\n",
    "    aux = 0\n",
    "    for i in state1[0]:\n",
    "        state2[aux] = i\n",
    "        aux += 1\n",
    "    target_op = np.outer(state2.conj(), state2)\n",
    "    target_op = tensor(target_op)\n",
    "    return target_op\n",
    "\n",
    "state = calculated_rho_AB(pi/2, 0, 0.5)\n",
    "state"
   ]
  },
  {
   "cell_type": "code",
   "execution_count": null,
   "metadata": {},
   "outputs": [],
   "source": [
    "a = get_target_op(calculated_rho_AB(pi/2, 0, 1))\n",
    "a\n"
   ]
  },
  {
   "cell_type": "code",
   "execution_count": null,
   "metadata": {},
   "outputs": [],
   "source": [
    "'''                                  ReadMe                                                      '''\n",
    "'''# Nessa célula vamos apenas mudar a função geradora do estado a ser preparado                 '''\n",
    "'''# Basta alterar a função que gera o estado, nesse caso target_op = init_state_ref(n_qubits, p)'''\n",
    "\n",
    "from src.vqa_tools import general_vqacircuit_penny \n",
    "from src.generalize import *\n",
    "from torch import tensor\n",
    "from numpy import sin,cos,sqrt,outer,zeros, pi\n",
    "import cmath\n",
    "import pickle\n",
    "from theoric.ad_theoric import *\n",
    "\n",
    "def run_calcs(list_p, epochs):\n",
    "    coerencias_R = []\n",
    "    coerencias_L = []\n",
    "    pretrain = True\n",
    "    count = 0\n",
    "    n_qubits = 2\n",
    "    depht = 3\n",
    "    _, params, _, _ = start_things(n_qubits, depht)\n",
    "    for p in list_p:\n",
    "        print(f'{count} de {len(list_p)}')\n",
    "        count += 1\n",
    "        #_, params, _, _ = start_things(n_qubits, depht)\n",
    "        \n",
    "        circuit, _ = general_vqacircuit_penny(params, n_qubits, depht)\n",
    "\n",
    "        # defina o estado a ser preparado abaixo\n",
    "        #------------------------------------------------------------\n",
    "        #target_op = bpf(pi/2, 0, p)\n",
    "        target_op = get_target_op(calculated_rho_AB(pi/2, 0, p))\n",
    "        #------------------------------------------------------------\n",
    "    \n",
    "        qc, qr, params = optmize(epochs, n_qubits, circuit, params, target_op, pretrain, 120)\n",
    "        pretrain = False\n",
    "        rho = tomograph(qc, qr)\n",
    "        print(rho)\n",
    "        coerencias_L, coerencias_R = results(rho, coerencias_R, coerencias_L)\n",
    "    mylist = [coerencias_L, coerencias_R]\n",
    "    with open('data/ad/ad-coherences.pkl', 'wb') as f:\n",
    "        pickle.dump(mylist, f)\n",
    "    with open('data/ad/ad-best_params.pkl', 'wb') as f:\n",
    "        pickle.dump(params, f)\n",
    "    plot_theoric_ad(list_p)\n",
    "    plots(list_p, coerencias_R, coerencias_L)\n",
    "    #save = [list_p, coerencias_R, coerencias_L]\n",
    "    #with open('data/BPFlist_p-coerencias_R-coerencias_L.pkl', 'wb') as f:\n",
    "    #    pickle.dump(save, f)\n",
    "    "
   ]
  },
  {
   "cell_type": "code",
   "execution_count": null,
   "metadata": {},
   "outputs": [],
   "source": [
    "# teste\n",
    "list_p = np.linspace(0,1,4)\n",
    "run_calcs(list_p, 2)"
   ]
  },
  {
   "cell_type": "code",
   "execution_count": null,
   "metadata": {},
   "outputs": [],
   "source": [
    "list_p = np.linspace(0,1,21)\n",
    "run_calcs(list_p, 85)"
   ]
  }
 ],
 "metadata": {
  "language_info": {
   "name": "python"
  },
  "orig_nbformat": 4
 },
 "nbformat": 4,
 "nbformat_minor": 2
}
