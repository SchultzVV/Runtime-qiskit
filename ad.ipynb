{
 "cells": [
  {
   "cell_type": "code",
   "execution_count": 8,
   "metadata": {},
   "outputs": [],
   "source": [
    "'''                                  ReadMe                                                      '''\n",
    "'''# Nessa célula vamos apenas mudar a função geradora do estado a ser preparado                 '''\n",
    "'''# Basta alterar a função que gera o estado, nesse caso target_op = init_state_ref(n_qubits, p)'''\n",
    "\n",
    "from src.vqa_tools import general_vqacircuit_penny \n",
    "from src.state_initializer import  init_state_ref,init_state_bpf\n",
    "from src.generalize import *\n",
    "from torch import tensor\n",
    "import numpy as np\n",
    "import cmath\n",
    "def state_amplitude_damping(theta, phi, p):\n",
    "    state = np.zeros(4,dtype=complex)    \n",
    "    state[0] = np.cos(theta/2)\n",
    "    state[1] = np.sqrt(1-p)*cmath.exp(1j*phi)*np.sin(theta/2)\n",
    "    state[2] = np.sqrt(p)\n",
    "    target_op = np.outer(state.conj(), state)\n",
    "    target_op = tensor(target_op)\n",
    "    return target_op\n",
    "\n",
    "\n",
    "def run_calcs(list_p, epochs):\n",
    "    coerencias_R = []\n",
    "    coerencias_L = []\n",
    "    for p in list_p:\n",
    "\n",
    "        n_qubits, params, depht, n = start_things(2, 3)\n",
    "\n",
    "        circuit, _ = general_vqacircuit_penny(n_qubits, depht)\n",
    "\n",
    "        #_, target_op = init_state_ref(n_qubits, p)\n",
    "        #_, target_op = init_state_bpf(n_qubits, p)\n",
    "        target_op = state_amplitude_damping(np.pi/2, 0, p)\n",
    "\n",
    "        qc, qr, params = optmize(epochs, n_qubits, circuit, params, target_op)\n",
    "\n",
    "        rho = tomograph(qc, qr)\n",
    "        print(rho)\n",
    "        coerencias_L, coerencias_R = results(rho, coerencias_R, coerencias_L)\n",
    "\n",
    "    plots(list_p, coerencias_R, coerencias_L)\n",
    "    "
   ]
  },
  {
   "attachments": {},
   "cell_type": "markdown",
   "metadata": {},
   "source": [
    "# Results\n"
   ]
  },
  {
   "cell_type": "code",
   "execution_count": 9,
   "metadata": {},
   "outputs": [
    {
     "name": "stderr",
     "output_type": "stream",
     "text": [
      "/home/v/Desktop/Runtime-qiskit/src/generalize.py:22: UserWarning: To copy construct from a tensor, it is recommended to use sourceTensor.clone().detach() or sourceTensor.clone().detach().requires_grad_(True), rather than torch.tensor(sourceTensor).\n",
      "  parametros = tensor(best_params).detach().numpy()\n"
     ]
    },
    {
     "name": "stdout",
     "output_type": "stream",
     "text": [
      "[[ 5.60119717e-01+0.00000000e+00j  8.24368626e-03-8.87596181e-05j\n",
      "   4.93330120e-01-8.75215078e-03j -1.98881595e-02-1.05913618e-02j]\n",
      " [ 8.24368626e-03+8.87596181e-05j  8.57468596e-04+0.00000000e+00j\n",
      "   7.40259396e-03-1.46674803e-03j  4.16940769e-04+1.89920465e-05j]\n",
      " [ 4.93330120e-01+8.75215078e-03j  7.40259396e-03+1.46674803e-03j\n",
      "   4.37392427e-01+0.00000000e+00j -1.75585018e-02-8.24326315e-03j]\n",
      " [-1.98881595e-02+1.05913618e-02j  4.16940769e-04-1.89920465e-05j\n",
      "  -1.75585018e-02+8.24326315e-03j  1.63038720e-03+0.00000000e+00j]]\n",
      "[[ 0.39414334+0.j          0.29507318+0.14626768j  0.25981644+0.24816622j\n",
      "  -0.01116013-0.01348144j]\n",
      " [ 0.29507318-0.14626768j  0.27622303+0.j          0.28757203+0.08978164j\n",
      "  -0.01388187-0.00588051j]\n",
      " [ 0.25981644-0.24816622j  0.28757203-0.08978164j  0.32858723+0.j\n",
      "  -0.016305  -0.0015862j ]\n",
      " [-0.01116013+0.01348144j -0.01388187+0.00588051j -0.016305  +0.0015862j\n",
      "   0.00104641+0.j        ]]\n",
      "[[ 0.30922426+0.j          0.32406337-0.22158656j  0.10645779-0.15391652j\n",
      "  -0.10011147+0.12017106j]\n",
      " [ 0.32406337+0.22158656j  0.49840096+0.j          0.22186132-0.08501626j\n",
      "  -0.19102884+0.05419911j]\n",
      " [ 0.10645779+0.15391652j  0.22186132+0.08501626j  0.11326265+0.j\n",
      "  -0.09428095-0.00845879j]\n",
      " [-0.10011147-0.12017106j -0.19102884-0.05419911j -0.09428095+0.00845879j\n",
      "   0.07911213+0.j        ]]\n",
      "[[ 0.21178571+0.j          0.23261124-0.03746732j  0.30081992+0.01644286j\n",
      "  -0.04412801-0.13459807j]\n",
      " [ 0.23261124+0.03746732j  0.26339222+0.j          0.32794257+0.07087218j\n",
      "  -0.02472901-0.15438462j]\n",
      " [ 0.30081992-0.01644286j  0.32794257-0.07087218j  0.42884844+0.j\n",
      "  -0.07355396-0.18733736j]\n",
      " [-0.04412801+0.13459807j -0.02472901+0.15438462j -0.07355396+0.18733736j\n",
      "   0.09597363+0.j        ]]\n",
      "[[ 0.22530835+0.j          0.29688976-0.05443065j  0.08716936-0.0193464j\n",
      "  -0.17870333-0.20008401j]\n",
      " [ 0.29688976+0.05443065j  0.41081032+0.j          0.1242126 -0.00689947j\n",
      "  -0.18961163-0.31176916j]\n",
      " [ 0.08716936+0.0193464j   0.1242126 +0.00689947j  0.0397188 +0.j\n",
      "  -0.05185817-0.09728577j]\n",
      " [-0.17870333+0.20008401j -0.18961163+0.31176916j -0.05185817+0.09728577j\n",
      "   0.32416252+0.j        ]]\n"
     ]
    },
    {
     "data": {
      "image/png": "[encoded data removed]",
      "text/plain": [
       "<Figure size 640x480 with 1 Axes>"
      ]
     },
     "metadata": {},
     "output_type": "display_data"
    }
   ],
   "source": [
    "#list_p = [0,0.25,0.5,0.75,1]\n",
    "list_p = np.linspace(0,1,3)\n",
    "print(list_p)\n",
    "run_calcs(list_p, 5)"
   ]
  },
  {
   "cell_type": "code",
   "execution_count": 10,
   "metadata": {},
   "outputs": [
    {
     "name": "stdout",
     "output_type": "stream",
     "text": [
      "[0.  0.5 1. ]\n"
     ]
    }
   ],
   "source": [
    "list_p = np.linspace(0,1,3)\n",
    "print(list_p)"
   ]
  },
  {
   "cell_type": "code",
   "execution_count": null,
   "metadata": {},
   "outputs": [],
   "source": []
  }
 ],
 "metadata": {
  "kernelspec": {
   "display_name": "env",
   "language": "python",
   "name": "python3"
  },
  "language_info": {
   "codemirror_mode": {
    "name": "ipython",
    "version": 3
   },
   "file_extension": ".py",
   "mimetype": "text/x-python",
   "name": "python",
   "nbconvert_exporter": "python",
   "pygments_lexer": "ipython3",
   "version": "3.10.6"
  },
  "orig_nbformat": 4,
  "vscode": {
   "interpreter": {
    "hash": "f309f41cc1031c3222a5eb4c6b99ec5d3d1a742e018bf44f3accb1cd68cc28ab"
   }
  }
 },
 "nbformat": 4,
 "nbformat_minor": 2
}
