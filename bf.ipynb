{
 "cells": [
  {
   "attachments": {},
   "cell_type": "markdown",
   "metadata": {},
   "source": [
    "# Preparação do estado de bit-flip"
   ]
  },
  {
   "cell_type": "code",
   "execution_count": 21,
   "metadata": {},
   "outputs": [
    {
     "data": {
      "text/plain": [
       "array([[0.70710677+0.j, 0.        +0.j, 0.70710677+0.j, 0.        +0.j]],\n",
       "      dtype=complex64)"
      ]
     },
     "execution_count": 21,
     "metadata": {},
     "output_type": "execute_result"
    }
   ],
   "source": [
    "from sympy import cos, sin, sqrt, pi, Matrix, Symbol, exp, print_latex, simplify\n",
    "#from sympy.physics.quantum import TensorProduct, Dagger\n",
    "import numpy as np\n",
    "from numpy import linspace\n",
    "#import matplotlib.pyplot as plt\n",
    "#import math\n",
    "from theoric.tools import *\n",
    "#import torch\n",
    "from torch import tensor\n",
    "\n",
    "theta = Symbol('theta',real=True)\n",
    "phi = Symbol('phi',real=True)\n",
    "gamma = Symbol('gamma',real=True, positive=True)\n",
    "p = Symbol('p',real=True, positive=True)\n",
    "\n",
    "\n",
    "\n",
    "def calculated_rho_AB(theta, phi, p):\n",
    "    state = Matrix([[(sqrt(1-p)*cos(theta/2)),\n",
    "                    (sqrt(p)*exp(1j*phi)*sin(theta/2)),\n",
    "                    (sqrt(1-p)*exp(1j*phi)*sin(theta/2)),\n",
    "                    sqrt(p)*cos(theta/2)]])\n",
    "    M_numpy = np.array(state.tolist(), dtype=np.complex64)\n",
    "    return M_numpy\n",
    "    #return state\n",
    "\n",
    "def get_target_op(func_estado):\n",
    "    state1 = simplify(func_estado)\n",
    "    state2 = np.zeros(4,dtype=complex)\n",
    "    aux = 0\n",
    "    for i in state1[0]:\n",
    "        state2[aux] = i\n",
    "        aux += 1\n",
    "    target_op = np.outer(state2.conj(), state2)\n",
    "    target_op = tensor(target_op)\n",
    "    return target_op\n",
    "\n",
    "#state = calculated_rho_AB(theta, phi, p)\n",
    "state = calculated_rho_AB(pi/2, 0, 0)\n",
    "state"
   ]
  },
  {
   "cell_type": "code",
   "execution_count": 22,
   "metadata": {},
   "outputs": [
    {
     "data": {
      "text/plain": [
       "tensor([[0.0000+0.j, 0.0000+0.j, 0.0000+0.j, 0.0000+0.j],\n",
       "        [0.0000+0.j, 0.5000+0.j, 0.0000+0.j, 0.5000+0.j],\n",
       "        [0.0000+0.j, 0.0000+0.j, 0.0000+0.j, 0.0000+0.j],\n",
       "        [0.0000+0.j, 0.5000+0.j, 0.0000+0.j, 0.5000+0.j]],\n",
       "       dtype=torch.complex128)"
      ]
     },
     "execution_count": 22,
     "metadata": {},
     "output_type": "execute_result"
    }
   ],
   "source": [
    "a = get_target_op(calculated_rho_AB(pi/2, 0, 1))\n",
    "a\n"
   ]
  },
  {
   "cell_type": "code",
   "execution_count": 23,
   "metadata": {},
   "outputs": [],
   "source": [
    "'''                                  ReadMe                                                      '''\n",
    "'''# Nessa célula vamos apenas mudar a função geradora do estado a ser preparado                 '''\n",
    "'''# Basta alterar a função que gera o estado, nesse caso target_op = init_state_ref(n_qubits, p)'''\n",
    "\n",
    "from src.vqa_tools import general_vqacircuit_penny \n",
    "from src.generalize import *\n",
    "from torch import tensor\n",
    "from numpy import sin,cos,sqrt,outer,zeros, pi\n",
    "import cmath\n",
    "import pickle\n",
    "from theoric.bf_theoric import *\n",
    "\n",
    "def run_calcs(list_p, epochs):\n",
    "    coerencias_R = []\n",
    "    coerencias_L = []\n",
    "    pretrain = True\n",
    "    count = 0\n",
    "    n_qubits = 2\n",
    "    depht = 3\n",
    "    _, params, _, _ = start_things(n_qubits, depht)\n",
    "    for p in list_p:\n",
    "        print(f'{count} de {len(list_p)}')\n",
    "        count += 1\n",
    "        circuit, _ = general_vqacircuit_penny(params, n_qubits, depht)\n",
    "\n",
    "        # defina o estado a ser preparado abaixo\n",
    "        #------------------------------------------------------------\n",
    "        #target_op = bpf(pi/2, 0, p)\n",
    "        target_op = get_target_op(calculated_rho_AB(pi/2, 0, p))\n",
    "        #------------------------------------------------------------\n",
    "    \n",
    "        qc, qr, params = optmize(epochs, n_qubits, circuit, params, target_op, pretrain, 1)#120)\n",
    "        pretrain = False\n",
    "        rho = tomograph(qc, qr)\n",
    "        print(rho)\n",
    "        coerencias_L, coerencias_R = results(rho, coerencias_R, coerencias_L)\n",
    "    mylist = [coerencias_L, coerencias_R]\n",
    "    with open('data/bf/bf-coherences.pkl', 'wb') as f:\n",
    "        pickle.dump(mylist, f)\n",
    "    with open('data/bf/bf-best_params.pkl', 'wb') as f:\n",
    "        pickle.dump(params, f)\n",
    "    plot_theoric_bf(list_p)\n",
    "    plots(list_p, coerencias_R, coerencias_L)\n",
    "    #save = [list_p, coerencias_R, coerencias_L]\n",
    "    #with open('data/BPFlist_p-coerencias_R-coerencias_L.pkl', 'wb') as f:\n",
    "    #    pickle.dump(save, f)\n",
    "    "
   ]
  },
  {
   "cell_type": "code",
   "execution_count": 24,
   "metadata": {},
   "outputs": [
    {
     "name": "stdout",
     "output_type": "stream",
     "text": [
      "0 de 4\n",
      "[[ 0.61436944+0.j          0.3943424 +0.12535311j -0.19794152+0.06797977j\n",
      "   0.02577217-0.13157427j]\n",
      " [ 0.3943424 -0.12535311j  0.28161614+0.j         -0.11455294+0.08153807j\n",
      "  -0.01133529-0.0907154j ]\n",
      " [-0.19794152-0.06797977j -0.11455294-0.08153807j  0.07404661+0.j\n",
      "  -0.02152609+0.03913473j]\n",
      " [ 0.02577217+0.13157427j -0.01133529+0.0907154j  -0.02152609-0.03913473j\n",
      "   0.02996782+0.j        ]]\n",
      "1 de 4\n",
      "[[0.40680426+0.j         0.4206911 +0.14078171j 0.08647202+0.10653333j\n",
      "  0.15007081-0.02229746j]\n",
      " [0.4206911 -0.14078171j 0.48955646+0.j         0.12611173+0.08156364j\n",
      "  0.1458735 -0.07537495j]\n",
      " [0.08647202-0.10653333j 0.12611173-0.08156364j 0.04658591+0.j\n",
      "  0.02602329-0.04366247j]\n",
      " [0.15007081+0.02229746j 0.1458735 +0.07537495j 0.02602329+0.04366247j\n",
      "  0.05705336+0.j        ]]\n",
      "2 de 4\n",
      "[[0.21276642+0.j         0.24641429+0.11321632j 0.21342483+0.04917959j\n",
      "  0.20824706-0.03832165j]\n",
      " [0.24641429-0.11321632j 0.34669607+0.j         0.27496343-0.0562577j\n",
      "  0.22087834-0.15657543j]\n",
      " [0.21342483-0.04917959j 0.27496343+0.0562577j  0.2280169 +0.j\n",
      "  0.19971431-0.0886965j ]\n",
      " [0.20824706+0.03832165j 0.22087834+0.15657543j 0.19971431+0.0886965j\n",
      "  0.21252061+0.j        ]]\n",
      "3 de 4\n",
      "[[0.0319547 +0.j         0.03855194+0.05416337j 0.10548279-0.00462762j\n",
      "  0.11051231+0.04269901j]\n",
      " [0.03855194-0.05416337j 0.14072304+0.j         0.12424001-0.18937779j\n",
      "  0.21047247-0.14062533j]\n",
      " [0.10548279+0.00462762j 0.12424001+0.18937779j 0.3689459 +0.j\n",
      "  0.37821134+0.15720224j]\n",
      " [0.11051231-0.04269901j 0.21047247+0.14062533j 0.37821134-0.15720224j\n",
      "  0.45837636+0.j        ]]\n"
     ]
    },
    {
     "data": {
      "image/png": "[encoded data removed]",
      "text/plain": [
       "<Figure size 640x480 with 1 Axes>"
      ]
     },
     "metadata": {},
     "output_type": "display_data"
    }
   ],
   "source": [
    "list_p = np.linspace(0,1,4)#21)\n",
    "run_calcs(list_p, 2)"
   ]
  },
  {
   "cell_type": "code",
   "execution_count": 1,
   "metadata": {},
   "outputs": [
    {
     "name": "stdout",
     "output_type": "stream",
     "text": [
      "Matrix([[p*sin(theta/2)**2 + (1 - p)*cos(theta/2)**2, (2.0*I*p*sin(phi) + exp(-1.0*I*phi))*sin(theta/2)*cos(theta/2)], [(-2.0*I*p*sin(phi) + exp(1.0*I*phi))*sin(theta/2)*cos(theta/2), p*cos(theta/2)**2 + (1 - p)*sin(theta/2)**2]])\n"
     ]
    },
    {
     "data": {
      "text/latex": [
       "$\\displaystyle \\left[\\begin{matrix}p \\sin^{2}{\\left(\\frac{\\theta}{2} \\right)} + \\left(1 - p\\right) \\cos^{2}{\\left(\\frac{\\theta}{2} \\right)} & \\left(2.0 i p \\sin{\\left(\\phi \\right)} + e^{- 1.0 i \\phi}\\right) \\sin{\\left(\\frac{\\theta}{2} \\right)} \\cos{\\left(\\frac{\\theta}{2} \\right)}\\\\\\left(- 2.0 i p \\sin{\\left(\\phi \\right)} + e^{1.0 i \\phi}\\right) \\sin{\\left(\\frac{\\theta}{2} \\right)} \\cos{\\left(\\frac{\\theta}{2} \\right)} & p \\cos^{2}{\\left(\\frac{\\theta}{2} \\right)} + \\left(1 - p\\right) \\sin^{2}{\\left(\\frac{\\theta}{2} \\right)}\\end{matrix}\\right]$"
      ],
      "text/plain": [
       "Matrix([\n",
       "[                   p*sin(theta/2)**2 + (1 - p)*cos(theta/2)**2, (2.0*I*p*sin(phi) + exp(-1.0*I*phi))*sin(theta/2)*cos(theta/2)],\n",
       "[(-2.0*I*p*sin(phi) + exp(1.0*I*phi))*sin(theta/2)*cos(theta/2),                    p*cos(theta/2)**2 + (1 - p)*sin(theta/2)**2]])"
      ]
     },
     "execution_count": 1,
     "metadata": {},
     "output_type": "execute_result"
    }
   ],
   "source": [
    "from theoric.bf_theoric import *\n",
    "\n",
    "a = theoric_rho_A_bf(theta,phi,p)\n",
    "a\n",
    "#plt.show()"
   ]
  },
  {
   "cell_type": "code",
   "execution_count": 13,
   "metadata": {},
   "outputs": [
    {
     "name": "stdout",
     "output_type": "stream",
     "text": [
      "(2, 21)\n",
      "[0.9942813046768506, 0.8919415317249151, 0.790960534572855, 0.6829335001116109, 0.6355435641402459, 0.47931582051195676, 0.41257091761957876, 0.3209937954490334, 0.21876622362901926, 0.07182892337515089, 0.06682305541384989, 0.18280155112573948, 0.18147270050394324, 0.3075818315768039, 0.4502199008874097, 0.4412880453769122, 0.587198898460232, 0.666250448915245, 0.7492812496840455, 0.9135161950802383, 0.9981958109625721]\n"
     ]
    },
    {
     "data": {
      "text/plain": [
       "<function matplotlib.pyplot.show(close=None, block=None)>"
      ]
     },
     "execution_count": 13,
     "metadata": {},
     "output_type": "execute_result"
    },
    {
     "data": {
      "image/png": "[encoded data removed]",
      "text/plain": [
       "<Figure size 640x480 with 1 Axes>"
      ]
     },
     "metadata": {},
     "output_type": "display_data"
    }
   ],
   "source": [
    "import pickle\n",
    "with open('data/bf/bf-coherences.pkl', 'rb') as f:\n",
    "    cohs = pickle.load(f)\n",
    "print(np.shape(cohs))\n",
    "print(cohs[0])\n",
    "x = np.linspace(0,1,len(cohs[0]))\n",
    "plt.scatter(x,cohs[0])\n",
    "plt.show"
   ]
  },
  {
   "cell_type": "code",
   "execution_count": 7,
   "metadata": {},
   "outputs": [
    {
     "name": "stdout",
     "output_type": "stream",
     "text": [
      "torch.Size([24])\n",
      "tensor(-2.3212, dtype=torch.float64, grad_fn=<SelectBackward0>)\n"
     ]
    }
   ],
   "source": [
    "import pickle\n",
    "with open('data/bf/bf-best_params.pkl', 'rb') as f:\n",
    "    params = pickle.load(f)\n",
    "print(np.shape(params))\n",
    "print(cohs[0])"
   ]
  },
  {
   "cell_type": "code",
   "execution_count": 12,
   "metadata": {},
   "outputs": [
    {
     "name": "stdout",
     "output_type": "stream",
     "text": [
      "0 de 21\n",
      "[[ 0.41377111+0.j          0.41665125-0.1196129j  -0.06496887-0.18635655j\n",
      "   0.08264048-0.08688905j]\n",
      " [ 0.41665125+0.1196129j   0.45463556+0.j         -0.01214002-0.20708669j\n",
      "   0.1087507 -0.06425511j]\n",
      " [-0.06496887+0.18635655j -0.01214002+0.20708669j  0.09566163+0.j\n",
      "   0.02650879+0.05215934j]\n",
      " [ 0.08264048+0.08688905j  0.1087507 +0.06425511j  0.02650879-0.05215934j\n",
      "   0.0359317 +0.j        ]]\n",
      "1 de 21\n",
      "[[ 0.51861851+0.j          0.47449555+0.03059113j  0.07030246+0.07856922j\n",
      "  -0.09359288-0.01748334j]\n",
      " [ 0.47449555-0.03059113j  0.43932605+0.j          0.06842165+0.07075668j\n",
      "  -0.08769581-0.01002619j]\n",
      " [ 0.07030246-0.07856922j  0.06842165-0.07075668j  0.02420123+0.j\n",
      "  -0.01477387+0.01265812j]\n",
      " [-0.09359288+0.01748334j -0.08769581+0.01002619j -0.01477387-0.01265812j\n",
      "   0.01785421+0.j        ]]\n",
      "2 de 21\n",
      "[[ 0.61333791+0.j          0.42722443+0.01930061j  0.16000353-0.04332652j\n",
      "  -0.14312   +0.05365j   ]\n",
      " [ 0.42722443-0.01930061j  0.30146944+0.j          0.10988326-0.03320023j\n",
      "  -0.09672014+0.04321472j]\n",
      " [ 0.16000353+0.04332652j  0.10988326+0.03320023j  0.04605235+0.j\n",
      "  -0.04038198+0.00301335j]\n",
      " [-0.14312   -0.05365j    -0.09672014-0.04321472j -0.04038198-0.00301335j\n",
      "   0.0391403 +0.j        ]]\n",
      "3 de 21\n",
      "[[ 0.46580689+0.j          0.40596529-0.07295095j  0.16955066-0.09055086j\n",
      "  -0.19742764-0.00119085j]\n",
      " [ 0.40596529+0.07295095j  0.36748958+0.j          0.16198387-0.05310925j\n",
      "  -0.17380011-0.03398125j]\n",
      " [ 0.16955066+0.09055086j  0.16198387+0.05310925j  0.07956488+0.j\n",
      "  -0.07099051-0.03947851j]\n",
      " [-0.19742764+0.00119085j -0.17380011+0.03398125j -0.07099051+0.03947851j\n",
      "   0.08713865+0.j        ]]\n",
      "4 de 21\n",
      "[[ 0.26644181+0.j          0.32828918+0.03235423j  0.21966253+0.11651661j\n",
      "  -0.15230549+0.00585131j]\n",
      " [ 0.32828918-0.03235423j  0.41141764+0.j          0.28697163+0.11860085j\n",
      "  -0.18619206+0.02501776j]\n",
      " [ 0.21966253-0.11651661j  0.28697163-0.11860085j  0.23460175+0.j\n",
      "  -0.12285013+0.07049837j]\n",
      " [-0.15230549-0.00585131j -0.18619206-0.02501776j -0.12285013-0.07049837j\n",
      "   0.08753879+0.j        ]]\n",
      "5 de 21\n",
      "[[ 0.2889927 +0.j          0.3377659 -0.00199272j  0.22787722+0.023706j\n",
      "  -0.19430402+0.00150532j]\n",
      " [ 0.3377659 +0.00199272j  0.39765407+0.j          0.26668449+0.02774105j\n",
      "  -0.22644111+0.00029743j]\n",
      " [ 0.22787722-0.023706j    0.26668449-0.02774105j  0.18254551+0.j\n",
      "  -0.15290537+0.01746057j]\n",
      " [-0.19430402-0.00150532j -0.22644111-0.00029743j -0.15290537-0.01746057j\n",
      "   0.13080772+0.j        ]]\n",
      "6 de 21\n",
      "[[ 0.3058989 +0.j          0.37063513-0.0412148j   0.19615178+0.09388158j\n",
      "  -0.12913285+0.09159846j]\n",
      " [ 0.37063513+0.0412148j   0.4556892 +0.j          0.22525659+0.14016354j\n",
      "  -0.17011853+0.09404283j]\n",
      " [ 0.19615178-0.09388158j  0.22525659-0.14016354j  0.15464678+0.j\n",
      "  -0.05499837+0.09845431j]\n",
      " [-0.12913285-0.09159846j -0.17011853-0.09404283j -0.05499837-0.09845431j\n",
      "   0.08376511+0.j        ]]\n",
      "7 de 21\n",
      "[[ 0.36203341+0.j          0.34778224+0.04503477j  0.21981491+0.01499107j\n",
      "  -0.23927828+0.01593187j]\n",
      " [ 0.34778224-0.04503477j  0.34231093+0.j          0.21279522-0.01043268j\n",
      "  -0.22873577+0.04525973j]\n",
      " [ 0.21981491-0.01499107j  0.21279522+0.01043268j  0.1365133 +0.j\n",
      "  -0.14436384+0.02038779j]\n",
      " [-0.23927828-0.01593187j -0.22873577-0.04525973j -0.14436384-0.02038779j\n",
      "   0.15914236+0.j        ]]\n",
      "8 de 21\n",
      "[[ 0.26542891+0.j          0.2663114 -0.10781491j  0.2677858 -0.02971484j\n",
      "  -0.18435039+0.07049166j]\n",
      " [ 0.2663114 +0.10781491j  0.31253944+0.j          0.28138575+0.08026947j\n",
      "  -0.21378318-0.00338189j]\n",
      " [ 0.2677858 +0.02971484j  0.28138575-0.08026947j  0.27486359+0.j\n",
      "  -0.19330142+0.05095702j]\n",
      " [-0.18435039-0.07049166j -0.21378318+0.00338189j -0.19330142-0.05095702j\n",
      "   0.14716806+0.j        ]]\n",
      "9 de 21\n",
      "[[ 0.20662798+0.j          0.29570148+0.05102422j  0.21848226+0.07382949j\n",
      "  -0.13741055+0.01869616j]\n",
      " [ 0.29570148-0.05102422j  0.44054525+0.j          0.33308873+0.05006427j\n",
      "  -0.19138551+0.06251787j]\n",
      " [ 0.21848226-0.07382949j  0.33308873-0.05006427j  0.25896644+0.j\n",
      "  -0.13894716+0.06992802j]\n",
      " [-0.13741055-0.01869616j -0.19138551-0.06251787j -0.13894716-0.06992802j\n",
      "   0.09386032+0.j        ]]\n",
      "10 de 21\n",
      "[[ 0.27735436+0.j          0.26395394+0.03869955j  0.25842005-0.03274973j\n",
      "  -0.24446656-0.00342319j]\n",
      " [ 0.26395394-0.03869955j  0.25828465+0.j          0.24314583-0.06590506j\n",
      "  -0.23329554+0.02939584j]\n",
      " [ 0.25842005+0.03274973j  0.24314583+0.06590506j  0.24756379+0.j\n",
      "  -0.22868753-0.0334693j ]\n",
      " [-0.24446656+0.00342319j -0.23329554-0.02939584j -0.22868753+0.0334693j\n",
      "   0.2167972 +0.j        ]]\n",
      "11 de 21\n",
      "[[ 0.2561816 +0.j          0.2300843 +0.07389416j  0.19910882+0.01247752j\n",
      "  -0.27107065-0.13565074j]\n",
      " [ 0.2300843 -0.07389416j  0.22816956+0.j          0.18266753-0.04598742j\n",
      "  -0.28256412-0.0441197j ]\n",
      " [ 0.19910882-0.01247752j  0.18266753+0.04598742j  0.15591018+0.j\n",
      "  -0.2178054 -0.09280249j]\n",
      " [-0.27107065+0.13565074j -0.28256412+0.0441197j  -0.2178054 +0.09280249j\n",
      "   0.35973867+0.j        ]]\n",
      "12 de 21\n",
      "[[ 0.1735799 +0.j          0.20335933-0.03055921j  0.19742987+0.00151783j\n",
      "  -0.24381154+0.02175664j]\n",
      " [ 0.20335933+0.03055921j  0.24711535+0.j          0.23422011+0.03701685j\n",
      "  -0.29304171-0.02062218j]\n",
      " [ 0.19742987-0.00151783j  0.23422011-0.03701685j  0.22754741+0.j\n",
      "  -0.28082331+0.02445773j]\n",
      " [-0.24381154-0.02175664j -0.29304171+0.02062218j -0.28082331-0.02445773j\n",
      "   0.35175734+0.j        ]]\n",
      "13 de 21\n",
      "[[ 0.25826144+0.j          0.20363086-0.06809744j  0.291723  -0.04632451j\n",
      "  -0.22069918+0.0964005j ]\n",
      " [ 0.20363086+0.06809744j  0.17874989+0.j          0.24224217+0.04004179j\n",
      "  -0.19932764+0.0178469j ]\n",
      " [ 0.291723  +0.04632451j  0.24224217-0.04004179j  0.33835486+0.j\n",
      "  -0.26662614+0.06946157j]\n",
      " [-0.22069918-0.0964005j  -0.19932764-0.0178469j  -0.26662614-0.06946157j\n",
      "   0.22463382+0.j        ]]\n",
      "14 de 21\n",
      "[[ 0.16030253+0.j          0.14457322+0.03171079j  0.23588126-0.00761247j\n",
      "  -0.23339259-0.02642097j]\n",
      " [ 0.14457322-0.03171079j  0.13746138+0.j          0.21275239-0.05361205j\n",
      "  -0.21786459+0.02237909j]\n",
      " [ 0.23588126+0.00761247j  0.21275239+0.05361205j  0.35074851+0.j\n",
      "  -0.34695818-0.04975849j]\n",
      " [-0.23339259+0.02642097j -0.21786459-0.02237909j -0.34695818+0.04975849j\n",
      "   0.35148759+0.j        ]]\n",
      "15 de 21\n",
      "[[ 0.04819145+0.j          0.02002449-0.06521005j  0.11805454-0.09967887j\n",
      "  -0.07751879+0.10230553j]\n",
      " [ 0.02002449+0.06521005j  0.09747288+0.j          0.18439321+0.12110475j\n",
      "  -0.17192937-0.06483969j]\n",
      " [ 0.11805454+0.09967887j  0.18439321-0.12110475j  0.50405273+0.j\n",
      "  -0.40961833+0.0929504j ]\n",
      " [-0.07751879-0.10230553j -0.17192937+0.06483969j -0.40961833-0.0929504j\n",
      "   0.35028294+0.j        ]]\n",
      "16 de 21\n",
      "[[ 0.05214586+0.j          0.06221239+0.02719814j  0.14076034+0.05537038j\n",
      "  -0.13821946-0.04770102j]\n",
      " [ 0.06221239-0.02719814j  0.09030359+0.j          0.19717757-0.00547521j\n",
      "  -0.19207876+0.01240664j]\n",
      " [ 0.14076034-0.05537038j  0.19717757+0.00547521j  0.44069731+0.j\n",
      "  -0.42695353+0.01975279j]\n",
      " [-0.13821946+0.04770102j -0.19207876-0.01240664j -0.42695353-0.01975279j\n",
      "   0.41685325+0.j        ]]\n",
      "17 de 21\n",
      "[[ 0.16478651+0.j          0.03713024+0.01649548j  0.18168849-0.02775225j\n",
      "  -0.31278845-0.05078587j]\n",
      " [ 0.03713024-0.01649548j  0.01087898+0.j          0.03693863-0.02526604j\n",
      "  -0.07407165+0.02191445j]\n",
      " [ 0.18168849+0.02775225j  0.03693863+0.02526604j  0.20752218+0.j\n",
      "  -0.3403936 -0.11014791j]\n",
      " [-0.31278845+0.05078587j -0.07407165-0.02191445j -0.3403936 +0.11014791j\n",
      "   0.61681233+0.j        ]]\n",
      "18 de 21\n",
      "[[ 0.08858303+0.j          0.02224754-0.02663073j  0.1660857 -0.08001507j\n",
      "  -0.20969258+0.03564439j]\n",
      " [ 0.02224754+0.02663073j  0.01433713+0.j          0.06495304+0.03033685j\n",
      "  -0.06234317-0.05416237j]\n",
      " [ 0.1660857 +0.08001507j  0.06495304-0.03033685j  0.38490296+0.j\n",
      "  -0.42653794-0.1231989j ]\n",
      " [-0.20969258-0.03564439j -0.06234317+0.05416237j -0.42653794+0.1231989j\n",
      "   0.51217688+0.j        ]]\n",
      "19 de 21\n",
      "[[ 0.00625679+0.j          0.00847962-0.00479623j  0.04743927-0.02214458j\n",
      "  -0.04773358+0.02505901j]\n",
      " [ 0.00847962+0.00479623j  0.01835582+0.j          0.09080914+0.00737502j\n",
      "  -0.09572595-0.00230235j]\n",
      " [ 0.04743927+0.02214458j  0.09080914-0.00737502j  0.46695305+0.j\n",
      "  -0.48590442+0.02582459j]\n",
      " [-0.04773358-0.02505901j -0.09572595+0.00230235j -0.48590442-0.02582459j\n",
      "   0.50843434+0.j        ]]\n",
      "20 de 21\n",
      "[[ 0.00513261+0.j         -0.00441602+0.0018447j   0.03784122-0.02094664j\n",
      "  -0.04973029+0.02719451j]\n",
      " [-0.00441602-0.0018447j   0.00446247+0.j         -0.04008637+0.00442173j\n",
      "   0.05256107-0.00552428j]\n",
      " [ 0.03784122+0.02094664j -0.04008637-0.00442173j  0.36447724+0.j\n",
      "  -0.47762994-0.00245667j]\n",
      " [-0.04973029-0.02719451j  0.05256107+0.00552428j -0.47762994+0.00245667j\n",
      "   0.62592768+0.j        ]]\n"
     ]
    },
    {
     "data": {
      "image/png": "[encoded data removed]",
      "text/plain": [
       "<Figure size 640x480 with 1 Axes>"
      ]
     },
     "metadata": {},
     "output_type": "display_data"
    }
   ],
   "source": [
    "import pickle\n",
    "from src.vqa_tools import general_vqacircuit_penny \n",
    "from src.generalize import *\n",
    "\n",
    "list_p = np.linspace(0,1,21)\n",
    "epochs = 10\n",
    "coerencias_R = []\n",
    "coerencias_L = []\n",
    "pretrain = True\n",
    "count = 0\n",
    "n_qubits = 2\n",
    "depht = 3\n",
    "\n",
    "#------------------------------------------------------------\n",
    "#_, params, _, _ = start_things(n_qubits, depht)# random start\n",
    "with open('data/bf/bf-best_params.pkl', 'rb') as f:# start the last otimized params\n",
    "    params = pickle.load(f)\n",
    "#------------------------------------------------------------\n",
    "\n",
    "for p in list_p:\n",
    "    print(f'{count} de {len(list_p)}')\n",
    "    count += 1\n",
    "    circuit, _ = general_vqacircuit_penny(params, n_qubits, depht)\n",
    "    # defina o estado a ser preparado abaixo\n",
    "    #------------------------------------------------------------\n",
    "    #target_op = bpf(pi/2, 0, p)\n",
    "    target_op = get_target_op(calculated_rho_AB(pi/2, 0, p))\n",
    "    #------------------------------------------------------------\n",
    "\n",
    "    pretrain = False\n",
    "    qc, qr, params = optmize(epochs, n_qubits, circuit, params, target_op, pretrain, 120)\n",
    "    rho = tomograph(qc, qr)\n",
    "    print(rho)\n",
    "    coerencias_L, coerencias_R = results(rho, coerencias_R, coerencias_L)\n",
    "mylist = [coerencias_L, coerencias_R]\n",
    "with open('data/bf/bf-coherences-postrain.pkl', 'wb') as f:\n",
    "    pickle.dump(mylist, f)\n",
    "with open('data/bf/bf-best_params-postrain.pkl', 'wb') as f:\n",
    "    pickle.dump(params, f)\n",
    "plot_theoric_bf(list_p)\n",
    "plots(list_p, coerencias_R, coerencias_L)"
   ]
  },
  {
   "cell_type": "code",
   "execution_count": null,
   "metadata": {},
   "outputs": [],
   "source": [
    "list_p = np.linspace(0,1,21)\n",
    "run_calcs(list_p, 10)"
   ]
  }
 ],
 "metadata": {
  "kernelspec": {
   "display_name": "env",
   "language": "python",
   "name": "python3"
  },
  "language_info": {
   "codemirror_mode": {
    "name": "ipython",
    "version": 3
   },
   "file_extension": ".py",
   "mimetype": "text/x-python",
   "name": "python",
   "nbconvert_exporter": "python",
   "pygments_lexer": "ipython3",
   "version": "3.10.6"
  },
  "orig_nbformat": 4
 },
 "nbformat": 4,
 "nbformat_minor": 2
}
