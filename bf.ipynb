{
 "cells": [
  {
   "attachments": {},
   "cell_type": "markdown",
   "metadata": {},
   "source": [
    "# Preparação do estado de bit-flip"
   ]
  },
  {
   "cell_type": "code",
   "execution_count": 1,
   "metadata": {},
   "outputs": [
    {
     "data": {
      "text/plain": [
       "array([[ 0.5+0.j,  0.5+0.j,  0.5+0.j, -0.5+0.j]], dtype=complex64)"
      ]
     },
     "execution_count": 1,
     "metadata": {},
     "output_type": "execute_result"
    }
   ],
   "source": [
    "from sympy import cos, sin, sqrt, pi, Matrix, Symbol, exp, print_latex, simplify\n",
    "#from sympy.physics.quantum import TensorProduct, Dagger\n",
    "import numpy as np\n",
    "from numpy import linspace\n",
    "#import matplotlib.pyplot as plt\n",
    "#import math\n",
    "from theoric.tools import *\n",
    "#import torch\n",
    "from torch import tensor\n",
    "\n",
    "theta = Symbol('theta',real=True)\n",
    "phi = Symbol('phi',real=True)\n",
    "gamma = Symbol('gamma',real=True, positive=True)\n",
    "p = Symbol('p',real=True, positive=True)\n",
    "\n",
    "\n",
    "\n",
    "def calculated_rho_AB(theta, phi, p):\n",
    "    state = Matrix([[(sqrt(1-p)*cos(theta/2)),\n",
    "                    (sqrt(p)*cos(theta/2)),\n",
    "                    (sqrt(1-p)*exp(1j*phi)*sin(theta/2)),\n",
    "                    -sqrt(p)*exp(1j*phi)*sin(theta/2)]])\n",
    "    M_numpy = np.array(state.tolist(), dtype=np.complex64)\n",
    "    return M_numpy\n",
    "    return state\n",
    "\n",
    "def get_target_op(func_estado):\n",
    "    state1 = simplify(func_estado)\n",
    "    state2 = np.zeros(4,dtype=complex)\n",
    "    aux = 0\n",
    "    for i in state1[0]:\n",
    "        state2[aux] = i\n",
    "        aux += 1\n",
    "    target_op = np.outer(state2.conj(), state2)\n",
    "    target_op = tensor(target_op)\n",
    "    return target_op\n",
    "\n",
    "#state = calculated_rho_AB(theta, phi, p)\n",
    "state = calculated_rho_AB(pi/2, 0, 0.5)\n",
    "state"
   ]
  },
  {
   "cell_type": "code",
   "execution_count": 2,
   "metadata": {},
   "outputs": [
    {
     "data": {
      "text/plain": [
       "tensor([[ 0.0000+0.j,  0.0000+0.j,  0.0000+0.j,  0.0000+0.j],\n",
       "        [ 0.0000+0.j,  0.5000+0.j,  0.0000+0.j, -0.5000+0.j],\n",
       "        [ 0.0000+0.j,  0.0000+0.j,  0.0000+0.j,  0.0000+0.j],\n",
       "        [ 0.0000-0.j, -0.5000-0.j,  0.0000-0.j,  0.5000+0.j]],\n",
       "       dtype=torch.complex128)"
      ]
     },
     "execution_count": 2,
     "metadata": {},
     "output_type": "execute_result"
    }
   ],
   "source": [
    "a = get_target_op(calculated_rho_AB(pi/2, 0, 1))\n",
    "a\n"
   ]
  },
  {
   "cell_type": "code",
   "execution_count": 7,
   "metadata": {},
   "outputs": [],
   "source": [
    "'''                                  ReadMe                                                      '''\n",
    "'''# Nessa célula vamos apenas mudar a função geradora do estado a ser preparado                 '''\n",
    "'''# Basta alterar a função que gera o estado, nesse caso target_op = init_state_ref(n_qubits, p)'''\n",
    "\n",
    "from src.vqa_tools import general_vqacircuit_penny \n",
    "from src.generalize import *\n",
    "from torch import tensor\n",
    "from numpy import sin,cos,sqrt,outer,zeros, pi\n",
    "import cmath\n",
    "import pickle\n",
    "from theoric.bf_theoric import *\n",
    "\n",
    "def run_calcs(list_p, epochs):\n",
    "    coerencias_R = []\n",
    "    coerencias_L = []\n",
    "    pretrain = True\n",
    "    count = 0\n",
    "    n_qubits = 2\n",
    "    depht = 3\n",
    "    _, params, _, _ = start_things(n_qubits, depht)\n",
    "    for p in list_p:\n",
    "        print(f'{count} de {len(list_p)}')\n",
    "        count += 1\n",
    "        circuit, _ = general_vqacircuit_penny(params, n_qubits, depht)\n",
    "\n",
    "        # defina o estado a ser preparado abaixo\n",
    "        #------------------------------------------------------------\n",
    "        #target_op = bpf(pi/2, 0, p)\n",
    "        target_op = get_target_op(calculated_rho_AB(pi/2, 0, p))\n",
    "        #------------------------------------------------------------\n",
    "    \n",
    "        qc, qr, params = optmize(epochs, n_qubits, circuit, params, target_op, pretrain, 120)\n",
    "        pretrain = False\n",
    "        rho = tomograph(qc, qr)\n",
    "        print(rho)\n",
    "        coerencias_L, coerencias_R = results(rho, coerencias_R, coerencias_L)\n",
    "    mylist = [coerencias_L, coerencias_R]\n",
    "    with open('data/bf/bf-coherences.pkl', 'wb') as f:\n",
    "        pickle.dump(mylist, f)\n",
    "    with open('data/bf/bf-best_params.pkl', 'wb') as f:\n",
    "        pickle.dump(params, f)\n",
    "    plot_theoric_bf(list_p)\n",
    "    plots(list_p, coerencias_R, coerencias_L)\n",
    "    #save = [list_p, coerencias_R, coerencias_L]\n",
    "    #with open('data/BPFlist_p-coerencias_R-coerencias_L.pkl', 'wb') as f:\n",
    "    #    pickle.dump(save, f)\n",
    "    "
   ]
  },
  {
   "cell_type": "code",
   "execution_count": 8,
   "metadata": {},
   "outputs": [
    {
     "name": "stdout",
     "output_type": "stream",
     "text": [
      "0 de 21\n",
      "[[ 4.94474664e-01+0.j          4.96761234e-01-0.00349451j\n",
      "   2.31717868e-02+0.01430692j -1.25511452e-02+0.00702632j]\n",
      " [ 4.96761234e-01+0.00349451j  5.02093717e-01+0.j\n",
      "   2.45510729e-02+0.0138672j  -1.13327125e-02+0.00628935j]\n",
      " [ 2.31717868e-02-0.01430692j  2.45510729e-02-0.0138672j\n",
      "   2.27512899e-03+0.j          3.71433461e-04+0.00067686j]\n",
      " [-1.25511452e-02-0.00702632j -1.13327125e-02-0.00628935j\n",
      "   3.71433461e-04-0.00067686j  1.15649021e-03+0.j        ]]\n",
      "1 de 21\n",
      "[[ 0.45939415+0.j          0.47070744-0.02374841j  0.09310708-0.02024371j\n",
      "  -0.12839732-0.00074379j]\n",
      " [ 0.47070744+0.02374841j  0.48434305+0.j          0.09677257-0.0164379j\n",
      "  -0.13134326-0.00772134j]\n",
      " [ 0.09310708+0.02024371j  0.09677257+0.0164379j   0.02020999+0.j\n",
      "  -0.0257184 -0.00582655j]\n",
      " [-0.12839732+0.00074379j -0.13134326+0.00772134j -0.0257184 +0.00582655j\n",
      "   0.0360528 +0.j        ]]\n",
      "2 de 21\n",
      "[[ 0.46958138+0.j          0.44560626-0.03612269j  0.14574112-0.00588501j\n",
      "  -0.1660661 +0.00981636j]\n",
      " [ 0.44560626+0.03612269j  0.42585896+0.j          0.13850149+0.00553694j\n",
      "  -0.15831834-0.00345953j]\n",
      " [ 0.14574112+0.00588501j  0.13850149-0.00553694j  0.04562307+0.j\n",
      "  -0.05169093+0.00097507j]\n",
      " [-0.1660661 -0.00981636j -0.15831834+0.00345953j -0.05169093-0.00097507j\n",
      "   0.0589366 +0.j        ]]\n",
      "3 de 21\n"
     ]
    }
   ],
   "source": [
    "list_p = np.linspace(0,1,21)\n",
    "run_calcs(list_p, 85)"
   ]
  },
  {
   "cell_type": "code",
   "execution_count": 4,
   "metadata": {},
   "outputs": [
    {
     "name": "stdout",
     "output_type": "stream",
     "text": [
      "0 de 21\n"
     ]
    },
    {
     "ename": "KeyboardInterrupt",
     "evalue": "",
     "output_type": "error",
     "traceback": [
      "\u001b[0;31m---------------------------------------------------------------------------\u001b[0m",
      "\u001b[0;31mKeyboardInterrupt\u001b[0m                         Traceback (most recent call last)",
      "Cell \u001b[0;32mIn[4], line 2\u001b[0m\n\u001b[1;32m      1\u001b[0m list_p \u001b[39m=\u001b[39m np\u001b[39m.\u001b[39mlinspace(\u001b[39m0\u001b[39m,\u001b[39m1\u001b[39m,\u001b[39m21\u001b[39m)\n\u001b[0;32m----> 2\u001b[0m run_calcs(list_p, \u001b[39m85\u001b[39;49m)\n",
      "Cell \u001b[0;32mIn[3], line 24\u001b[0m, in \u001b[0;36mrun_calcs\u001b[0;34m(list_p, epochs)\u001b[0m\n\u001b[1;32m     22\u001b[0m \u001b[39mprint\u001b[39m(\u001b[39mf\u001b[39m\u001b[39m'\u001b[39m\u001b[39m{\u001b[39;00mcount\u001b[39m}\u001b[39;00m\u001b[39m de \u001b[39m\u001b[39m{\u001b[39;00m\u001b[39mlen\u001b[39m(list_p)\u001b[39m}\u001b[39;00m\u001b[39m'\u001b[39m)\n\u001b[1;32m     23\u001b[0m count \u001b[39m+\u001b[39m\u001b[39m=\u001b[39m \u001b[39m1\u001b[39m\n\u001b[0;32m---> 24\u001b[0m circuit, _ \u001b[39m=\u001b[39m general_vqacircuit_penny(params, n_qubits, depht)\n\u001b[1;32m     26\u001b[0m \u001b[39m# defina o estado a ser preparado abaixo\u001b[39;00m\n\u001b[1;32m     27\u001b[0m \u001b[39m#------------------------------------------------------------\u001b[39;00m\n\u001b[1;32m     28\u001b[0m \u001b[39m#target_op = bpf(pi/2, 0, p)\u001b[39;00m\n\u001b[1;32m     29\u001b[0m target_op \u001b[39m=\u001b[39m get_target_op(calculated_rho_AB(pi\u001b[39m/\u001b[39m\u001b[39m2\u001b[39m, \u001b[39m0\u001b[39m, p))\n",
      "File \u001b[0;32m~/Desktop/Runtime-qiskit/src/vqa_tools.py:353\u001b[0m, in \u001b[0;36mgeneral_vqacircuit_penny\u001b[0;34m(params, n_qubits, depht)\u001b[0m\n\u001b[1;32m    349\u001b[0m n \u001b[39m=\u001b[39m \u001b[39m3\u001b[39m\u001b[39m*\u001b[39mn_qubits\u001b[39m*\u001b[39m(\u001b[39m1\u001b[39m\u001b[39m+\u001b[39mdepht)\n\u001b[1;32m    350\u001b[0m \u001b[39m#params = random_params(n)\u001b[39;00m\n\u001b[1;32m    351\u001b[0m \u001b[39m#params = [i for i in range(0,n)]\u001b[39;00m\n\u001b[1;32m    352\u001b[0m \u001b[39m#print(len(params))\u001b[39;00m\n\u001b[0;32m--> 353\u001b[0m device \u001b[39m=\u001b[39m get_device(n_qubits)\n\u001b[1;32m    354\u001b[0m \u001b[39m@qml\u001b[39m\u001b[39m.\u001b[39mqnode(device, interface\u001b[39m=\u001b[39m\u001b[39m\"\u001b[39m\u001b[39mtorch\u001b[39m\u001b[39m\"\u001b[39m)\n\u001b[1;32m    355\u001b[0m \u001b[39mdef\u001b[39;00m \u001b[39mcircuit\u001b[39m(params, M\u001b[39m=\u001b[39m\u001b[39mNone\u001b[39;00m):\n\u001b[1;32m    356\u001b[0m     w \u001b[39m=\u001b[39m [i \u001b[39mfor\u001b[39;00m i \u001b[39min\u001b[39;00m \u001b[39mrange\u001b[39m(n_qubits)]\n",
      "File \u001b[0;32m~/Desktop/Runtime-qiskit/src/vqa_tools.py:10\u001b[0m, in \u001b[0;36mget_device\u001b[0;34m(n_qubit)\u001b[0m\n\u001b[1;32m      9\u001b[0m \u001b[39mdef\u001b[39;00m \u001b[39mget_device\u001b[39m(n_qubit):\n\u001b[0;32m---> 10\u001b[0m     device \u001b[39m=\u001b[39m qml\u001b[39m.\u001b[39;49mdevice(\u001b[39m'\u001b[39;49m\u001b[39mqiskit.aer\u001b[39;49m\u001b[39m'\u001b[39;49m, wires\u001b[39m=\u001b[39;49mn_qubit, backend\u001b[39m=\u001b[39;49m\u001b[39m'\u001b[39;49m\u001b[39mqasm_simulator\u001b[39;49m\u001b[39m'\u001b[39;49m)\n\u001b[1;32m     11\u001b[0m     \u001b[39mreturn\u001b[39;00m device\n",
      "File \u001b[0;32m~/Desktop/Runtime-qiskit/env/lib/python3.10/site-packages/pennylane/__init__.py:317\u001b[0m, in \u001b[0;36mdevice\u001b[0;34m(name, *args, **kwargs)\u001b[0m\n\u001b[1;32m    314\u001b[0m options\u001b[39m.\u001b[39mupdate(kwargs)\n\u001b[1;32m    316\u001b[0m \u001b[39m# loads the device class\u001b[39;00m\n\u001b[0;32m--> 317\u001b[0m plugin_device_class \u001b[39m=\u001b[39m plugin_devices[name]\u001b[39m.\u001b[39;49mload()\n\u001b[1;32m    319\u001b[0m \u001b[39mif\u001b[39;00m Version(version()) \u001b[39mnot\u001b[39;00m \u001b[39min\u001b[39;00m SimpleSpec(plugin_device_class\u001b[39m.\u001b[39mpennylane_requires):\n\u001b[1;32m    320\u001b[0m     \u001b[39mraise\u001b[39;00m DeviceError(\n\u001b[1;32m    321\u001b[0m         \u001b[39mf\u001b[39m\u001b[39m\"\u001b[39m\u001b[39mThe \u001b[39m\u001b[39m{\u001b[39;00mname\u001b[39m}\u001b[39;00m\u001b[39m plugin requires PennyLane versions \u001b[39m\u001b[39m{\u001b[39;00mplugin_device_class\u001b[39m.\u001b[39mpennylane_requires\u001b[39m}\u001b[39;00m\u001b[39m, \u001b[39m\u001b[39m\"\u001b[39m\n\u001b[1;32m    322\u001b[0m         \u001b[39mf\u001b[39m\u001b[39m\"\u001b[39m\u001b[39mhowever PennyLane version \u001b[39m\u001b[39m{\u001b[39;00m__version__\u001b[39m}\u001b[39;00m\u001b[39m is installed.\u001b[39m\u001b[39m\"\u001b[39m\n\u001b[1;32m    323\u001b[0m     )\n",
      "File \u001b[0;32m~/Desktop/Runtime-qiskit/env/lib/python3.10/site-packages/pkg_resources/__init__.py:2465\u001b[0m, in \u001b[0;36mEntryPoint.load\u001b[0;34m(self, require, *args, **kwargs)\u001b[0m\n\u001b[1;32m   2463\u001b[0m \u001b[39mif\u001b[39;00m require:\n\u001b[1;32m   2464\u001b[0m     \u001b[39mself\u001b[39m\u001b[39m.\u001b[39mrequire(\u001b[39m*\u001b[39margs, \u001b[39m*\u001b[39m\u001b[39m*\u001b[39mkwargs)\n\u001b[0;32m-> 2465\u001b[0m \u001b[39mreturn\u001b[39;00m \u001b[39mself\u001b[39;49m\u001b[39m.\u001b[39;49mresolve()\n",
      "File \u001b[0;32m~/Desktop/Runtime-qiskit/env/lib/python3.10/site-packages/pkg_resources/__init__.py:2471\u001b[0m, in \u001b[0;36mEntryPoint.resolve\u001b[0;34m(self)\u001b[0m\n\u001b[1;32m   2467\u001b[0m \u001b[39mdef\u001b[39;00m \u001b[39mresolve\u001b[39m(\u001b[39mself\u001b[39m):\n\u001b[1;32m   2468\u001b[0m \u001b[39m    \u001b[39m\u001b[39m\"\"\"\u001b[39;00m\n\u001b[1;32m   2469\u001b[0m \u001b[39m    Resolve the entry point from its module and attrs.\u001b[39;00m\n\u001b[1;32m   2470\u001b[0m \u001b[39m    \"\"\"\u001b[39;00m\n\u001b[0;32m-> 2471\u001b[0m     module \u001b[39m=\u001b[39m \u001b[39m__import__\u001b[39;49m(\u001b[39mself\u001b[39;49m\u001b[39m.\u001b[39;49mmodule_name, fromlist\u001b[39m=\u001b[39;49m[\u001b[39m'\u001b[39;49m\u001b[39m__name__\u001b[39;49m\u001b[39m'\u001b[39;49m], level\u001b[39m=\u001b[39;49m\u001b[39m0\u001b[39;49m)\n\u001b[1;32m   2472\u001b[0m     \u001b[39mtry\u001b[39;00m:\n\u001b[1;32m   2473\u001b[0m         \u001b[39mreturn\u001b[39;00m functools\u001b[39m.\u001b[39mreduce(\u001b[39mgetattr\u001b[39m, \u001b[39mself\u001b[39m\u001b[39m.\u001b[39mattrs, module)\n",
      "File \u001b[0;32m~/Desktop/Runtime-qiskit/env/lib/python3.10/site-packages/pennylane_qiskit/__init__.py:18\u001b[0m\n\u001b[1;32m     16\u001b[0m \u001b[39mfrom\u001b[39;00m \u001b[39m.\u001b[39;00m\u001b[39m_version\u001b[39;00m \u001b[39mimport\u001b[39;00m __version__\n\u001b[1;32m     17\u001b[0m \u001b[39mfrom\u001b[39;00m \u001b[39m.\u001b[39;00m\u001b[39maer\u001b[39;00m \u001b[39mimport\u001b[39;00m AerDevice\n\u001b[0;32m---> 18\u001b[0m \u001b[39mfrom\u001b[39;00m \u001b[39m.\u001b[39;00m\u001b[39mbasic_aer\u001b[39;00m \u001b[39mimport\u001b[39;00m BasicAerDevice\n\u001b[1;32m     19\u001b[0m \u001b[39mfrom\u001b[39;00m \u001b[39m.\u001b[39;00m\u001b[39mibmq\u001b[39;00m \u001b[39mimport\u001b[39;00m IBMQDevice\n\u001b[1;32m     20\u001b[0m \u001b[39mfrom\u001b[39;00m \u001b[39m.\u001b[39;00m\u001b[39mconverter\u001b[39;00m \u001b[39mimport\u001b[39;00m load, load_qasm, load_qasm_from_file\n",
      "File \u001b[0;32m~/Desktop/Runtime-qiskit/env/lib/python3.10/site-packages/pennylane_qiskit/basic_aer.py:24\u001b[0m\n\u001b[1;32m     19\u001b[0m \u001b[39mimport\u001b[39;00m \u001b[39mqiskit\u001b[39;00m\n\u001b[1;32m     21\u001b[0m \u001b[39mfrom\u001b[39;00m \u001b[39m.\u001b[39;00m\u001b[39mqiskit_device\u001b[39;00m \u001b[39mimport\u001b[39;00m QiskitDevice\n\u001b[0;32m---> 24\u001b[0m \u001b[39mclass\u001b[39;00m \u001b[39mBasicAerDevice\u001b[39;00m(QiskitDevice):\n\u001b[1;32m     25\u001b[0m \u001b[39m    \u001b[39m\u001b[39m\"\"\"A PennyLane device for the native Python Qiskit simulator.\u001b[39;00m\n\u001b[1;32m     26\u001b[0m \n\u001b[1;32m     27\u001b[0m \u001b[39m    Please see the `Qiskit documentations <https://qiskit.org/documentation/>`_\u001b[39;00m\n\u001b[0;32m   (...)\u001b[0m\n\u001b[1;32m     48\u001b[0m \u001b[39m            to simulate a device compliant circuit, you can specify a backend here.\u001b[39;00m\n\u001b[1;32m     49\u001b[0m \u001b[39m    \"\"\"\u001b[39;00m\n\u001b[1;32m     51\u001b[0m     short_name \u001b[39m=\u001b[39m \u001b[39m\"\u001b[39m\u001b[39mqiskit.basicaer\u001b[39m\u001b[39m\"\u001b[39m\n",
      "File \u001b[0;32m/usr/lib/python3.10/abc.py:106\u001b[0m, in \u001b[0;36mABCMeta.__new__\u001b[0;34m(mcls, name, bases, namespace, **kwargs)\u001b[0m\n\u001b[1;32m    105\u001b[0m \u001b[39mdef\u001b[39;00m \u001b[39m__new__\u001b[39m(mcls, name, bases, namespace, \u001b[39m*\u001b[39m\u001b[39m*\u001b[39mkwargs):\n\u001b[0;32m--> 106\u001b[0m     \u001b[39mcls\u001b[39m \u001b[39m=\u001b[39m \u001b[39msuper\u001b[39;49m()\u001b[39m.\u001b[39;49m\u001b[39m__new__\u001b[39;49m(mcls, name, bases, namespace, \u001b[39m*\u001b[39;49m\u001b[39m*\u001b[39;49mkwargs)\n\u001b[1;32m    107\u001b[0m     _abc_init(\u001b[39mcls\u001b[39m)\n\u001b[1;32m    108\u001b[0m     \u001b[39mreturn\u001b[39;00m \u001b[39mcls\u001b[39m\n",
      "\u001b[0;31mKeyboardInterrupt\u001b[0m: "
     ]
    }
   ],
   "source": [
    "list_p = np.linspace(0,1,21)\n",
    "run_calcs(list_p, 85)"
   ]
  }
 ],
 "metadata": {
  "kernelspec": {
   "display_name": "env",
   "language": "python",
   "name": "python3"
  },
  "language_info": {
   "codemirror_mode": {
    "name": "ipython",
    "version": 3
   },
   "file_extension": ".py",
   "mimetype": "text/x-python",
   "name": "python",
   "nbconvert_exporter": "python",
   "pygments_lexer": "ipython3",
   "version": "3.10.6"
  },
  "orig_nbformat": 4
 },
 "nbformat": 4,
 "nbformat_minor": 2
}
