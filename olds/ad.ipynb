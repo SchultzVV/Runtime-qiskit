{
 "cells": [
  {
   "cell_type": "code",
   "execution_count": 5,
   "metadata": {},
   "outputs": [
    {
     "data": {
      "text/plain": [
       "<function matplotlib.pyplot.show(close=None, block=None)>"
      ]
     },
     "execution_count": 5,
     "metadata": {},
     "output_type": "execute_result"
    },
    {
     "data": {
      "image/png": "[encoded data removed]",
      "text/plain": [
       "<Figure size 640x480 with 1 Axes>"
      ]
     },
     "metadata": {},
     "output_type": "display_data"
    }
   ],
   "source": [
    "'''                                  ReadMe                                                      '''\n",
    "'''# Nessa célula vamos apenas mudar a função geradora do estado a ser preparado                 '''\n",
    "'''# Basta alterar a função que gera o estado, nesse caso target_op = init_state_ref(n_qubits, p)'''\n",
    "\n",
    "import cmath\n",
    "from torch import tensor\n",
    "from numpy import sin,cos,sqrt,outer,zeros, pi\n",
    "\n",
    "from theoric.ad_theoric import *\n",
    "from src.vqa_tools import general_vqacircuit_penny \n",
    "from src.generalize import *\n",
    "\n",
    "def state_amplitude_damping(theta, phi, p):\n",
    "    state = zeros(4,dtype=complex)    \n",
    "    state[0] = cos(theta/2)\n",
    "    state[1] = sqrt(p)\n",
    "    state[2] = sqrt(1-p)*cmath.exp(1j*phi)*sin(theta/2)\n",
    "    target_op = outer(state.conj(), state)\n",
    "    target_op = tensor(target_op)\n",
    "    return target_op\n",
    "\n",
    "\n",
    "def run_calcs(list_p, epochs):\n",
    "    coerencias_R = []\n",
    "    coerencias_L = []\n",
    "    pretrain = True\n",
    "    count = 0\n",
    "    n_qubits = 2\n",
    "    depht = 3\n",
    "    _, params, _, _ = start_things(n_qubits, depht)\n",
    "    for p in list_p:\n",
    "        print(f'{count} de {len(list_p)}')\n",
    "        count += 1\n",
    "\n",
    "        circuit, _ = general_vqacircuit_penny(n_qubits, depht)\n",
    "\n",
    "        #_, target_op = init_state_ref(n_qubits, p)\n",
    "        #_, target_op = init_state_bpf(n_qubits, p)\n",
    "        target_op = state_amplitude_damping(pi/2, 0, p)\n",
    "\n",
    "        qc, qr, params = optmize(epochs, n_qubits, circuit, params, target_op, pretrain,70)\n",
    "        pretrain = False\n",
    "        rho = tomograph(qc, qr)\n",
    "        #print(rho)\n",
    "        coerencias_L, coerencias_R = results(rho, coerencias_R, coerencias_L)\n",
    "\n",
    "    plot_theoric_ad()\n",
    "    plots(list_p, coerencias_R, coerencias_L)\n",
    "\n",
    "plot_theoric_ad()\n",
    "plt.xlabel(' p ')\n",
    "plt.ylabel(' Coerência L1 ')\n",
    "plt.show"
   ]
  },
  {
   "attachments": {},
   "cell_type": "markdown",
   "metadata": {},
   "source": [
    "# Results\n"
   ]
  },
  {
   "cell_type": "code",
   "execution_count": 6,
   "metadata": {},
   "outputs": [
    {
     "name": "stdout",
     "output_type": "stream",
     "text": [
      "[0.   0.25 0.5  0.75 1.  ]\n",
      "0 de 5\n"
     ]
    },
    {
     "ename": "IndexError",
     "evalue": "index 24 is out of bounds for dimension 0 with size 24",
     "output_type": "error",
     "traceback": [
      "\u001b[0;31m---------------------------------------------------------------------------\u001b[0m",
      "\u001b[0;31mIndexError\u001b[0m                                Traceback (most recent call last)",
      "Cell \u001b[0;32mIn[6], line 4\u001b[0m\n\u001b[1;32m      2\u001b[0m list_p \u001b[39m=\u001b[39m np\u001b[39m.\u001b[39mlinspace(\u001b[39m0\u001b[39m,\u001b[39m1\u001b[39m,\u001b[39m5\u001b[39m)\n\u001b[1;32m      3\u001b[0m \u001b[39mprint\u001b[39m(list_p)\n\u001b[0;32m----> 4\u001b[0m run_calcs(list_p, \u001b[39m35\u001b[39;49m)\n",
      "Cell \u001b[0;32mIn[5], line 41\u001b[0m, in \u001b[0;36mrun_calcs\u001b[0;34m(list_p, epochs)\u001b[0m\n\u001b[1;32m     37\u001b[0m \u001b[39m#_, target_op = init_state_ref(n_qubits, p)\u001b[39;00m\n\u001b[1;32m     38\u001b[0m \u001b[39m#_, target_op = init_state_bpf(n_qubits, p)\u001b[39;00m\n\u001b[1;32m     39\u001b[0m target_op \u001b[39m=\u001b[39m state_amplitude_damping(pi\u001b[39m/\u001b[39m\u001b[39m2\u001b[39m, \u001b[39m0\u001b[39m, p)\n\u001b[0;32m---> 41\u001b[0m qc, qr, params \u001b[39m=\u001b[39m optmize(epochs, n_qubits, circuit, params, target_op, pretrain,\u001b[39m70\u001b[39;49m)\n\u001b[1;32m     42\u001b[0m pretrain \u001b[39m=\u001b[39m \u001b[39mFalse\u001b[39;00m\n\u001b[1;32m     43\u001b[0m rho \u001b[39m=\u001b[39m tomograph(qc, qr)\n",
      "File \u001b[0;32m~/Desktop/Runtime-qiskit/src/generalize.py:20\u001b[0m, in \u001b[0;36moptmize\u001b[0;34m(epochs, n_qubits, circuit, params, target_op, pretrain, pretrain_steps)\u001b[0m\n\u001b[1;32m     19\u001b[0m \u001b[39mdef\u001b[39;00m \u001b[39moptmize\u001b[39m(epochs, n_qubits, circuit, params, target_op, pretrain, pretrain_steps):\n\u001b[0;32m---> 20\u001b[0m     best_params, f \u001b[39m=\u001b[39m train_ok(epochs, circuit, params, target_op, pretrain, pretrain_steps)\n\u001b[1;32m     21\u001b[0m     parametros \u001b[39m=\u001b[39m best_params\u001b[39m.\u001b[39mclone()\u001b[39m.\u001b[39mdetach()\u001b[39m.\u001b[39mnumpy()\n\u001b[1;32m     22\u001b[0m     qc, qr \u001b[39m=\u001b[39m general_vqacircuit_qiskit(n_qubits, parametros)\n",
      "File \u001b[0;32m~/Desktop/Runtime-qiskit/src/vqa_tools.py:74\u001b[0m, in \u001b[0;36mtrain_ok\u001b[0;34m(epocas, circuit, params, target_op, pretrain, pretrain_steps)\u001b[0m\n\u001b[1;32m     72\u001b[0m \u001b[39mdef\u001b[39;00m \u001b[39mtrain_ok\u001b[39m(epocas, circuit, params, target_op, pretrain, pretrain_steps):\n\u001b[1;32m     73\u001b[0m     opt \u001b[39m=\u001b[39m torch\u001b[39m.\u001b[39moptim\u001b[39m.\u001b[39mAdam([params], lr\u001b[39m=\u001b[39m\u001b[39m0.1\u001b[39m)\n\u001b[0;32m---> 74\u001b[0m     best_loss \u001b[39m=\u001b[39m \u001b[39m1\u001b[39m\u001b[39m*\u001b[39mcost(circuit, params, target_op)\n\u001b[1;32m     75\u001b[0m     device \u001b[39m=\u001b[39m torch\u001b[39m.\u001b[39mdevice(\u001b[39m\"\u001b[39m\u001b[39mcuda\u001b[39m\u001b[39m\"\u001b[39m \u001b[39mif\u001b[39;00m torch\u001b[39m.\u001b[39mcuda\u001b[39m.\u001b[39mis_available() \u001b[39melse\u001b[39;00m \u001b[39m\"\u001b[39m\u001b[39mcpu\u001b[39m\u001b[39m\"\u001b[39m)\n\u001b[1;32m     76\u001b[0m     \u001b[39m#print(device)\u001b[39;00m\n",
      "File \u001b[0;32m~/Desktop/Runtime-qiskit/src/vqa_tools.py:30\u001b[0m, in \u001b[0;36mcost\u001b[0;34m(circuit, params, target_op)\u001b[0m\n\u001b[1;32m     29\u001b[0m \u001b[39mdef\u001b[39;00m \u001b[39mcost\u001b[39m(circuit, params, target_op):\n\u001b[0;32m---> 30\u001b[0m     L \u001b[39m=\u001b[39m (\u001b[39m1\u001b[39m\u001b[39m-\u001b[39m(circuit(params, M\u001b[39m=\u001b[39;49mtarget_op)))\u001b[39m*\u001b[39m\u001b[39m*\u001b[39m\u001b[39m2\u001b[39m\n\u001b[1;32m     31\u001b[0m     \u001b[39mreturn\u001b[39;00m L\n",
      "File \u001b[0;32m~/Desktop/Runtime-qiskit/env/lib/python3.10/site-packages/pennylane/qnode.py:842\u001b[0m, in \u001b[0;36mQNode.__call__\u001b[0;34m(self, *args, **kwargs)\u001b[0m\n\u001b[1;32m    839\u001b[0m         set_shots(\u001b[39mself\u001b[39m\u001b[39m.\u001b[39m_original_device, override_shots)(\u001b[39mself\u001b[39m\u001b[39m.\u001b[39m_update_gradient_fn)()\n\u001b[1;32m    841\u001b[0m \u001b[39m# construct the tape\u001b[39;00m\n\u001b[0;32m--> 842\u001b[0m \u001b[39mself\u001b[39;49m\u001b[39m.\u001b[39;49mconstruct(args, kwargs)\n\u001b[1;32m    844\u001b[0m cache \u001b[39m=\u001b[39m \u001b[39mself\u001b[39m\u001b[39m.\u001b[39mexecute_kwargs\u001b[39m.\u001b[39mget(\u001b[39m\"\u001b[39m\u001b[39mcache\u001b[39m\u001b[39m\"\u001b[39m, \u001b[39mFalse\u001b[39;00m)\n\u001b[1;32m    845\u001b[0m using_custom_cache \u001b[39m=\u001b[39m (\n\u001b[1;32m    846\u001b[0m     \u001b[39mhasattr\u001b[39m(cache, \u001b[39m\"\u001b[39m\u001b[39m__getitem__\u001b[39m\u001b[39m\"\u001b[39m)\n\u001b[1;32m    847\u001b[0m     \u001b[39mand\u001b[39;00m \u001b[39mhasattr\u001b[39m(cache, \u001b[39m\"\u001b[39m\u001b[39m__setitem__\u001b[39m\u001b[39m\"\u001b[39m)\n\u001b[1;32m    848\u001b[0m     \u001b[39mand\u001b[39;00m \u001b[39mhasattr\u001b[39m(cache, \u001b[39m\"\u001b[39m\u001b[39m__delitem__\u001b[39m\u001b[39m\"\u001b[39m)\n\u001b[1;32m    849\u001b[0m )\n",
      "File \u001b[0;32m~/Desktop/Runtime-qiskit/env/lib/python3.10/site-packages/pennylane/qnode.py:751\u001b[0m, in \u001b[0;36mQNode.construct\u001b[0;34m(self, args, kwargs)\u001b[0m\n\u001b[1;32m    748\u001b[0m \u001b[39mif\u001b[39;00m old_interface \u001b[39m==\u001b[39m \u001b[39m\"\u001b[39m\u001b[39mauto\u001b[39m\u001b[39m\"\u001b[39m:\n\u001b[1;32m    749\u001b[0m     \u001b[39mself\u001b[39m\u001b[39m.\u001b[39minterface \u001b[39m=\u001b[39m qml\u001b[39m.\u001b[39mmath\u001b[39m.\u001b[39mget_interface(\u001b[39m*\u001b[39margs, \u001b[39m*\u001b[39m\u001b[39mlist\u001b[39m(kwargs\u001b[39m.\u001b[39mvalues()))\n\u001b[0;32m--> 751\u001b[0m \u001b[39mself\u001b[39m\u001b[39m.\u001b[39m_tape \u001b[39m=\u001b[39m make_qscript(\u001b[39mself\u001b[39;49m\u001b[39m.\u001b[39;49mfunc)(\u001b[39m*\u001b[39;49margs, \u001b[39m*\u001b[39;49m\u001b[39m*\u001b[39;49mkwargs)\n\u001b[1;32m    752\u001b[0m \u001b[39mself\u001b[39m\u001b[39m.\u001b[39m_qfunc_output \u001b[39m=\u001b[39m \u001b[39mself\u001b[39m\u001b[39m.\u001b[39mtape\u001b[39m.\u001b[39m_qfunc_output\n\u001b[1;32m    754\u001b[0m params \u001b[39m=\u001b[39m \u001b[39mself\u001b[39m\u001b[39m.\u001b[39mtape\u001b[39m.\u001b[39mget_parameters(trainable_only\u001b[39m=\u001b[39m\u001b[39mFalse\u001b[39;00m)\n",
      "File \u001b[0;32m~/Desktop/Runtime-qiskit/env/lib/python3.10/site-packages/pennylane/tape/qscript.py:1371\u001b[0m, in \u001b[0;36mmake_qscript.<locals>.wrapper\u001b[0;34m(*args, **kwargs)\u001b[0m\n\u001b[1;32m   1369\u001b[0m \u001b[39mdef\u001b[39;00m \u001b[39mwrapper\u001b[39m(\u001b[39m*\u001b[39margs, \u001b[39m*\u001b[39m\u001b[39m*\u001b[39mkwargs):\n\u001b[1;32m   1370\u001b[0m     \u001b[39mwith\u001b[39;00m AnnotatedQueue() \u001b[39mas\u001b[39;00m q:\n\u001b[0;32m-> 1371\u001b[0m         result \u001b[39m=\u001b[39m fn(\u001b[39m*\u001b[39;49margs, \u001b[39m*\u001b[39;49m\u001b[39m*\u001b[39;49mkwargs)\n\u001b[1;32m   1373\u001b[0m     qscript \u001b[39m=\u001b[39m QuantumScript\u001b[39m.\u001b[39mfrom_queue(q)\n\u001b[1;32m   1374\u001b[0m     qscript\u001b[39m.\u001b[39m_qfunc_output \u001b[39m=\u001b[39m result\n",
      "File \u001b[0;32m~/Desktop/Runtime-qiskit/src/vqa_tools.py:369\u001b[0m, in \u001b[0;36mgeneral_vqacircuit_penny.<locals>.circuit\u001b[0;34m(params, M)\u001b[0m\n\u001b[1;32m    367\u001b[0m \u001b[39mfor\u001b[39;00m j \u001b[39min\u001b[39;00m \u001b[39mrange\u001b[39m(depht\u001b[39m+\u001b[39m\u001b[39m1\u001b[39m):\n\u001b[1;32m    368\u001b[0m     \u001b[39mfor\u001b[39;00m i \u001b[39min\u001b[39;00m \u001b[39mrange\u001b[39m(n_qubits):\n\u001b[0;32m--> 369\u001b[0m         qml\u001b[39m.\u001b[39mRX(params[aux], wires\u001b[39m=\u001b[39mi)\n\u001b[1;32m    370\u001b[0m         aux \u001b[39m+\u001b[39m\u001b[39m=\u001b[39m \u001b[39m1\u001b[39m\n\u001b[1;32m    371\u001b[0m         qml\u001b[39m.\u001b[39mRY(params[aux], wires\u001b[39m=\u001b[39mi)\n",
      "\u001b[0;31mIndexError\u001b[0m: index 24 is out of bounds for dimension 0 with size 24"
     ]
    }
   ],
   "source": [
    "#list_p = [0,0.25,0.5,0.75,1]\n",
    "list_p = np.linspace(0,1,5)\n",
    "print(list_p)\n",
    "run_calcs(list_p, 35)"
   ]
  },
  {
   "cell_type": "code",
   "execution_count": 14,
   "metadata": {},
   "outputs": [
    {
     "name": "stdout",
     "output_type": "stream",
     "text": [
      "[0.   0.25 0.5  0.75 1.  ]\n"
     ]
    }
   ],
   "source": [
    "list_p = np.linspace(0,1,5)\n",
    "print(list_p)"
   ]
  },
  {
   "cell_type": "code",
   "execution_count": null,
   "metadata": {},
   "outputs": [],
   "source": []
  }
 ],
 "metadata": {
  "kernelspec": {
   "display_name": "env",
   "language": "python",
   "name": "python3"
  },
  "language_info": {
   "codemirror_mode": {
    "name": "ipython",
    "version": 3
   },
   "file_extension": ".py",
   "mimetype": "text/x-python",
   "name": "python",
   "nbconvert_exporter": "python",
   "pygments_lexer": "ipython3",
   "version": "3.10.6"
  },
  "orig_nbformat": 4,
  "vscode": {
   "interpreter": {
    "hash": "f309f41cc1031c3222a5eb4c6b99ec5d3d1a742e018bf44f3accb1cd68cc28ab"
   }
  }
 },
 "nbformat": 4,
 "nbformat_minor": 2
}
